{
 "cells": [
  {
   "cell_type": "markdown",
   "metadata": {},
   "source": [
    "# Analyzing Fuel Economy Data\n"
    "### Overview\n",
    "I am going to use pythons pandas, numpy, and matplotlib to analyze fuel economy data for different car models from 2008 and 2018.\n",
    "\n",
    "I have conducted an Exploratory Data Analysis on both dataset to answer following questions:\n",
    "    1. Are more unique models using alternative fuels in 2018 compared to 2008? By how much?\n",
    "    2. How much have vehicle classes improved in fuel economy (increased in mpg)?\n",
    "    3. What are the characteristics of SmartWay vehicles? Have they changed over time? (mpg, greenhouse gas)\n",
    "    4. What features are associated with better fuel economy (mpg)?\n",
    "    5. For all of the models that were produced in 2008 that are still being produced in 2018, how much has the mpg improved and which vehicle improved the most?"
   ]
  },
  {
   "cell_type": "markdown",
   "metadata": {},
   "source": [
    "# Assessing Data\n",
    "\n",
    "We will explore the data and try to answer following questions about the data.\n",
    "- number of samples in each dataset\n",
    "- number of columns in each dataset\n",
    "- duplicate rows in each dataset\n",
    "- features with missing values\n",
    "- number of non-null unique values for features in each dataset\n",
    "- what those unique values are and counts for each"
   ]
  },
  {
   "cell_type": "code",
   "execution_count": 1,
   "metadata": {},
   "outputs": [],
   "source": [
    "# importing libraries\n",
    "import pandas as pd\n",
    "import numpy as np\n",
    "import matplotlib.pyplot as plt\n",
    "import seaborn as sns\n",
    "sns.set_style('darkgrid')\n",
    "%matplotlib inline"
   ]
  },
  {
   "cell_type": "code",
   "execution_count": 2,
   "metadata": {},
   "outputs": [],
   "source": [
    "df_08 = pd.read_csv('all_alpha_08.csv')\n",
    "df_18 = pd.read_csv('all_alpha_18.csv')"
   ]
  },
  {
   "cell_type": "code",
   "execution_count": 3,
   "metadata": {},
   "outputs": [
    {
     "data": {
      "text/html": [
       "<div>\n",
       "<style scoped>\n",
       "    .dataframe tbody tr th:only-of-type {\n",
       "        vertical-align: middle;\n",
       "    }\n",
       "\n",
       "    .dataframe tbody tr th {\n",
       "        vertical-align: top;\n",
       "    }\n",
       "\n",
       "    .dataframe thead th {\n",
       "        text-align: right;\n",
       "    }\n",
       "</style>\n",
       "<table border=\"1\" class=\"dataframe\">\n",
       "  <thead>\n",
       "    <tr style=\"text-align: right;\">\n",
       "      <th></th>\n",
       "      <th>Model</th>\n",
       "      <th>Displ</th>\n",
       "      <th>Cyl</th>\n",
       "      <th>Trans</th>\n",
       "      <th>Drive</th>\n",
       "      <th>Fuel</th>\n",
       "      <th>Sales Area</th>\n",
       "      <th>Stnd</th>\n",
       "      <th>Underhood ID</th>\n",
       "      <th>Veh Class</th>\n",
       "      <th>Air Pollution Score</th>\n",
       "      <th>FE Calc Appr</th>\n",
       "      <th>City MPG</th>\n",
       "      <th>Hwy MPG</th>\n",
       "      <th>Cmb MPG</th>\n",
       "      <th>Unadj Cmb MPG</th>\n",
       "      <th>Greenhouse Gas Score</th>\n",
       "      <th>SmartWay</th>\n",
       "    </tr>\n",
       "  </thead>\n",
       "  <tbody>\n",
       "    <tr>\n",
       "      <th>0</th>\n",
       "      <td>ACURA MDX</td>\n",
       "      <td>3.7</td>\n",
       "      <td>(6 cyl)</td>\n",
       "      <td>Auto-S5</td>\n",
       "      <td>4WD</td>\n",
       "      <td>Gasoline</td>\n",
       "      <td>CA</td>\n",
       "      <td>U2</td>\n",
       "      <td>8HNXT03.7PKR</td>\n",
       "      <td>SUV</td>\n",
       "      <td>7</td>\n",
       "      <td>Drv</td>\n",
       "      <td>15</td>\n",
       "      <td>20</td>\n",
       "      <td>17</td>\n",
       "      <td>22.0527</td>\n",
       "      <td>4</td>\n",
       "      <td>no</td>\n",
       "    </tr>\n",
       "    <tr>\n",
       "      <th>1</th>\n",
       "      <td>ACURA MDX</td>\n",
       "      <td>3.7</td>\n",
       "      <td>(6 cyl)</td>\n",
       "      <td>Auto-S5</td>\n",
       "      <td>4WD</td>\n",
       "      <td>Gasoline</td>\n",
       "      <td>FA</td>\n",
       "      <td>B5</td>\n",
       "      <td>8HNXT03.7PKR</td>\n",
       "      <td>SUV</td>\n",
       "      <td>6</td>\n",
       "      <td>Drv</td>\n",
       "      <td>15</td>\n",
       "      <td>20</td>\n",
       "      <td>17</td>\n",
       "      <td>22.0527</td>\n",
       "      <td>4</td>\n",
       "      <td>no</td>\n",
       "    </tr>\n",
       "    <tr>\n",
       "      <th>2</th>\n",
       "      <td>ACURA RDX</td>\n",
       "      <td>2.3</td>\n",
       "      <td>(4 cyl)</td>\n",
       "      <td>Auto-S5</td>\n",
       "      <td>4WD</td>\n",
       "      <td>Gasoline</td>\n",
       "      <td>CA</td>\n",
       "      <td>U2</td>\n",
       "      <td>8HNXT02.3DKR</td>\n",
       "      <td>SUV</td>\n",
       "      <td>7</td>\n",
       "      <td>Drv</td>\n",
       "      <td>17</td>\n",
       "      <td>22</td>\n",
       "      <td>19</td>\n",
       "      <td>24.1745</td>\n",
       "      <td>5</td>\n",
       "      <td>no</td>\n",
       "    </tr>\n",
       "    <tr>\n",
       "      <th>3</th>\n",
       "      <td>ACURA RDX</td>\n",
       "      <td>2.3</td>\n",
       "      <td>(4 cyl)</td>\n",
       "      <td>Auto-S5</td>\n",
       "      <td>4WD</td>\n",
       "      <td>Gasoline</td>\n",
       "      <td>FA</td>\n",
       "      <td>B5</td>\n",
       "      <td>8HNXT02.3DKR</td>\n",
       "      <td>SUV</td>\n",
       "      <td>6</td>\n",
       "      <td>Drv</td>\n",
       "      <td>17</td>\n",
       "      <td>22</td>\n",
       "      <td>19</td>\n",
       "      <td>24.1745</td>\n",
       "      <td>5</td>\n",
       "      <td>no</td>\n",
       "    </tr>\n",
       "    <tr>\n",
       "      <th>4</th>\n",
       "      <td>ACURA RL</td>\n",
       "      <td>3.5</td>\n",
       "      <td>(6 cyl)</td>\n",
       "      <td>Auto-S5</td>\n",
       "      <td>4WD</td>\n",
       "      <td>Gasoline</td>\n",
       "      <td>CA</td>\n",
       "      <td>U2</td>\n",
       "      <td>8HNXV03.5HKR</td>\n",
       "      <td>midsize car</td>\n",
       "      <td>7</td>\n",
       "      <td>Drv</td>\n",
       "      <td>16</td>\n",
       "      <td>24</td>\n",
       "      <td>19</td>\n",
       "      <td>24.5629</td>\n",
       "      <td>5</td>\n",
       "      <td>no</td>\n",
       "    </tr>\n",
       "  </tbody>\n",
       "</table>\n",
       "</div>"
      ],
      "text/plain": [
       "       Model  Displ      Cyl    Trans Drive      Fuel Sales Area Stnd  \\\n",
       "0  ACURA MDX    3.7  (6 cyl)  Auto-S5   4WD  Gasoline         CA   U2   \n",
       "1  ACURA MDX    3.7  (6 cyl)  Auto-S5   4WD  Gasoline         FA   B5   \n",
       "2  ACURA RDX    2.3  (4 cyl)  Auto-S5   4WD  Gasoline         CA   U2   \n",
       "3  ACURA RDX    2.3  (4 cyl)  Auto-S5   4WD  Gasoline         FA   B5   \n",
       "4   ACURA RL    3.5  (6 cyl)  Auto-S5   4WD  Gasoline         CA   U2   \n",
       "\n",
       "   Underhood ID    Veh Class Air Pollution Score FE Calc Appr City MPG  \\\n",
       "0  8HNXT03.7PKR          SUV                   7          Drv       15   \n",
       "1  8HNXT03.7PKR          SUV                   6          Drv       15   \n",
       "2  8HNXT02.3DKR          SUV                   7          Drv       17   \n",
       "3  8HNXT02.3DKR          SUV                   6          Drv       17   \n",
       "4  8HNXV03.5HKR  midsize car                   7          Drv       16   \n",
       "\n",
       "  Hwy MPG Cmb MPG  Unadj Cmb MPG Greenhouse Gas Score SmartWay  \n",
       "0      20      17        22.0527                    4       no  \n",
       "1      20      17        22.0527                    4       no  \n",
       "2      22      19        24.1745                    5       no  \n",
       "3      22      19        24.1745                    5       no  \n",
       "4      24      19        24.5629                    5       no  "
      ]
     },
     "execution_count": 3,
     "metadata": {},
     "output_type": "execute_result"
    }
   ],
   "source": [
    "df_08.head()"
   ]
  },
  {
   "cell_type": "code",
   "execution_count": 4,
   "metadata": {},
   "outputs": [
    {
     "data": {
      "text/html": [
       "<div>\n",
       "<style scoped>\n",
       "    .dataframe tbody tr th:only-of-type {\n",
       "        vertical-align: middle;\n",
       "    }\n",
       "\n",
       "    .dataframe tbody tr th {\n",
       "        vertical-align: top;\n",
       "    }\n",
       "\n",
       "    .dataframe thead th {\n",
       "        text-align: right;\n",
       "    }\n",
       "</style>\n",
       "<table border=\"1\" class=\"dataframe\">\n",
       "  <thead>\n",
       "    <tr style=\"text-align: right;\">\n",
       "      <th></th>\n",
       "      <th>Model</th>\n",
       "      <th>Displ</th>\n",
       "      <th>Cyl</th>\n",
       "      <th>Trans</th>\n",
       "      <th>Drive</th>\n",
       "      <th>Fuel</th>\n",
       "      <th>Cert Region</th>\n",
       "      <th>Stnd</th>\n",
       "      <th>Stnd Description</th>\n",
       "      <th>Underhood ID</th>\n",
       "      <th>Veh Class</th>\n",
       "      <th>Air Pollution Score</th>\n",
       "      <th>City MPG</th>\n",
       "      <th>Hwy MPG</th>\n",
       "      <th>Cmb MPG</th>\n",
       "      <th>Greenhouse Gas Score</th>\n",
       "      <th>SmartWay</th>\n",
       "      <th>Comb CO2</th>\n",
       "    </tr>\n",
       "  </thead>\n",
       "  <tbody>\n",
       "    <tr>\n",
       "      <th>0</th>\n",
       "      <td>ACURA RDX</td>\n",
       "      <td>3.5</td>\n",
       "      <td>6.0</td>\n",
       "      <td>SemiAuto-6</td>\n",
       "      <td>2WD</td>\n",
       "      <td>Gasoline</td>\n",
       "      <td>FA</td>\n",
       "      <td>T3B125</td>\n",
       "      <td>Federal Tier 3 Bin 125</td>\n",
       "      <td>JHNXT03.5GV3</td>\n",
       "      <td>small SUV</td>\n",
       "      <td>3</td>\n",
       "      <td>20</td>\n",
       "      <td>28</td>\n",
       "      <td>23</td>\n",
       "      <td>5</td>\n",
       "      <td>No</td>\n",
       "      <td>386</td>\n",
       "    </tr>\n",
       "    <tr>\n",
       "      <th>1</th>\n",
       "      <td>ACURA RDX</td>\n",
       "      <td>3.5</td>\n",
       "      <td>6.0</td>\n",
       "      <td>SemiAuto-6</td>\n",
       "      <td>2WD</td>\n",
       "      <td>Gasoline</td>\n",
       "      <td>CA</td>\n",
       "      <td>U2</td>\n",
       "      <td>California LEV-II ULEV</td>\n",
       "      <td>JHNXT03.5GV3</td>\n",
       "      <td>small SUV</td>\n",
       "      <td>3</td>\n",
       "      <td>20</td>\n",
       "      <td>28</td>\n",
       "      <td>23</td>\n",
       "      <td>5</td>\n",
       "      <td>No</td>\n",
       "      <td>386</td>\n",
       "    </tr>\n",
       "    <tr>\n",
       "      <th>2</th>\n",
       "      <td>ACURA RDX</td>\n",
       "      <td>3.5</td>\n",
       "      <td>6.0</td>\n",
       "      <td>SemiAuto-6</td>\n",
       "      <td>4WD</td>\n",
       "      <td>Gasoline</td>\n",
       "      <td>FA</td>\n",
       "      <td>T3B125</td>\n",
       "      <td>Federal Tier 3 Bin 125</td>\n",
       "      <td>JHNXT03.5GV3</td>\n",
       "      <td>small SUV</td>\n",
       "      <td>3</td>\n",
       "      <td>19</td>\n",
       "      <td>27</td>\n",
       "      <td>22</td>\n",
       "      <td>4</td>\n",
       "      <td>No</td>\n",
       "      <td>402</td>\n",
       "    </tr>\n",
       "    <tr>\n",
       "      <th>3</th>\n",
       "      <td>ACURA RDX</td>\n",
       "      <td>3.5</td>\n",
       "      <td>6.0</td>\n",
       "      <td>SemiAuto-6</td>\n",
       "      <td>4WD</td>\n",
       "      <td>Gasoline</td>\n",
       "      <td>CA</td>\n",
       "      <td>U2</td>\n",
       "      <td>California LEV-II ULEV</td>\n",
       "      <td>JHNXT03.5GV3</td>\n",
       "      <td>small SUV</td>\n",
       "      <td>3</td>\n",
       "      <td>19</td>\n",
       "      <td>27</td>\n",
       "      <td>22</td>\n",
       "      <td>4</td>\n",
       "      <td>No</td>\n",
       "      <td>402</td>\n",
       "    </tr>\n",
       "    <tr>\n",
       "      <th>4</th>\n",
       "      <td>ACURA TLX</td>\n",
       "      <td>2.4</td>\n",
       "      <td>4.0</td>\n",
       "      <td>AMS-8</td>\n",
       "      <td>2WD</td>\n",
       "      <td>Gasoline</td>\n",
       "      <td>CA</td>\n",
       "      <td>L3ULEV125</td>\n",
       "      <td>California LEV-III ULEV125</td>\n",
       "      <td>JHNXV02.4WH3</td>\n",
       "      <td>small car</td>\n",
       "      <td>3</td>\n",
       "      <td>23</td>\n",
       "      <td>33</td>\n",
       "      <td>27</td>\n",
       "      <td>6</td>\n",
       "      <td>No</td>\n",
       "      <td>330</td>\n",
       "    </tr>\n",
       "  </tbody>\n",
       "</table>\n",
       "</div>"
      ],
      "text/plain": [
       "       Model  Displ  Cyl       Trans Drive      Fuel Cert Region       Stnd  \\\n",
       "0  ACURA RDX    3.5  6.0  SemiAuto-6   2WD  Gasoline          FA     T3B125   \n",
       "1  ACURA RDX    3.5  6.0  SemiAuto-6   2WD  Gasoline          CA         U2   \n",
       "2  ACURA RDX    3.5  6.0  SemiAuto-6   4WD  Gasoline          FA     T3B125   \n",
       "3  ACURA RDX    3.5  6.0  SemiAuto-6   4WD  Gasoline          CA         U2   \n",
       "4  ACURA TLX    2.4  4.0       AMS-8   2WD  Gasoline          CA  L3ULEV125   \n",
       "\n",
       "             Stnd Description  Underhood ID  Veh Class  Air Pollution Score  \\\n",
       "0      Federal Tier 3 Bin 125  JHNXT03.5GV3  small SUV                    3   \n",
       "1      California LEV-II ULEV  JHNXT03.5GV3  small SUV                    3   \n",
       "2      Federal Tier 3 Bin 125  JHNXT03.5GV3  small SUV                    3   \n",
       "3      California LEV-II ULEV  JHNXT03.5GV3  small SUV                    3   \n",
       "4  California LEV-III ULEV125  JHNXV02.4WH3  small car                    3   \n",
       "\n",
       "  City MPG Hwy MPG Cmb MPG  Greenhouse Gas Score SmartWay Comb CO2  \n",
       "0       20      28      23                     5       No      386  \n",
       "1       20      28      23                     5       No      386  \n",
       "2       19      27      22                     4       No      402  \n",
       "3       19      27      22                     4       No      402  \n",
       "4       23      33      27                     6       No      330  "
      ]
     },
     "execution_count": 4,
     "metadata": {},
     "output_type": "execute_result"
    }
   ],
   "source": [
    "df_18.head()"
   ]
  },
  {
   "cell_type": "code",
   "execution_count": 5,
   "metadata": {},
   "outputs": [
    {
     "name": "stdout",
     "output_type": "stream",
     "text": [
      "Number of rows in 2008 and 2018 data set respectively are 2404 and 1611.\n",
      "\n",
      "Number of columns in 2008 and 2018 data set respectively are 18 and 18.\n",
      "\n"
     ]
    }
   ],
   "source": [
    "# number of samples in each dataset\n",
    "print('Number of rows in 2008 and 2018 data set respectively are '+str(df_08.shape[0])+' and '+str(df_18.shape[0])+'.\\n')\n",
    "print('Number of columns in 2008 and 2018 data set respectively are '+str(df_08.shape[1])+' and '+str(df_18.shape[1])+'.\\n')"
   ]
  },
  {
   "cell_type": "code",
   "execution_count": 6,
   "metadata": {},
   "outputs": [
    {
     "name": "stdout",
     "output_type": "stream",
     "text": [
      "Number of duplicate row in 2008 and 2018 dataset respectively are 25 and 0.\n"
     ]
    }
   ],
   "source": [
    "# duplicate rows in 2008 dataset\n",
    "print('Number of duplicate row in 2008 and 2018 dataset respectively are '+str(df_08.duplicated().sum())+' and '\n",
    "      +str(df_18.duplicated().sum())+'.')"
   ]
  },
  {
   "cell_type": "code",
   "execution_count": 7,
   "metadata": {},
   "outputs": [
    {
     "data": {
      "text/plain": [
       "Model                     0\n",
       "Displ                     0\n",
       "Cyl                     199\n",
       "Trans                   199\n",
       "Drive                    93\n",
       "Fuel                      0\n",
       "Sales Area                0\n",
       "Stnd                      0\n",
       "Underhood ID              0\n",
       "Veh Class                 0\n",
       "Air Pollution Score       0\n",
       "FE Calc Appr            199\n",
       "City MPG                199\n",
       "Hwy MPG                 199\n",
       "Cmb MPG                 199\n",
       "Unadj Cmb MPG           199\n",
       "Greenhouse Gas Score    199\n",
       "SmartWay                  0\n",
       "dtype: int64"
      ]
     },
     "execution_count": 7,
     "metadata": {},
     "output_type": "execute_result"
    }
   ],
   "source": [
    "#features with missing values\n",
    "df_08.isnull().sum()"
   ]
  },
  {
   "cell_type": "code",
   "execution_count": 8,
   "metadata": {},
   "outputs": [
    {
     "data": {
      "text/plain": [
       "Model                   0\n",
       "Displ                   2\n",
       "Cyl                     2\n",
       "Trans                   0\n",
       "Drive                   0\n",
       "Fuel                    0\n",
       "Cert Region             0\n",
       "Stnd                    0\n",
       "Stnd Description        0\n",
       "Underhood ID            0\n",
       "Veh Class               0\n",
       "Air Pollution Score     0\n",
       "City MPG                0\n",
       "Hwy MPG                 0\n",
       "Cmb MPG                 0\n",
       "Greenhouse Gas Score    0\n",
       "SmartWay                0\n",
       "Comb CO2                0\n",
       "dtype: int64"
      ]
     },
     "execution_count": 8,
     "metadata": {},
     "output_type": "execute_result"
    }
   ],
   "source": [
    "df_18.isnull().sum()"
   ]
  },
  {
   "cell_type": "code",
   "execution_count": 9,
   "metadata": {},
   "outputs": [
    {
     "data": {
      "text/plain": [
       "Model                    object\n",
       "Displ                   float64\n",
       "Cyl                      object\n",
       "Trans                    object\n",
       "Drive                    object\n",
       "Fuel                     object\n",
       "Sales Area               object\n",
       "Stnd                     object\n",
       "Underhood ID             object\n",
       "Veh Class                object\n",
       "Air Pollution Score      object\n",
       "FE Calc Appr             object\n",
       "City MPG                 object\n",
       "Hwy MPG                  object\n",
       "Cmb MPG                  object\n",
       "Unadj Cmb MPG           float64\n",
       "Greenhouse Gas Score     object\n",
       "SmartWay                 object\n",
       "dtype: object"
      ]
     },
     "execution_count": 9,
     "metadata": {},
     "output_type": "execute_result"
    }
   ],
   "source": [
    "# Data types for each variables in the 2008 dataset\n",
    "df_08.dtypes"
   ]
  },
  {
   "cell_type": "code",
   "execution_count": 10,
   "metadata": {},
   "outputs": [
    {
     "data": {
      "text/plain": [
       "Model                    object\n",
       "Displ                   float64\n",
       "Cyl                     float64\n",
       "Trans                    object\n",
       "Drive                    object\n",
       "Fuel                     object\n",
       "Cert Region              object\n",
       "Stnd                     object\n",
       "Stnd Description         object\n",
       "Underhood ID             object\n",
       "Veh Class                object\n",
       "Air Pollution Score       int64\n",
       "City MPG                 object\n",
       "Hwy MPG                  object\n",
       "Cmb MPG                  object\n",
       "Greenhouse Gas Score      int64\n",
       "SmartWay                 object\n",
       "Comb CO2                 object\n",
       "dtype: object"
      ]
     },
     "execution_count": 10,
     "metadata": {},
     "output_type": "execute_result"
    }
   ],
   "source": [
    "# # Data types for each variables in the 2018 dataset\n",
    "df_18.dtypes"
   ]
  },
  {
   "cell_type": "code",
   "execution_count": 11,
   "metadata": {},
   "outputs": [
    {
     "data": {
      "text/plain": [
       "Model                   436\n",
       "Displ                    47\n",
       "Cyl                       8\n",
       "Trans                    14\n",
       "Drive                     2\n",
       "Fuel                      5\n",
       "Sales Area                3\n",
       "Stnd                     12\n",
       "Underhood ID            343\n",
       "Veh Class                 9\n",
       "Air Pollution Score      13\n",
       "FE Calc Appr              2\n",
       "City MPG                 39\n",
       "Hwy MPG                  43\n",
       "Cmb MPG                  38\n",
       "Unadj Cmb MPG           721\n",
       "Greenhouse Gas Score     20\n",
       "SmartWay                  2\n",
       "dtype: int64"
      ]
     },
     "execution_count": 11,
     "metadata": {},
     "output_type": "execute_result"
    }
   ],
   "source": [
    "# number of non-null unique values for features in 2008 dataset\n",
    "df_08.nunique()"
   ]
  },
  {
   "cell_type": "code",
   "execution_count": 12,
   "metadata": {},
   "outputs": [
    {
     "data": {
      "text/plain": [
       "Model                   367\n",
       "Displ                    36\n",
       "Cyl                       7\n",
       "Trans                    26\n",
       "Drive                     2\n",
       "Fuel                      5\n",
       "Cert Region               2\n",
       "Stnd                     19\n",
       "Stnd Description         19\n",
       "Underhood ID            230\n",
       "Veh Class                 9\n",
       "Air Pollution Score       6\n",
       "City MPG                 58\n",
       "Hwy MPG                  62\n",
       "Cmb MPG                  57\n",
       "Greenhouse Gas Score     10\n",
       "SmartWay                  3\n",
       "Comb CO2                299\n",
       "dtype: int64"
      ]
     },
     "execution_count": 12,
     "metadata": {},
     "output_type": "execute_result"
    }
   ],
   "source": [
    "# number of non-null unique values for features in 2018 dataset\n",
    "df_18.nunique()"
   ]
  },
  {
   "cell_type": "code",
   "execution_count": 13,
   "metadata": {},
   "outputs": [
    {
     "data": {
      "text/plain": [
       "array(['Gasoline', 'ethanol/gas', 'ethanol', 'diesel', 'CNG'],\n",
       "      dtype=object)"
      ]
     },
     "execution_count": 13,
     "metadata": {},
     "output_type": "execute_result"
    }
   ],
   "source": [
    "df_08['Fuel'].unique()"
   ]
  },
  {
   "cell_type": "code",
   "execution_count": 14,
   "metadata": {},
   "outputs": [
    {
     "data": {
      "text/plain": [
       "array(['Gasoline', 'Gasoline/Electricity', 'Diesel', 'Ethanol/Gas',\n",
       "       'Electricity'], dtype=object)"
      ]
     },
     "execution_count": 14,
     "metadata": {},
     "output_type": "execute_result"
    }
   ],
   "source": [
    "df_18['Fuel'].unique()"
   ]
  },
  {
   "cell_type": "markdown",
   "metadata": {},
   "source": [
    "# Cleaning Column Labels And Dropping Extraneous Columns\n",
    "1. Drop extraneous columns that are not consistent or aren't relevant to our questions.\n",
    "    - From 2008 dataset: 'Stnd', 'Underhood ID', 'FE Calc Appr', 'Unadj Cmb MPG'\n",
    "    - From 2018 dataset: 'Stnd', 'Stnd Description', 'Underhood ID', 'Comb CO2'\n",
    "2. Renaming Columns labels\n",
    "    - Change the \"Sales Area\" column label in the 2008 dataset to \"Cert Region\" for consistency.\n",
    "    - Rename all column labels to replace spaces with underscores and convert everything to lowercase."
   ]
  },
  {
   "cell_type": "markdown",
   "metadata": {},
   "source": [
    "### Dropping Extraneous Columns"
   ]
  },
  {
   "cell_type": "code",
   "execution_count": 15,
   "metadata": {},
   "outputs": [
    {
     "data": {
      "text/html": [
       "<div>\n",
       "<style scoped>\n",
       "    .dataframe tbody tr th:only-of-type {\n",
       "        vertical-align: middle;\n",
       "    }\n",
       "\n",
       "    .dataframe tbody tr th {\n",
       "        vertical-align: top;\n",
       "    }\n",
       "\n",
       "    .dataframe thead th {\n",
       "        text-align: right;\n",
       "    }\n",
       "</style>\n",
       "<table border=\"1\" class=\"dataframe\">\n",
       "  <thead>\n",
       "    <tr style=\"text-align: right;\">\n",
       "      <th></th>\n",
       "      <th>Model</th>\n",
       "      <th>Displ</th>\n",
       "      <th>Cyl</th>\n",
       "      <th>Trans</th>\n",
       "      <th>Drive</th>\n",
       "      <th>Fuel</th>\n",
       "      <th>Sales Area</th>\n",
       "      <th>Veh Class</th>\n",
       "      <th>Air Pollution Score</th>\n",
       "      <th>City MPG</th>\n",
       "      <th>Hwy MPG</th>\n",
       "      <th>Cmb MPG</th>\n",
       "      <th>Greenhouse Gas Score</th>\n",
       "      <th>SmartWay</th>\n",
       "    </tr>\n",
       "  </thead>\n",
       "  <tbody>\n",
       "    <tr>\n",
       "      <th>0</th>\n",
       "      <td>ACURA MDX</td>\n",
       "      <td>3.7</td>\n",
       "      <td>(6 cyl)</td>\n",
       "      <td>Auto-S5</td>\n",
       "      <td>4WD</td>\n",
       "      <td>Gasoline</td>\n",
       "      <td>CA</td>\n",
       "      <td>SUV</td>\n",
       "      <td>7</td>\n",
       "      <td>15</td>\n",
       "      <td>20</td>\n",
       "      <td>17</td>\n",
       "      <td>4</td>\n",
       "      <td>no</td>\n",
       "    </tr>\n",
       "  </tbody>\n",
       "</table>\n",
       "</div>"
      ],
      "text/plain": [
       "       Model  Displ      Cyl    Trans Drive      Fuel Sales Area Veh Class  \\\n",
       "0  ACURA MDX    3.7  (6 cyl)  Auto-S5   4WD  Gasoline         CA       SUV   \n",
       "\n",
       "  Air Pollution Score City MPG Hwy MPG Cmb MPG Greenhouse Gas Score SmartWay  \n",
       "0                   7       15      20      17                    4       no  "
      ]
     },
     "execution_count": 15,
     "metadata": {},
     "output_type": "execute_result"
    }
   ],
   "source": [
    "#dropping extraneous columns from 2008\n",
    "df_08.drop(['Stnd', 'Underhood ID', 'FE Calc Appr', 'Unadj Cmb MPG'], axis=1, inplace= True)\n",
    "\n",
    "# validate changes\n",
    "df_08.head(1)"
   ]
  },
  {
   "cell_type": "code",
   "execution_count": 16,
   "metadata": {},
   "outputs": [
    {
     "data": {
      "text/html": [
       "<div>\n",
       "<style scoped>\n",
       "    .dataframe tbody tr th:only-of-type {\n",
       "        vertical-align: middle;\n",
       "    }\n",
       "\n",
       "    .dataframe tbody tr th {\n",
       "        vertical-align: top;\n",
       "    }\n",
       "\n",
       "    .dataframe thead th {\n",
       "        text-align: right;\n",
       "    }\n",
       "</style>\n",
       "<table border=\"1\" class=\"dataframe\">\n",
       "  <thead>\n",
       "    <tr style=\"text-align: right;\">\n",
       "      <th></th>\n",
       "      <th>Model</th>\n",
       "      <th>Displ</th>\n",
       "      <th>Cyl</th>\n",
       "      <th>Trans</th>\n",
       "      <th>Drive</th>\n",
       "      <th>Fuel</th>\n",
       "      <th>Cert Region</th>\n",
       "      <th>Veh Class</th>\n",
       "      <th>Air Pollution Score</th>\n",
       "      <th>City MPG</th>\n",
       "      <th>Hwy MPG</th>\n",
       "      <th>Cmb MPG</th>\n",
       "      <th>Greenhouse Gas Score</th>\n",
       "      <th>SmartWay</th>\n",
       "    </tr>\n",
       "  </thead>\n",
       "  <tbody>\n",
       "    <tr>\n",
       "      <th>0</th>\n",
       "      <td>ACURA RDX</td>\n",
       "      <td>3.5</td>\n",
       "      <td>6.0</td>\n",
       "      <td>SemiAuto-6</td>\n",
       "      <td>2WD</td>\n",
       "      <td>Gasoline</td>\n",
       "      <td>FA</td>\n",
       "      <td>small SUV</td>\n",
       "      <td>3</td>\n",
       "      <td>20</td>\n",
       "      <td>28</td>\n",
       "      <td>23</td>\n",
       "      <td>5</td>\n",
       "      <td>No</td>\n",
       "    </tr>\n",
       "  </tbody>\n",
       "</table>\n",
       "</div>"
      ],
      "text/plain": [
       "       Model  Displ  Cyl       Trans Drive      Fuel Cert Region  Veh Class  \\\n",
       "0  ACURA RDX    3.5  6.0  SemiAuto-6   2WD  Gasoline          FA  small SUV   \n",
       "\n",
       "   Air Pollution Score City MPG Hwy MPG Cmb MPG  Greenhouse Gas Score SmartWay  \n",
       "0                    3       20      28      23                     5       No  "
      ]
     },
     "execution_count": 16,
     "metadata": {},
     "output_type": "execute_result"
    }
   ],
   "source": [
    "#dropping extraneous columns from 2018\n",
    "df_18.drop(['Stnd', 'Stnd Description', 'Underhood ID', 'Comb CO2'], axis=1, inplace=True)\n",
    "\n",
    "#validate changes\n",
    "df_18.head(1)"
   ]
  },
  {
   "cell_type": "markdown",
   "metadata": {},
   "source": [
    "### Renaming Columns"
   ]
  },
  {
   "cell_type": "code",
   "execution_count": 17,
   "metadata": {},
   "outputs": [
    {
     "data": {
      "text/html": [
       "<div>\n",
       "<style scoped>\n",
       "    .dataframe tbody tr th:only-of-type {\n",
       "        vertical-align: middle;\n",
       "    }\n",
       "\n",
       "    .dataframe tbody tr th {\n",
       "        vertical-align: top;\n",
       "    }\n",
       "\n",
       "    .dataframe thead th {\n",
       "        text-align: right;\n",
       "    }\n",
       "</style>\n",
       "<table border=\"1\" class=\"dataframe\">\n",
       "  <thead>\n",
       "    <tr style=\"text-align: right;\">\n",
       "      <th></th>\n",
       "      <th>Model</th>\n",
       "      <th>Displ</th>\n",
       "      <th>Cyl</th>\n",
       "      <th>Trans</th>\n",
       "      <th>Drive</th>\n",
       "      <th>Fuel</th>\n",
       "      <th>Cert Region</th>\n",
       "      <th>Veh Class</th>\n",
       "      <th>Air Pollution Score</th>\n",
       "      <th>City MPG</th>\n",
       "      <th>Hwy MPG</th>\n",
       "      <th>Cmb MPG</th>\n",
       "      <th>Greenhouse Gas Score</th>\n",
       "      <th>SmartWay</th>\n",
       "    </tr>\n",
       "  </thead>\n",
       "  <tbody>\n",
       "    <tr>\n",
       "      <th>0</th>\n",
       "      <td>ACURA MDX</td>\n",
       "      <td>3.7</td>\n",
       "      <td>(6 cyl)</td>\n",
       "      <td>Auto-S5</td>\n",
       "      <td>4WD</td>\n",
       "      <td>Gasoline</td>\n",
       "      <td>CA</td>\n",
       "      <td>SUV</td>\n",
       "      <td>7</td>\n",
       "      <td>15</td>\n",
       "      <td>20</td>\n",
       "      <td>17</td>\n",
       "      <td>4</td>\n",
       "      <td>no</td>\n",
       "    </tr>\n",
       "  </tbody>\n",
       "</table>\n",
       "</div>"
      ],
      "text/plain": [
       "       Model  Displ      Cyl    Trans Drive      Fuel Cert Region Veh Class  \\\n",
       "0  ACURA MDX    3.7  (6 cyl)  Auto-S5   4WD  Gasoline          CA       SUV   \n",
       "\n",
       "  Air Pollution Score City MPG Hwy MPG Cmb MPG Greenhouse Gas Score SmartWay  \n",
       "0                   7       15      20      17                    4       no  "
      ]
     },
     "execution_count": 17,
     "metadata": {},
     "output_type": "execute_result"
    }
   ],
   "source": [
    "# Renaming \"Sales Area\" column label in the 2008 dataset to \"Cert Region\" for consistency.\n",
    "df_08.rename(columns={\"Sales Area\": \"Cert Region\"}, inplace=True)\n",
    "\n",
    "# validate changes\n",
    "df_08.head(1)"
   ]
  },
  {
   "cell_type": "code",
   "execution_count": 18,
   "metadata": {},
   "outputs": [
    {
     "data": {
      "text/html": [
       "<div>\n",
       "<style scoped>\n",
       "    .dataframe tbody tr th:only-of-type {\n",
       "        vertical-align: middle;\n",
       "    }\n",
       "\n",
       "    .dataframe tbody tr th {\n",
       "        vertical-align: top;\n",
       "    }\n",
       "\n",
       "    .dataframe thead th {\n",
       "        text-align: right;\n",
       "    }\n",
       "</style>\n",
       "<table border=\"1\" class=\"dataframe\">\n",
       "  <thead>\n",
       "    <tr style=\"text-align: right;\">\n",
       "      <th></th>\n",
       "      <th>model</th>\n",
       "      <th>displ</th>\n",
       "      <th>cyl</th>\n",
       "      <th>trans</th>\n",
       "      <th>drive</th>\n",
       "      <th>fuel</th>\n",
       "      <th>cert_region</th>\n",
       "      <th>veh_class</th>\n",
       "      <th>air_pollution_score</th>\n",
       "      <th>city_mpg</th>\n",
       "      <th>hwy_mpg</th>\n",
       "      <th>cmb_mpg</th>\n",
       "      <th>greenhouse_gas_score</th>\n",
       "      <th>smartway</th>\n",
       "    </tr>\n",
       "  </thead>\n",
       "  <tbody>\n",
       "    <tr>\n",
       "      <th>0</th>\n",
       "      <td>ACURA MDX</td>\n",
       "      <td>3.7</td>\n",
       "      <td>(6 cyl)</td>\n",
       "      <td>Auto-S5</td>\n",
       "      <td>4WD</td>\n",
       "      <td>Gasoline</td>\n",
       "      <td>CA</td>\n",
       "      <td>SUV</td>\n",
       "      <td>7</td>\n",
       "      <td>15</td>\n",
       "      <td>20</td>\n",
       "      <td>17</td>\n",
       "      <td>4</td>\n",
       "      <td>no</td>\n",
       "    </tr>\n",
       "  </tbody>\n",
       "</table>\n",
       "</div>"
      ],
      "text/plain": [
       "       model  displ      cyl    trans drive      fuel cert_region veh_class  \\\n",
       "0  ACURA MDX    3.7  (6 cyl)  Auto-S5   4WD  Gasoline          CA       SUV   \n",
       "\n",
       "  air_pollution_score city_mpg hwy_mpg cmb_mpg greenhouse_gas_score smartway  \n",
       "0                   7       15      20      17                    4       no  "
      ]
     },
     "execution_count": 18,
     "metadata": {},
     "output_type": "execute_result"
    }
   ],
   "source": [
    "# replace spaces with underscores and lowercase labels for 2008 dataset\n",
    "df_08.rename(columns=lambda x : x.strip().lower().replace(' ','_'), inplace=True)\n",
    "\n",
    "# validate changes\n",
    "df_08.head(1)"
   ]
  },
  {
   "cell_type": "code",
   "execution_count": 19,
   "metadata": {},
   "outputs": [
    {
     "data": {
      "text/html": [
       "<div>\n",
       "<style scoped>\n",
       "    .dataframe tbody tr th:only-of-type {\n",
       "        vertical-align: middle;\n",
       "    }\n",
       "\n",
       "    .dataframe tbody tr th {\n",
       "        vertical-align: top;\n",
       "    }\n",
       "\n",
       "    .dataframe thead th {\n",
       "        text-align: right;\n",
       "    }\n",
       "</style>\n",
       "<table border=\"1\" class=\"dataframe\">\n",
       "  <thead>\n",
       "    <tr style=\"text-align: right;\">\n",
       "      <th></th>\n",
       "      <th>model</th>\n",
       "      <th>displ</th>\n",
       "      <th>cyl</th>\n",
       "      <th>trans</th>\n",
       "      <th>drive</th>\n",
       "      <th>fuel</th>\n",
       "      <th>cert_region</th>\n",
       "      <th>veh_class</th>\n",
       "      <th>air_pollution_score</th>\n",
       "      <th>city_mpg</th>\n",
       "      <th>hwy_mpg</th>\n",
       "      <th>cmb_mpg</th>\n",
       "      <th>greenhouse_gas_score</th>\n",
       "      <th>smartway</th>\n",
       "    </tr>\n",
       "  </thead>\n",
       "  <tbody>\n",
       "    <tr>\n",
       "      <th>0</th>\n",
       "      <td>ACURA RDX</td>\n",
       "      <td>3.5</td>\n",
       "      <td>6.0</td>\n",
       "      <td>SemiAuto-6</td>\n",
       "      <td>2WD</td>\n",
       "      <td>Gasoline</td>\n",
       "      <td>FA</td>\n",
       "      <td>small SUV</td>\n",
       "      <td>3</td>\n",
       "      <td>20</td>\n",
       "      <td>28</td>\n",
       "      <td>23</td>\n",
       "      <td>5</td>\n",
       "      <td>No</td>\n",
       "    </tr>\n",
       "  </tbody>\n",
       "</table>\n",
       "</div>"
      ],
      "text/plain": [
       "       model  displ  cyl       trans drive      fuel cert_region  veh_class  \\\n",
       "0  ACURA RDX    3.5  6.0  SemiAuto-6   2WD  Gasoline          FA  small SUV   \n",
       "\n",
       "   air_pollution_score city_mpg hwy_mpg cmb_mpg  greenhouse_gas_score smartway  \n",
       "0                    3       20      28      23                     5       No  "
      ]
     },
     "execution_count": 19,
     "metadata": {},
     "output_type": "execute_result"
    }
   ],
   "source": [
    "# replace spaces with underscores and lowercase labels for 2018 dataset\n",
    "df_18.rename(columns=lambda x : x.strip().lower().replace(' ','_'), inplace=True)\n",
    "\n",
    "#validate changes\n",
    "df_18.head(1)"
   ]
  },
  {
   "cell_type": "code",
   "execution_count": 20,
   "metadata": {},
   "outputs": [
    {
     "data": {
      "text/plain": [
       "array([ True,  True,  True,  True,  True,  True,  True,  True,  True,\n",
       "        True,  True,  True,  True,  True])"
      ]
     },
     "execution_count": 20,
     "metadata": {},
     "output_type": "execute_result"
    }
   ],
   "source": [
    "# confirm column labels for 2008 and 2018 datasets are identical\n",
    "df_08.columns == df_18.columns"
   ]
  },
  {
   "cell_type": "markdown",
   "metadata": {},
   "source": [
    "# Filter, Drop Nulls, Dedupe\n",
    "1. Filter: For consistency, only compare cars certified by California standards.\n",
    "2. Drop Nulls: Drop any rows in both datasets that contain missing values.\n",
    "3. Dedupe: Drop any duplicate rows in both datasets."
   ]
  },
  {
   "cell_type": "markdown",
   "metadata": {},
   "source": [
    "## Filter Data"
   ]
  },
  {
   "cell_type": "code",
   "execution_count": 21,
   "metadata": {},
   "outputs": [],
   "source": [
    "# filter datasets for rows following California standards\n",
    "df_08 = df_08.query('cert_region == \"CA\"')\n",
    "df_18 = df_18.query('cert_region == \"CA\"')"
   ]
  },
  {
   "cell_type": "code",
   "execution_count": 22,
   "metadata": {},
   "outputs": [
    {
     "data": {
      "text/plain": [
       "array(['CA'], dtype=object)"
      ]
     },
     "execution_count": 22,
     "metadata": {},
     "output_type": "execute_result"
    }
   ],
   "source": [
    "# confirm only certification region is California\n",
    "df_08['cert_region'].unique()"
   ]
  },
  {
   "cell_type": "code",
   "execution_count": 23,
   "metadata": {},
   "outputs": [
    {
     "data": {
      "text/plain": [
       "array(['CA'], dtype=object)"
      ]
     },
     "execution_count": 23,
     "metadata": {},
     "output_type": "execute_result"
    }
   ],
   "source": [
    "# confirm only certification region is California\n",
    "df_18['cert_region'].unique()"
   ]
  },
  {
   "cell_type": "code",
   "execution_count": 24,
   "metadata": {},
   "outputs": [],
   "source": [
    "# drop certification region columns form both datasets\n",
    "df_08.drop('cert_region', axis=1, inplace=True)\n",
    "df_18.drop('cert_region', axis=1, inplace=True)"
   ]
  },
  {
   "cell_type": "code",
   "execution_count": 25,
   "metadata": {},
   "outputs": [
    {
     "data": {
      "text/plain": [
       "(1084, 13)"
      ]
     },
     "execution_count": 25,
     "metadata": {},
     "output_type": "execute_result"
    }
   ],
   "source": [
    "df_08.shape"
   ]
  },
  {
   "cell_type": "code",
   "execution_count": 26,
   "metadata": {},
   "outputs": [
    {
     "data": {
      "text/plain": [
       "(798, 13)"
      ]
     },
     "execution_count": 26,
     "metadata": {},
     "output_type": "execute_result"
    }
   ],
   "source": [
    "df_18.shape"
   ]
  },
  {
   "cell_type": "markdown",
   "metadata": {},
   "source": [
    "## Drop Rows with Missing Values"
   ]
  },
  {
   "cell_type": "code",
   "execution_count": 27,
   "metadata": {},
   "outputs": [
    {
     "data": {
      "text/plain": [
       "model                    0\n",
       "displ                    0\n",
       "cyl                     75\n",
       "trans                   75\n",
       "drive                   37\n",
       "fuel                     0\n",
       "veh_class                0\n",
       "air_pollution_score      0\n",
       "city_mpg                75\n",
       "hwy_mpg                 75\n",
       "cmb_mpg                 75\n",
       "greenhouse_gas_score    75\n",
       "smartway                 0\n",
       "dtype: int64"
      ]
     },
     "execution_count": 27,
     "metadata": {},
     "output_type": "execute_result"
    }
   ],
   "source": [
    "# view missing value count for each feature in 2008\n",
    "df_08.isnull().sum()"
   ]
  },
  {
   "cell_type": "code",
   "execution_count": 28,
   "metadata": {},
   "outputs": [
    {
     "data": {
      "text/plain": [
       "model                   0\n",
       "displ                   1\n",
       "cyl                     1\n",
       "trans                   0\n",
       "drive                   0\n",
       "fuel                    0\n",
       "veh_class               0\n",
       "air_pollution_score     0\n",
       "city_mpg                0\n",
       "hwy_mpg                 0\n",
       "cmb_mpg                 0\n",
       "greenhouse_gas_score    0\n",
       "smartway                0\n",
       "dtype: int64"
      ]
     },
     "execution_count": 28,
     "metadata": {},
     "output_type": "execute_result"
    }
   ],
   "source": [
    "# view missing value count for each feature in 2018\n",
    "df_18.isnull().sum()"
   ]
  },
  {
   "cell_type": "code",
   "execution_count": 29,
   "metadata": {},
   "outputs": [],
   "source": [
    "# drop rows with any null values in both datasets\n",
    "df_08.dropna(inplace=True)\n",
    "df_18.dropna(inplace=True)"
   ]
  },
  {
   "cell_type": "code",
   "execution_count": 30,
   "metadata": {},
   "outputs": [
    {
     "data": {
      "text/plain": [
       "False"
      ]
     },
     "execution_count": 30,
     "metadata": {},
     "output_type": "execute_result"
    }
   ],
   "source": [
    "# checks if any of columns in 2008 have null values - should print False\n",
    "df_08.isnull().sum().any()"
   ]
  },
  {
   "cell_type": "code",
   "execution_count": 31,
   "metadata": {},
   "outputs": [
    {
     "data": {
      "text/plain": [
       "False"
      ]
     },
     "execution_count": 31,
     "metadata": {},
     "output_type": "execute_result"
    }
   ],
   "source": [
    "# checks if any of columns in 2008 have null values - should print False\n",
    "df_18.isnull().sum().any()"
   ]
  },
  {
   "cell_type": "markdown",
   "metadata": {},
   "source": [
    "## Dedupe Data"
   ]
  },
  {
   "cell_type": "code",
   "execution_count": 32,
   "metadata": {},
   "outputs": [
    {
     "name": "stdout",
     "output_type": "stream",
     "text": [
      "Number of duplicate row in 2008 and 2018 dataset respectively are 23 and 3.\n"
     ]
    }
   ],
   "source": [
    "# duplicate rows in both dataset\n",
    "print('Number of duplicate row in 2008 and 2018 dataset respectively are '+str(df_08.duplicated().sum())+' and '\n",
    "      +str(df_18.duplicated().sum())+'.')"
   ]
  },
  {
   "cell_type": "code",
   "execution_count": 33,
   "metadata": {},
   "outputs": [],
   "source": [
    "#drop duplicates in both dataset\n",
    "df_08.drop_duplicates(inplace=True)\n",
    "df_18.drop_duplicates(inplace=True)"
   ]
  },
  {
   "cell_type": "code",
   "execution_count": 34,
   "metadata": {},
   "outputs": [
    {
     "name": "stdout",
     "output_type": "stream",
     "text": [
      "Number of duplicate row in 2008 and 2018 dataset respectively are 0 and 0.\n"
     ]
    }
   ],
   "source": [
    "# check for duplicate rows in both dataset again\n",
    "print('Number of duplicate row in 2008 and 2018 dataset respectively are '+str(df_08.duplicated().sum())+' and '\n",
    "      +str(df_18.duplicated().sum())+'.')"
   ]
  },
  {
   "cell_type": "markdown",
   "metadata": {},
   "source": [
    "# Inspecting Data Types\n",
    "Inspect the data types in both dataset and make necessary changes."
   ]
  },
  {
   "cell_type": "code",
   "execution_count": 35,
   "metadata": {},
   "outputs": [
    {
     "data": {
      "text/plain": [
       "model                    object\n",
       "displ                   float64\n",
       "cyl                      object\n",
       "trans                    object\n",
       "drive                    object\n",
       "fuel                     object\n",
       "veh_class                object\n",
       "air_pollution_score      object\n",
       "city_mpg                 object\n",
       "hwy_mpg                  object\n",
       "cmb_mpg                  object\n",
       "greenhouse_gas_score     object\n",
       "smartway                 object\n",
       "dtype: object"
      ]
     },
     "execution_count": 35,
     "metadata": {},
     "output_type": "execute_result"
    }
   ],
   "source": [
    "# inspect the datatypes for 2008 data\n",
    "df_08.dtypes"
   ]
  },
  {
   "cell_type": "code",
   "execution_count": 36,
   "metadata": {},
   "outputs": [
    {
     "data": {
      "text/plain": [
       "model                    object\n",
       "displ                   float64\n",
       "cyl                     float64\n",
       "trans                    object\n",
       "drive                    object\n",
       "fuel                     object\n",
       "veh_class                object\n",
       "air_pollution_score       int64\n",
       "city_mpg                 object\n",
       "hwy_mpg                  object\n",
       "cmb_mpg                  object\n",
       "greenhouse_gas_score      int64\n",
       "smartway                 object\n",
       "dtype: object"
      ]
     },
     "execution_count": 36,
     "metadata": {},
     "output_type": "execute_result"
    }
   ],
   "source": [
    "# inspect the datatypes for 2008 data\n",
    "df_18.dtypes"
   ]
  },
  {
   "cell_type": "code",
   "execution_count": 37,
   "metadata": {},
   "outputs": [
    {
     "data": {
      "text/plain": [
       "(6 cyl)     409\n",
       "(4 cyl)     283\n",
       "(8 cyl)     199\n",
       "(5 cyl)      48\n",
       "(12 cyl)     30\n",
       "(10 cyl)     14\n",
       "(2 cyl)       2\n",
       "(16 cyl)      1\n",
       "Name: cyl, dtype: int64"
      ]
     },
     "execution_count": 37,
     "metadata": {},
     "output_type": "execute_result"
    }
   ],
   "source": [
    "# check value counts for the 2008 cyl column\n",
    "df_08['cyl'].value_counts()"
   ]
  },
  {
   "cell_type": "code",
   "execution_count": 38,
   "metadata": {},
   "outputs": [
    {
     "data": {
      "text/plain": [
       "4.0     365\n",
       "6.0     246\n",
       "8.0     153\n",
       "3.0      18\n",
       "12.0      9\n",
       "5.0       2\n",
       "16.0      1\n",
       "Name: cyl, dtype: int64"
      ]
     },
     "execution_count": 38,
     "metadata": {},
     "output_type": "execute_result"
    }
   ],
   "source": [
    "# check value counts for the 2018 cyl column\n",
    "df_18['cyl'].value_counts()"
   ]
  },
  {
   "cell_type": "markdown",
   "metadata": {},
   "source": [
    "# Fixing `cyl` Data Type\n",
    "- 2008: extract int from string\n",
    "- 2018: convert float to int"
   ]
  },
  {
   "cell_type": "code",
   "execution_count": 39,
   "metadata": {},
   "outputs": [],
   "source": [
    "# Extract int from strings in the 2008 cyl column\n",
    "df_08['cyl'] = df_08.cyl.str.extract('(\\d+)').astype(int)"
   ]
  },
  {
   "cell_type": "code",
   "execution_count": 40,
   "metadata": {},
   "outputs": [
    {
     "data": {
      "text/plain": [
       "6     409\n",
       "4     283\n",
       "8     199\n",
       "5      48\n",
       "12     30\n",
       "10     14\n",
       "2       2\n",
       "16      1\n",
       "Name: cyl, dtype: int64"
      ]
     },
     "execution_count": 40,
     "metadata": {},
     "output_type": "execute_result"
    }
   ],
   "source": [
    "# Check value counts for 2008 cyl column again to confirm the change\n",
    "df_08.cyl.value_counts()"
   ]
  },
  {
   "cell_type": "code",
   "execution_count": 41,
   "metadata": {},
   "outputs": [],
   "source": [
    "# convert 2018 cyl column to int\n",
    "df_18.cyl = df_18.cyl.astype(int)"
   ]
  },
  {
   "cell_type": "code",
   "execution_count": 42,
   "metadata": {},
   "outputs": [
    {
     "data": {
      "text/plain": [
       "4     365\n",
       "6     246\n",
       "8     153\n",
       "3      18\n",
       "12      9\n",
       "5       2\n",
       "16      1\n",
       "Name: cyl, dtype: int64"
      ]
     },
     "execution_count": 42,
     "metadata": {},
     "output_type": "execute_result"
    }
   ],
   "source": [
    "# Check value counts for 2018 cyl column again to confirm the change\n",
    "df_18.cyl.value_counts()"
   ]
  },
  {
   "cell_type": "markdown",
   "metadata": {},
   "source": [
    "# Fixing `air_pollution_score` Data Type\n",
    "- 2008: convert string to float\n",
    "- 2018: convert int to float"
   ]
  },
  {
   "cell_type": "code",
   "execution_count": 43,
   "metadata": {},
   "outputs": [
    {
     "data": {
      "text/plain": [
       "6      500\n",
       "7      398\n",
       "9.5     80\n",
       "9        7\n",
       "6/4      1\n",
       "Name: air_pollution_score, dtype: int64"
      ]
     },
     "execution_count": 43,
     "metadata": {},
     "output_type": "execute_result"
    }
   ],
   "source": [
    "df_08.air_pollution_score.value_counts()"
   ]
  },
  {
   "cell_type": "code",
   "execution_count": 44,
   "metadata": {},
   "outputs": [
    {
     "data": {
      "text/plain": [
       "3    372\n",
       "5    187\n",
       "7    139\n",
       "1     89\n",
       "6      7\n",
       "Name: air_pollution_score, dtype: int64"
      ]
     },
     "execution_count": 44,
     "metadata": {},
     "output_type": "execute_result"
    }
   ],
   "source": [
    "df_18.air_pollution_score.value_counts()"
   ]
  },
  {
   "cell_type": "code",
   "execution_count": 45,
   "metadata": {},
   "outputs": [
    {
     "ename": "ValueError",
     "evalue": "could not convert string to float: '6/4'",
     "output_type": "error",
     "traceback": [
      "\u001b[1;31m---------------------------------------------------------------------------\u001b[0m",
      "\u001b[1;31mValueError\u001b[0m                                Traceback (most recent call last)",
      "\u001b[1;32m<ipython-input-45-9b3c9a12f8f8>\u001b[0m in \u001b[0;36m<module>\u001b[1;34m\u001b[0m\n\u001b[1;32m----> 1\u001b[1;33m \u001b[0mdf_08\u001b[0m\u001b[1;33m.\u001b[0m\u001b[0mair_pollution_score\u001b[0m\u001b[1;33m.\u001b[0m\u001b[0mastype\u001b[0m\u001b[1;33m(\u001b[0m\u001b[0mfloat\u001b[0m\u001b[1;33m)\u001b[0m\u001b[1;33m\u001b[0m\u001b[1;33m\u001b[0m\u001b[0m\n\u001b[0m",
      "\u001b[1;32m~\\Anaconda3\\lib\\site-packages\\pandas\\core\\generic.py\u001b[0m in \u001b[0;36mastype\u001b[1;34m(self, dtype, copy, errors)\u001b[0m\n\u001b[0;32m   5696\u001b[0m         \u001b[1;32melse\u001b[0m\u001b[1;33m:\u001b[0m\u001b[1;33m\u001b[0m\u001b[1;33m\u001b[0m\u001b[0m\n\u001b[0;32m   5697\u001b[0m             \u001b[1;31m# else, only a single dtype is given\u001b[0m\u001b[1;33m\u001b[0m\u001b[1;33m\u001b[0m\u001b[1;33m\u001b[0m\u001b[0m\n\u001b[1;32m-> 5698\u001b[1;33m             \u001b[0mnew_data\u001b[0m \u001b[1;33m=\u001b[0m \u001b[0mself\u001b[0m\u001b[1;33m.\u001b[0m\u001b[0m_data\u001b[0m\u001b[1;33m.\u001b[0m\u001b[0mastype\u001b[0m\u001b[1;33m(\u001b[0m\u001b[0mdtype\u001b[0m\u001b[1;33m=\u001b[0m\u001b[0mdtype\u001b[0m\u001b[1;33m,\u001b[0m \u001b[0mcopy\u001b[0m\u001b[1;33m=\u001b[0m\u001b[0mcopy\u001b[0m\u001b[1;33m,\u001b[0m \u001b[0merrors\u001b[0m\u001b[1;33m=\u001b[0m\u001b[0merrors\u001b[0m\u001b[1;33m)\u001b[0m\u001b[1;33m\u001b[0m\u001b[1;33m\u001b[0m\u001b[0m\n\u001b[0m\u001b[0;32m   5699\u001b[0m             \u001b[1;32mreturn\u001b[0m \u001b[0mself\u001b[0m\u001b[1;33m.\u001b[0m\u001b[0m_constructor\u001b[0m\u001b[1;33m(\u001b[0m\u001b[0mnew_data\u001b[0m\u001b[1;33m)\u001b[0m\u001b[1;33m.\u001b[0m\u001b[0m__finalize__\u001b[0m\u001b[1;33m(\u001b[0m\u001b[0mself\u001b[0m\u001b[1;33m)\u001b[0m\u001b[1;33m\u001b[0m\u001b[1;33m\u001b[0m\u001b[0m\n\u001b[0;32m   5700\u001b[0m \u001b[1;33m\u001b[0m\u001b[0m\n",
      "\u001b[1;32m~\\Anaconda3\\lib\\site-packages\\pandas\\core\\internals\\managers.py\u001b[0m in \u001b[0;36mastype\u001b[1;34m(self, dtype, copy, errors)\u001b[0m\n\u001b[0;32m    580\u001b[0m \u001b[1;33m\u001b[0m\u001b[0m\n\u001b[0;32m    581\u001b[0m     \u001b[1;32mdef\u001b[0m \u001b[0mastype\u001b[0m\u001b[1;33m(\u001b[0m\u001b[0mself\u001b[0m\u001b[1;33m,\u001b[0m \u001b[0mdtype\u001b[0m\u001b[1;33m,\u001b[0m \u001b[0mcopy\u001b[0m\u001b[1;33m:\u001b[0m \u001b[0mbool\u001b[0m \u001b[1;33m=\u001b[0m \u001b[1;32mFalse\u001b[0m\u001b[1;33m,\u001b[0m \u001b[0merrors\u001b[0m\u001b[1;33m:\u001b[0m \u001b[0mstr\u001b[0m \u001b[1;33m=\u001b[0m \u001b[1;34m\"raise\"\u001b[0m\u001b[1;33m)\u001b[0m\u001b[1;33m:\u001b[0m\u001b[1;33m\u001b[0m\u001b[1;33m\u001b[0m\u001b[0m\n\u001b[1;32m--> 582\u001b[1;33m         \u001b[1;32mreturn\u001b[0m \u001b[0mself\u001b[0m\u001b[1;33m.\u001b[0m\u001b[0mapply\u001b[0m\u001b[1;33m(\u001b[0m\u001b[1;34m\"astype\"\u001b[0m\u001b[1;33m,\u001b[0m \u001b[0mdtype\u001b[0m\u001b[1;33m=\u001b[0m\u001b[0mdtype\u001b[0m\u001b[1;33m,\u001b[0m \u001b[0mcopy\u001b[0m\u001b[1;33m=\u001b[0m\u001b[0mcopy\u001b[0m\u001b[1;33m,\u001b[0m \u001b[0merrors\u001b[0m\u001b[1;33m=\u001b[0m\u001b[0merrors\u001b[0m\u001b[1;33m)\u001b[0m\u001b[1;33m\u001b[0m\u001b[1;33m\u001b[0m\u001b[0m\n\u001b[0m\u001b[0;32m    583\u001b[0m \u001b[1;33m\u001b[0m\u001b[0m\n\u001b[0;32m    584\u001b[0m     \u001b[1;32mdef\u001b[0m \u001b[0mconvert\u001b[0m\u001b[1;33m(\u001b[0m\u001b[0mself\u001b[0m\u001b[1;33m,\u001b[0m \u001b[1;33m**\u001b[0m\u001b[0mkwargs\u001b[0m\u001b[1;33m)\u001b[0m\u001b[1;33m:\u001b[0m\u001b[1;33m\u001b[0m\u001b[1;33m\u001b[0m\u001b[0m\n",
      "\u001b[1;32m~\\Anaconda3\\lib\\site-packages\\pandas\\core\\internals\\managers.py\u001b[0m in \u001b[0;36mapply\u001b[1;34m(self, f, filter, **kwargs)\u001b[0m\n\u001b[0;32m    440\u001b[0m                 \u001b[0mapplied\u001b[0m \u001b[1;33m=\u001b[0m \u001b[0mb\u001b[0m\u001b[1;33m.\u001b[0m\u001b[0mapply\u001b[0m\u001b[1;33m(\u001b[0m\u001b[0mf\u001b[0m\u001b[1;33m,\u001b[0m \u001b[1;33m**\u001b[0m\u001b[0mkwargs\u001b[0m\u001b[1;33m)\u001b[0m\u001b[1;33m\u001b[0m\u001b[1;33m\u001b[0m\u001b[0m\n\u001b[0;32m    441\u001b[0m             \u001b[1;32melse\u001b[0m\u001b[1;33m:\u001b[0m\u001b[1;33m\u001b[0m\u001b[1;33m\u001b[0m\u001b[0m\n\u001b[1;32m--> 442\u001b[1;33m                 \u001b[0mapplied\u001b[0m \u001b[1;33m=\u001b[0m \u001b[0mgetattr\u001b[0m\u001b[1;33m(\u001b[0m\u001b[0mb\u001b[0m\u001b[1;33m,\u001b[0m \u001b[0mf\u001b[0m\u001b[1;33m)\u001b[0m\u001b[1;33m(\u001b[0m\u001b[1;33m**\u001b[0m\u001b[0mkwargs\u001b[0m\u001b[1;33m)\u001b[0m\u001b[1;33m\u001b[0m\u001b[1;33m\u001b[0m\u001b[0m\n\u001b[0m\u001b[0;32m    443\u001b[0m             \u001b[0mresult_blocks\u001b[0m \u001b[1;33m=\u001b[0m \u001b[0m_extend_blocks\u001b[0m\u001b[1;33m(\u001b[0m\u001b[0mapplied\u001b[0m\u001b[1;33m,\u001b[0m \u001b[0mresult_blocks\u001b[0m\u001b[1;33m)\u001b[0m\u001b[1;33m\u001b[0m\u001b[1;33m\u001b[0m\u001b[0m\n\u001b[0;32m    444\u001b[0m \u001b[1;33m\u001b[0m\u001b[0m\n",
      "\u001b[1;32m~\\Anaconda3\\lib\\site-packages\\pandas\\core\\internals\\blocks.py\u001b[0m in \u001b[0;36mastype\u001b[1;34m(self, dtype, copy, errors)\u001b[0m\n\u001b[0;32m    623\u001b[0m             \u001b[0mvals1d\u001b[0m \u001b[1;33m=\u001b[0m \u001b[0mvalues\u001b[0m\u001b[1;33m.\u001b[0m\u001b[0mravel\u001b[0m\u001b[1;33m(\u001b[0m\u001b[1;33m)\u001b[0m\u001b[1;33m\u001b[0m\u001b[1;33m\u001b[0m\u001b[0m\n\u001b[0;32m    624\u001b[0m             \u001b[1;32mtry\u001b[0m\u001b[1;33m:\u001b[0m\u001b[1;33m\u001b[0m\u001b[1;33m\u001b[0m\u001b[0m\n\u001b[1;32m--> 625\u001b[1;33m                 \u001b[0mvalues\u001b[0m \u001b[1;33m=\u001b[0m \u001b[0mastype_nansafe\u001b[0m\u001b[1;33m(\u001b[0m\u001b[0mvals1d\u001b[0m\u001b[1;33m,\u001b[0m \u001b[0mdtype\u001b[0m\u001b[1;33m,\u001b[0m \u001b[0mcopy\u001b[0m\u001b[1;33m=\u001b[0m\u001b[1;32mTrue\u001b[0m\u001b[1;33m)\u001b[0m\u001b[1;33m\u001b[0m\u001b[1;33m\u001b[0m\u001b[0m\n\u001b[0m\u001b[0;32m    626\u001b[0m             \u001b[1;32mexcept\u001b[0m \u001b[1;33m(\u001b[0m\u001b[0mValueError\u001b[0m\u001b[1;33m,\u001b[0m \u001b[0mTypeError\u001b[0m\u001b[1;33m)\u001b[0m\u001b[1;33m:\u001b[0m\u001b[1;33m\u001b[0m\u001b[1;33m\u001b[0m\u001b[0m\n\u001b[0;32m    627\u001b[0m                 \u001b[1;31m# e.g. astype_nansafe can fail on object-dtype of strings\u001b[0m\u001b[1;33m\u001b[0m\u001b[1;33m\u001b[0m\u001b[1;33m\u001b[0m\u001b[0m\n",
      "\u001b[1;32m~\\Anaconda3\\lib\\site-packages\\pandas\\core\\dtypes\\cast.py\u001b[0m in \u001b[0;36mastype_nansafe\u001b[1;34m(arr, dtype, copy, skipna)\u001b[0m\n\u001b[0;32m    895\u001b[0m     \u001b[1;32mif\u001b[0m \u001b[0mcopy\u001b[0m \u001b[1;32mor\u001b[0m \u001b[0mis_object_dtype\u001b[0m\u001b[1;33m(\u001b[0m\u001b[0marr\u001b[0m\u001b[1;33m)\u001b[0m \u001b[1;32mor\u001b[0m \u001b[0mis_object_dtype\u001b[0m\u001b[1;33m(\u001b[0m\u001b[0mdtype\u001b[0m\u001b[1;33m)\u001b[0m\u001b[1;33m:\u001b[0m\u001b[1;33m\u001b[0m\u001b[1;33m\u001b[0m\u001b[0m\n\u001b[0;32m    896\u001b[0m         \u001b[1;31m# Explicit copy, or required since NumPy can't view from / to object.\u001b[0m\u001b[1;33m\u001b[0m\u001b[1;33m\u001b[0m\u001b[1;33m\u001b[0m\u001b[0m\n\u001b[1;32m--> 897\u001b[1;33m         \u001b[1;32mreturn\u001b[0m \u001b[0marr\u001b[0m\u001b[1;33m.\u001b[0m\u001b[0mastype\u001b[0m\u001b[1;33m(\u001b[0m\u001b[0mdtype\u001b[0m\u001b[1;33m,\u001b[0m \u001b[0mcopy\u001b[0m\u001b[1;33m=\u001b[0m\u001b[1;32mTrue\u001b[0m\u001b[1;33m)\u001b[0m\u001b[1;33m\u001b[0m\u001b[1;33m\u001b[0m\u001b[0m\n\u001b[0m\u001b[0;32m    898\u001b[0m \u001b[1;33m\u001b[0m\u001b[0m\n\u001b[0;32m    899\u001b[0m     \u001b[1;32mreturn\u001b[0m \u001b[0marr\u001b[0m\u001b[1;33m.\u001b[0m\u001b[0mview\u001b[0m\u001b[1;33m(\u001b[0m\u001b[0mdtype\u001b[0m\u001b[1;33m)\u001b[0m\u001b[1;33m\u001b[0m\u001b[1;33m\u001b[0m\u001b[0m\n",
      "\u001b[1;31mValueError\u001b[0m: could not convert string to float: '6/4'"
     ]
    }
   ],
   "source": [
    "df_08.air_pollution_score.astype(float)"
   ]
  },
  {
   "cell_type": "markdown",
   "metadata": {},
   "source": [
    "# Figuring out the issue\n",
    "Looks like this isn't going to be as simple as converting the datatype. According to the error above, the air pollution score value in one of the rows is \"6/4\" - let's check it out."
   ]
  },
  {
   "cell_type": "code",
   "execution_count": 46,
   "metadata": {},
   "outputs": [
    {
     "data": {
      "text/html": [
       "<div>\n",
       "<style scoped>\n",
       "    .dataframe tbody tr th:only-of-type {\n",
       "        vertical-align: middle;\n",
       "    }\n",
       "\n",
       "    .dataframe tbody tr th {\n",
       "        vertical-align: top;\n",
       "    }\n",
       "\n",
       "    .dataframe thead th {\n",
       "        text-align: right;\n",
       "    }\n",
       "</style>\n",
       "<table border=\"1\" class=\"dataframe\">\n",
       "  <thead>\n",
       "    <tr style=\"text-align: right;\">\n",
       "      <th></th>\n",
       "      <th>model</th>\n",
       "      <th>displ</th>\n",
       "      <th>cyl</th>\n",
       "      <th>trans</th>\n",
       "      <th>drive</th>\n",
       "      <th>fuel</th>\n",
       "      <th>veh_class</th>\n",
       "      <th>air_pollution_score</th>\n",
       "      <th>city_mpg</th>\n",
       "      <th>hwy_mpg</th>\n",
       "      <th>cmb_mpg</th>\n",
       "      <th>greenhouse_gas_score</th>\n",
       "      <th>smartway</th>\n",
       "    </tr>\n",
       "  </thead>\n",
       "  <tbody>\n",
       "    <tr>\n",
       "      <th>1550</th>\n",
       "      <td>MERCEDES-BENZ C300</td>\n",
       "      <td>3.0</td>\n",
       "      <td>6</td>\n",
       "      <td>Auto-L7</td>\n",
       "      <td>2WD</td>\n",
       "      <td>ethanol/gas</td>\n",
       "      <td>small car</td>\n",
       "      <td>6/4</td>\n",
       "      <td>13/18</td>\n",
       "      <td>19/25</td>\n",
       "      <td>15/21</td>\n",
       "      <td>7/6</td>\n",
       "      <td>no</td>\n",
       "    </tr>\n",
       "  </tbody>\n",
       "</table>\n",
       "</div>"
      ],
      "text/plain": [
       "                   model  displ  cyl    trans drive         fuel  veh_class  \\\n",
       "1550  MERCEDES-BENZ C300    3.0    6  Auto-L7   2WD  ethanol/gas  small car   \n",
       "\n",
       "     air_pollution_score city_mpg hwy_mpg cmb_mpg greenhouse_gas_score  \\\n",
       "1550                 6/4    13/18   19/25   15/21                  7/6   \n",
       "\n",
       "     smartway  \n",
       "1550       no  "
      ]
     },
     "execution_count": 46,
     "metadata": {},
     "output_type": "execute_result"
    }
   ],
   "source": [
    "df_08[df_08.air_pollution_score == '6/4']"
   ]
  },
  {
   "cell_type": "code",
   "execution_count": 47,
   "metadata": {},
   "outputs": [
    {
     "name": "stdout",
     "output_type": "stream",
     "text": [
      "NISSAN Altima            12\n",
      "HONDA Accord             11\n",
      "FORD Ranger              10\n",
      "DODGE RAM 1500            9\n",
      "SUBARU Legacy             8\n",
      "                         ..\n",
      "BUICK Lucerne             1\n",
      "AUDI RS4                  1\n",
      "PORSCHE Cayenne Turbo     1\n",
      "KIA Amanti                1\n",
      "HONDA Civic Hybrid        1\n",
      "Name: model, Length: 377, dtype: int64\n",
      "2.4    96\n",
      "2.5    89\n",
      "3.5    87\n",
      "3.0    71\n",
      "2.0    59\n",
      "3.6    53\n",
      "4.0    40\n",
      "3.7    38\n",
      "2.3    35\n",
      "2.7    32\n",
      "3.8    26\n",
      "5.3    26\n",
      "4.6    24\n",
      "4.7    22\n",
      "4.2    22\n",
      "6.0    19\n",
      "5.7    18\n",
      "1.8    18\n",
      "3.2    17\n",
      "2.2    17\n",
      "6.2    14\n",
      "5.4    14\n",
      "5.5    13\n",
      "5.0    13\n",
      "3.3    11\n",
      "4.3    11\n",
      "4.8    11\n",
      "3.1     9\n",
      "3.4     8\n",
      "4.4     8\n",
      "5.6     8\n",
      "1.6     8\n",
      "1.5     6\n",
      "6.1     6\n",
      "2.8     6\n",
      "5.9     6\n",
      "6.5     5\n",
      "6.7     5\n",
      "4.5     3\n",
      "3.9     3\n",
      "1.3     3\n",
      "8.4     2\n",
      "5.2     2\n",
      "7.0     1\n",
      "8.0     1\n",
      "Name: displ, dtype: int64\n",
      "6     409\n",
      "4     283\n",
      "8     199\n",
      "5      48\n",
      "12     30\n",
      "10     14\n",
      "2       2\n",
      "16      1\n",
      "Name: cyl, dtype: int64\n",
      "Auto-L4    176\n",
      "Auto-S6    162\n",
      "Auto-L5    157\n",
      "Man-6      142\n",
      "Man-5      123\n",
      "Auto-S5     71\n",
      "Auto-L6     56\n",
      "Auto-AV     45\n",
      "Auto-S4     21\n",
      "Auto-L7     14\n",
      "Auto-S7     11\n",
      "S8           4\n",
      "Auto-6       4\n",
      "Name: trans, dtype: int64\n",
      "2WD    661\n",
      "4WD    325\n",
      "Name: drive, dtype: int64\n",
      "Gasoline       984\n",
      "ethanol/gas      1\n",
      "CNG              1\n",
      "Name: fuel, dtype: int64\n",
      "small car        332\n",
      "SUV              280\n",
      "midsize car      138\n",
      "pickup            83\n",
      "station wagon     60\n",
      "large car         55\n",
      "van               21\n",
      "minivan           17\n",
      "Name: veh_class, dtype: int64\n",
      "6      500\n",
      "7      398\n",
      "9.5     80\n",
      "9        7\n",
      "6/4      1\n",
      "Name: air_pollution_score, dtype: int64\n",
      "17       109\n",
      "20        96\n",
      "16        96\n",
      "15        90\n",
      "19        87\n",
      "18        80\n",
      "13        72\n",
      "14        71\n",
      "21        64\n",
      "12        57\n",
      "22        44\n",
      "23        21\n",
      "24        20\n",
      "11        17\n",
      "10        14\n",
      "26         8\n",
      "27         8\n",
      "25         8\n",
      "9          6\n",
      "29         5\n",
      "8          3\n",
      "34         3\n",
      "28         2\n",
      "40         1\n",
      "35         1\n",
      "48         1\n",
      "13/18      1\n",
      "33         1\n",
      "Name: city_mpg, dtype: int64\n",
      "24       111\n",
      "26        82\n",
      "25        76\n",
      "28        70\n",
      "20        69\n",
      "19        69\n",
      "27        60\n",
      "22        59\n",
      "18        58\n",
      "29        49\n",
      "23        48\n",
      "17        41\n",
      "31        41\n",
      "30        33\n",
      "21        26\n",
      "16        25\n",
      "33        19\n",
      "32        16\n",
      "15        10\n",
      "14         5\n",
      "35         5\n",
      "34         4\n",
      "13         3\n",
      "36         3\n",
      "45         2\n",
      "19/25      1\n",
      "37         1\n",
      "Name: hwy_mpg, dtype: int64\n",
      "22       101\n",
      "20        94\n",
      "19        89\n",
      "21        83\n",
      "15        82\n",
      "18        77\n",
      "24        67\n",
      "14        64\n",
      "17        61\n",
      "23        59\n",
      "16        53\n",
      "25        36\n",
      "26        24\n",
      "27        17\n",
      "13        16\n",
      "12        15\n",
      "28        13\n",
      "29        12\n",
      "11         7\n",
      "32         4\n",
      "10         3\n",
      "31         3\n",
      "34         2\n",
      "15/21      1\n",
      "30         1\n",
      "46         1\n",
      "42         1\n",
      "Name: cmb_mpg, dtype: int64\n",
      "6      278\n",
      "5      166\n",
      "7      162\n",
      "4      114\n",
      "3       82\n",
      "8       66\n",
      "2       64\n",
      "0       25\n",
      "1       16\n",
      "9       10\n",
      "10       2\n",
      "7/6      1\n",
      "Name: greenhouse_gas_score, dtype: int64\n",
      "no     606\n",
      "yes    380\n",
      "Name: smartway, dtype: int64\n"
     ]
    }
   ],
   "source": [
    "for col_name in df_08.columns:\n",
    "    print(df_08[col_name].value_counts())"
   ]
  },
  {
   "cell_type": "code",
   "execution_count": 48,
   "metadata": {},
   "outputs": [
    {
     "name": "stdout",
     "output_type": "stream",
     "text": [
      "FORD F150                     22\n",
      "GMC Sierra 15                 13\n",
      "CHEVROLET Silverado 15        13\n",
      "CHEVROLET Camaro               8\n",
      "GMC Canyon                     8\n",
      "                              ..\n",
      "AUDI S5 Cabriolet              1\n",
      "TOYOTA Camry Hybrid XLE/SE     1\n",
      "AUDI S5                        1\n",
      "PORSCHE Panamera 4             1\n",
      "CHEVROLET Trax                 1\n",
      "Name: model, Length: 357, dtype: int64\n",
      "2.0    211\n",
      "3.0    113\n",
      "3.6     50\n",
      "2.5     37\n",
      "2.4     35\n",
      "1.5     34\n",
      "5.3     34\n",
      "3.5     29\n",
      "1.6     26\n",
      "6.2     24\n",
      "4.0     18\n",
      "3.3     18\n",
      "1.4     18\n",
      "5.7     18\n",
      "1.8     15\n",
      "5.0     13\n",
      "4.4     13\n",
      "3.7     10\n",
      "2.7      9\n",
      "6.4      8\n",
      "3.9      7\n",
      "3.8      6\n",
      "4.7      6\n",
      "5.5      5\n",
      "2.8      5\n",
      "6.5      5\n",
      "1.2      4\n",
      "4.3      4\n",
      "5.6      4\n",
      "3.2      4\n",
      "4.6      3\n",
      "2.9      3\n",
      "6.0      2\n",
      "6.6      1\n",
      "8.0      1\n",
      "6.3      1\n",
      "Name: displ, dtype: int64\n",
      "4     365\n",
      "6     246\n",
      "8     153\n",
      "3      18\n",
      "12      9\n",
      "5       2\n",
      "16      1\n",
      "Name: cyl, dtype: int64\n",
      "SemiAuto-8     172\n",
      "SemiAuto-6     128\n",
      "Man-6           82\n",
      "Auto-6          62\n",
      "Auto-8          57\n",
      "AMS-7           49\n",
      "Auto-9          49\n",
      "AutoMan-7       29\n",
      "SemiAuto-10     21\n",
      "SemiAuto-7      18\n",
      "CVT             18\n",
      "Man-7           17\n",
      "SCV-7           15\n",
      "Auto-7          15\n",
      "AMS-8           13\n",
      "Man-5           10\n",
      "Auto-10          8\n",
      "SemiAuto-9       8\n",
      "SCV-6            7\n",
      "AMS-6            6\n",
      "Auto-4           3\n",
      "SCV-8            2\n",
      "SemiAuto-5       2\n",
      "Auto-1           1\n",
      "SCV-10           1\n",
      "AutoMan-6        1\n",
      "Name: trans, dtype: int64\n",
      "2WD    438\n",
      "4WD    356\n",
      "Name: drive, dtype: int64\n",
      "Gasoline                737\n",
      "Ethanol/Gas              26\n",
      "Diesel                   19\n",
      "Gasoline/Electricity     12\n",
      "Name: fuel, dtype: int64\n",
      "small car          278\n",
      "midsize car        135\n",
      "small SUV          104\n",
      "large car           82\n",
      "standard SUV        75\n",
      "pickup              71\n",
      "station wagon       34\n",
      "special purpose     10\n",
      "minivan              5\n",
      "Name: veh_class, dtype: int64\n",
      "3    372\n",
      "5    187\n",
      "7    139\n",
      "1     89\n",
      "6      7\n",
      "Name: air_pollution_score, dtype: int64\n",
      "22        74\n",
      "16        66\n",
      "21        65\n",
      "20        65\n",
      "18        55\n",
      "19        54\n",
      "17        52\n",
      "23        43\n",
      "24        41\n",
      "15        41\n",
      "25        31\n",
      "28        30\n",
      "14        24\n",
      "27        24\n",
      "13        20\n",
      "26        19\n",
      "29        14\n",
      "30         9\n",
      "31         7\n",
      "12/16      6\n",
      "10         4\n",
      "11/16      4\n",
      "33         3\n",
      "12         3\n",
      "13/18      3\n",
      "43/113     2\n",
      "32         2\n",
      "14/19      2\n",
      "12/18      2\n",
      "9/13       2\n",
      "12/17      2\n",
      "51         1\n",
      "48         1\n",
      "28/66      1\n",
      "17/23      1\n",
      "17/24      1\n",
      "14/21      1\n",
      "15/21      1\n",
      "49         1\n",
      "44         1\n",
      "34         1\n",
      "35         1\n",
      "27/70      1\n",
      "25/62      1\n",
      "26/70      1\n",
      "26/63      1\n",
      "27/66      1\n",
      "40         1\n",
      "43/102     1\n",
      "37         1\n",
      "9          1\n",
      "20/59      1\n",
      "26/60      1\n",
      "43         1\n",
      "14/18      1\n",
      "28/63      1\n",
      "Name: city_mpg, dtype: int64\n",
      "25       67\n",
      "30       61\n",
      "28       56\n",
      "24       47\n",
      "29       46\n",
      "22       44\n",
      "23       42\n",
      "27       41\n",
      "26       40\n",
      "32       39\n",
      "33       35\n",
      "31       33\n",
      "34       31\n",
      "36       22\n",
      "21       19\n",
      "35       19\n",
      "37       19\n",
      "20       15\n",
      "18       12\n",
      "38       12\n",
      "40       11\n",
      "19       10\n",
      "39        8\n",
      "17/23     6\n",
      "17        6\n",
      "41        4\n",
      "15/22     4\n",
      "22/30     3\n",
      "43        3\n",
      "16        3\n",
      "16/22     2\n",
      "42/99     2\n",
      "47        2\n",
      "15        2\n",
      "20/27     2\n",
      "42        2\n",
      "16/24     2\n",
      "31/75     1\n",
      "30/61     1\n",
      "48        1\n",
      "20/28     1\n",
      "28/58     1\n",
      "12/17     1\n",
      "53        1\n",
      "29/68     1\n",
      "14        1\n",
      "17/22     1\n",
      "21/61     1\n",
      "52        1\n",
      "27/66     1\n",
      "34/78     1\n",
      "13/17     1\n",
      "31/68     1\n",
      "45        1\n",
      "33/72     1\n",
      "21/28     1\n",
      "23/31     1\n",
      "41/91     1\n",
      "24/32     1\n",
      "Name: hwy_mpg, dtype: int64\n",
      "23        67\n",
      "25        64\n",
      "19        61\n",
      "21        53\n",
      "24        53\n",
      "22        52\n",
      "27        47\n",
      "20        46\n",
      "18        44\n",
      "26        38\n",
      "17        34\n",
      "28        33\n",
      "32        27\n",
      "29        26\n",
      "16        19\n",
      "30        17\n",
      "15        15\n",
      "31        15\n",
      "33         9\n",
      "34         8\n",
      "14/19      7\n",
      "35         5\n",
      "12         4\n",
      "36         3\n",
      "14         3\n",
      "46         3\n",
      "37         3\n",
      "17/23      3\n",
      "13/19      2\n",
      "16/21      2\n",
      "42/106     2\n",
      "13         2\n",
      "12/18      2\n",
      "13/18      2\n",
      "14/20      2\n",
      "39         1\n",
      "11         1\n",
      "18/25      1\n",
      "26/59      1\n",
      "20/27      1\n",
      "10/14      1\n",
      "16/22      1\n",
      "30/71      1\n",
      "19/26      1\n",
      "27/64      1\n",
      "10/15      1\n",
      "29/72      1\n",
      "20/60      1\n",
      "29/71      1\n",
      "42         1\n",
      "27/62      1\n",
      "27/65      1\n",
      "40         1\n",
      "52         1\n",
      "28/67      1\n",
      "42/97      1\n",
      "Name: cmb_mpg, dtype: int64\n",
      "5     225\n",
      "4     159\n",
      "3     153\n",
      "6     109\n",
      "7      63\n",
      "2      35\n",
      "8      20\n",
      "10     14\n",
      "1      11\n",
      "9       5\n",
      "Name: greenhouse_gas_score, dtype: int64\n",
      "No       697\n",
      "Yes       87\n",
      "Elite     10\n",
      "Name: smartway, dtype: int64\n"
     ]
    }
   ],
   "source": [
    "for col_name in df_18.columns:\n",
    "    print(df_18[col_name].value_counts())"
   ]
  },
  {
   "cell_type": "markdown",
   "metadata": {},
   "source": [
    "# It's not just the air pollution score!\n",
    "The mpg columns and greenhouse gas scores also seem to have the same problem - maybe that's why these were all saved as strings! According to [this link](http://www.fueleconomy.gov/feg/findacarhelp.shtml#airPollutionScore), which I found from the PDF documentation:\n",
    "\n",
    "    \"If a vehicle can operate on more than one type of fuel, an estimate is provided for each fuel type.\"\n",
    "    \n",
    "Ohh.. so all vehicles with more than one fuel type, or hybrids, like the one above (it uses ethanol AND gas) will have a string that holds two values - one for each. This is a little tricky, so I'm going to show you how to do it with the 2008 dataset, and then you'll try it with the 2018 dataset."
   ]
  },
  {
   "cell_type": "code",
   "execution_count": 49,
   "metadata": {},
   "outputs": [
    {
     "data": {
      "text/html": [
       "<div>\n",
       "<style scoped>\n",
       "    .dataframe tbody tr th:only-of-type {\n",
       "        vertical-align: middle;\n",
       "    }\n",
       "\n",
       "    .dataframe tbody tr th {\n",
       "        vertical-align: top;\n",
       "    }\n",
       "\n",
       "    .dataframe thead th {\n",
       "        text-align: right;\n",
       "    }\n",
       "</style>\n",
       "<table border=\"1\" class=\"dataframe\">\n",
       "  <thead>\n",
       "    <tr style=\"text-align: right;\">\n",
       "      <th></th>\n",
       "      <th>model</th>\n",
       "      <th>displ</th>\n",
       "      <th>cyl</th>\n",
       "      <th>trans</th>\n",
       "      <th>drive</th>\n",
       "      <th>fuel</th>\n",
       "      <th>veh_class</th>\n",
       "      <th>air_pollution_score</th>\n",
       "      <th>city_mpg</th>\n",
       "      <th>hwy_mpg</th>\n",
       "      <th>cmb_mpg</th>\n",
       "      <th>greenhouse_gas_score</th>\n",
       "      <th>smartway</th>\n",
       "    </tr>\n",
       "  </thead>\n",
       "  <tbody>\n",
       "    <tr>\n",
       "      <th>1550</th>\n",
       "      <td>MERCEDES-BENZ C300</td>\n",
       "      <td>3.0</td>\n",
       "      <td>6</td>\n",
       "      <td>Auto-L7</td>\n",
       "      <td>2WD</td>\n",
       "      <td>ethanol/gas</td>\n",
       "      <td>small car</td>\n",
       "      <td>6/4</td>\n",
       "      <td>13/18</td>\n",
       "      <td>19/25</td>\n",
       "      <td>15/21</td>\n",
       "      <td>7/6</td>\n",
       "      <td>no</td>\n",
       "    </tr>\n",
       "  </tbody>\n",
       "</table>\n",
       "</div>"
      ],
      "text/plain": [
       "                   model  displ  cyl    trans drive         fuel  veh_class  \\\n",
       "1550  MERCEDES-BENZ C300    3.0    6  Auto-L7   2WD  ethanol/gas  small car   \n",
       "\n",
       "     air_pollution_score city_mpg hwy_mpg cmb_mpg greenhouse_gas_score  \\\n",
       "1550                 6/4    13/18   19/25   15/21                  7/6   \n",
       "\n",
       "     smartway  \n",
       "1550       no  "
      ]
     },
     "execution_count": 49,
     "metadata": {},
     "output_type": "execute_result"
    }
   ],
   "source": [
    "# First, let's get all the hybrids in 2008\n",
    "hb_08 = df_08[df_08['fuel'].str.contains('/')]\n",
    "hb_08"
   ]
  },
  {
   "cell_type": "code",
   "execution_count": 50,
   "metadata": {},
   "outputs": [
    {
     "data": {
      "text/html": [
       "<div>\n",
       "<style scoped>\n",
       "    .dataframe tbody tr th:only-of-type {\n",
       "        vertical-align: middle;\n",
       "    }\n",
       "\n",
       "    .dataframe tbody tr th {\n",
       "        vertical-align: top;\n",
       "    }\n",
       "\n",
       "    .dataframe thead th {\n",
       "        text-align: right;\n",
       "    }\n",
       "</style>\n",
       "<table border=\"1\" class=\"dataframe\">\n",
       "  <thead>\n",
       "    <tr style=\"text-align: right;\">\n",
       "      <th></th>\n",
       "      <th>model</th>\n",
       "      <th>displ</th>\n",
       "      <th>cyl</th>\n",
       "      <th>trans</th>\n",
       "      <th>drive</th>\n",
       "      <th>fuel</th>\n",
       "      <th>veh_class</th>\n",
       "      <th>air_pollution_score</th>\n",
       "      <th>city_mpg</th>\n",
       "      <th>hwy_mpg</th>\n",
       "      <th>cmb_mpg</th>\n",
       "      <th>greenhouse_gas_score</th>\n",
       "      <th>smartway</th>\n",
       "    </tr>\n",
       "  </thead>\n",
       "  <tbody>\n",
       "    <tr>\n",
       "      <th>108</th>\n",
       "      <td>BMW 330e</td>\n",
       "      <td>2.0</td>\n",
       "      <td>4</td>\n",
       "      <td>SemiAuto-8</td>\n",
       "      <td>2WD</td>\n",
       "      <td>Gasoline/Electricity</td>\n",
       "      <td>small car</td>\n",
       "      <td>3</td>\n",
       "      <td>28/66</td>\n",
       "      <td>34/78</td>\n",
       "      <td>30/71</td>\n",
       "      <td>10</td>\n",
       "      <td>Yes</td>\n",
       "    </tr>\n",
       "    <tr>\n",
       "      <th>160</th>\n",
       "      <td>BMW 530e</td>\n",
       "      <td>2.0</td>\n",
       "      <td>4</td>\n",
       "      <td>SemiAuto-8</td>\n",
       "      <td>2WD</td>\n",
       "      <td>Gasoline/Electricity</td>\n",
       "      <td>small car</td>\n",
       "      <td>7</td>\n",
       "      <td>27/70</td>\n",
       "      <td>31/75</td>\n",
       "      <td>29/72</td>\n",
       "      <td>10</td>\n",
       "      <td>Elite</td>\n",
       "    </tr>\n",
       "    <tr>\n",
       "      <th>162</th>\n",
       "      <td>BMW 530e</td>\n",
       "      <td>2.0</td>\n",
       "      <td>4</td>\n",
       "      <td>SemiAuto-8</td>\n",
       "      <td>4WD</td>\n",
       "      <td>Gasoline/Electricity</td>\n",
       "      <td>small car</td>\n",
       "      <td>7</td>\n",
       "      <td>27/66</td>\n",
       "      <td>31/68</td>\n",
       "      <td>28/67</td>\n",
       "      <td>10</td>\n",
       "      <td>Elite</td>\n",
       "    </tr>\n",
       "    <tr>\n",
       "      <th>188</th>\n",
       "      <td>BMW 740e</td>\n",
       "      <td>2.0</td>\n",
       "      <td>4</td>\n",
       "      <td>SemiAuto-8</td>\n",
       "      <td>4WD</td>\n",
       "      <td>Gasoline/Electricity</td>\n",
       "      <td>large car</td>\n",
       "      <td>3</td>\n",
       "      <td>25/62</td>\n",
       "      <td>29/68</td>\n",
       "      <td>27/64</td>\n",
       "      <td>9</td>\n",
       "      <td>Yes</td>\n",
       "    </tr>\n",
       "    <tr>\n",
       "      <th>382</th>\n",
       "      <td>CHEVROLET Impala</td>\n",
       "      <td>3.6</td>\n",
       "      <td>6</td>\n",
       "      <td>SemiAuto-6</td>\n",
       "      <td>2WD</td>\n",
       "      <td>Ethanol/Gas</td>\n",
       "      <td>large car</td>\n",
       "      <td>5</td>\n",
       "      <td>14/18</td>\n",
       "      <td>20/28</td>\n",
       "      <td>16/22</td>\n",
       "      <td>4</td>\n",
       "      <td>No</td>\n",
       "    </tr>\n",
       "    <tr>\n",
       "      <th>394</th>\n",
       "      <td>CHEVROLET Silverado 15</td>\n",
       "      <td>4.3</td>\n",
       "      <td>6</td>\n",
       "      <td>Auto-6</td>\n",
       "      <td>2WD</td>\n",
       "      <td>Ethanol/Gas</td>\n",
       "      <td>pickup</td>\n",
       "      <td>5</td>\n",
       "      <td>12/18</td>\n",
       "      <td>16/24</td>\n",
       "      <td>14/20</td>\n",
       "      <td>4</td>\n",
       "      <td>No</td>\n",
       "    </tr>\n",
       "    <tr>\n",
       "      <th>396</th>\n",
       "      <td>CHEVROLET Silverado 15</td>\n",
       "      <td>4.3</td>\n",
       "      <td>6</td>\n",
       "      <td>Auto-6</td>\n",
       "      <td>4WD</td>\n",
       "      <td>Ethanol/Gas</td>\n",
       "      <td>pickup</td>\n",
       "      <td>5</td>\n",
       "      <td>12/17</td>\n",
       "      <td>15/22</td>\n",
       "      <td>13/19</td>\n",
       "      <td>3</td>\n",
       "      <td>No</td>\n",
       "    </tr>\n",
       "    <tr>\n",
       "      <th>398</th>\n",
       "      <td>CHEVROLET Silverado 15</td>\n",
       "      <td>5.3</td>\n",
       "      <td>8</td>\n",
       "      <td>Auto-6</td>\n",
       "      <td>2WD</td>\n",
       "      <td>Ethanol/Gas</td>\n",
       "      <td>pickup</td>\n",
       "      <td>3</td>\n",
       "      <td>12/16</td>\n",
       "      <td>17/23</td>\n",
       "      <td>14/19</td>\n",
       "      <td>3</td>\n",
       "      <td>No</td>\n",
       "    </tr>\n",
       "    <tr>\n",
       "      <th>428</th>\n",
       "      <td>CHEVROLET Suburban 1500</td>\n",
       "      <td>5.3</td>\n",
       "      <td>8</td>\n",
       "      <td>Auto-6</td>\n",
       "      <td>2WD</td>\n",
       "      <td>Ethanol/Gas</td>\n",
       "      <td>standard SUV</td>\n",
       "      <td>3</td>\n",
       "      <td>12/16</td>\n",
       "      <td>17/23</td>\n",
       "      <td>14/19</td>\n",
       "      <td>3</td>\n",
       "      <td>No</td>\n",
       "    </tr>\n",
       "    <tr>\n",
       "      <th>432</th>\n",
       "      <td>CHEVROLET Suburban 1500</td>\n",
       "      <td>5.3</td>\n",
       "      <td>8</td>\n",
       "      <td>Auto-6</td>\n",
       "      <td>4WD</td>\n",
       "      <td>Ethanol/Gas</td>\n",
       "      <td>standard SUV</td>\n",
       "      <td>3</td>\n",
       "      <td>11/16</td>\n",
       "      <td>15/22</td>\n",
       "      <td>12/18</td>\n",
       "      <td>3</td>\n",
       "      <td>No</td>\n",
       "    </tr>\n",
       "    <tr>\n",
       "      <th>436</th>\n",
       "      <td>CHEVROLET Tahoe 1500</td>\n",
       "      <td>5.3</td>\n",
       "      <td>8</td>\n",
       "      <td>Auto-6</td>\n",
       "      <td>2WD</td>\n",
       "      <td>Ethanol/Gas</td>\n",
       "      <td>standard SUV</td>\n",
       "      <td>3</td>\n",
       "      <td>12/16</td>\n",
       "      <td>17/23</td>\n",
       "      <td>14/19</td>\n",
       "      <td>3</td>\n",
       "      <td>No</td>\n",
       "    </tr>\n",
       "    <tr>\n",
       "      <th>440</th>\n",
       "      <td>CHEVROLET Tahoe 1500</td>\n",
       "      <td>5.3</td>\n",
       "      <td>8</td>\n",
       "      <td>Auto-6</td>\n",
       "      <td>4WD</td>\n",
       "      <td>Ethanol/Gas</td>\n",
       "      <td>standard SUV</td>\n",
       "      <td>3</td>\n",
       "      <td>11/16</td>\n",
       "      <td>16/22</td>\n",
       "      <td>13/18</td>\n",
       "      <td>3</td>\n",
       "      <td>No</td>\n",
       "    </tr>\n",
       "    <tr>\n",
       "      <th>454</th>\n",
       "      <td>CHEVROLET Volt</td>\n",
       "      <td>1.5</td>\n",
       "      <td>4</td>\n",
       "      <td>CVT</td>\n",
       "      <td>2WD</td>\n",
       "      <td>Gasoline/Electricity</td>\n",
       "      <td>small car</td>\n",
       "      <td>3</td>\n",
       "      <td>43/113</td>\n",
       "      <td>42/99</td>\n",
       "      <td>42/106</td>\n",
       "      <td>10</td>\n",
       "      <td>Yes</td>\n",
       "    </tr>\n",
       "    <tr>\n",
       "      <th>456</th>\n",
       "      <td>CHEVROLET Volt</td>\n",
       "      <td>1.5</td>\n",
       "      <td>4</td>\n",
       "      <td>CVT</td>\n",
       "      <td>2WD</td>\n",
       "      <td>Gasoline/Electricity</td>\n",
       "      <td>small car</td>\n",
       "      <td>7</td>\n",
       "      <td>43/113</td>\n",
       "      <td>42/99</td>\n",
       "      <td>42/106</td>\n",
       "      <td>10</td>\n",
       "      <td>Elite</td>\n",
       "    </tr>\n",
       "    <tr>\n",
       "      <th>458</th>\n",
       "      <td>CHRYSLER 300</td>\n",
       "      <td>3.6</td>\n",
       "      <td>6</td>\n",
       "      <td>Auto-8</td>\n",
       "      <td>2WD</td>\n",
       "      <td>Ethanol/Gas</td>\n",
       "      <td>large car</td>\n",
       "      <td>3</td>\n",
       "      <td>14/19</td>\n",
       "      <td>22/30</td>\n",
       "      <td>17/23</td>\n",
       "      <td>5</td>\n",
       "      <td>No</td>\n",
       "    </tr>\n",
       "    <tr>\n",
       "      <th>462</th>\n",
       "      <td>CHRYSLER 300</td>\n",
       "      <td>3.6</td>\n",
       "      <td>6</td>\n",
       "      <td>Auto-8</td>\n",
       "      <td>4WD</td>\n",
       "      <td>Ethanol/Gas</td>\n",
       "      <td>large car</td>\n",
       "      <td>3</td>\n",
       "      <td>13/18</td>\n",
       "      <td>20/27</td>\n",
       "      <td>16/21</td>\n",
       "      <td>4</td>\n",
       "      <td>No</td>\n",
       "    </tr>\n",
       "    <tr>\n",
       "      <th>492</th>\n",
       "      <td>DODGE Charger</td>\n",
       "      <td>3.6</td>\n",
       "      <td>6</td>\n",
       "      <td>Auto-8</td>\n",
       "      <td>2WD</td>\n",
       "      <td>Ethanol/Gas</td>\n",
       "      <td>large car</td>\n",
       "      <td>3</td>\n",
       "      <td>14/19</td>\n",
       "      <td>22/30</td>\n",
       "      <td>17/23</td>\n",
       "      <td>5</td>\n",
       "      <td>No</td>\n",
       "    </tr>\n",
       "    <tr>\n",
       "      <th>496</th>\n",
       "      <td>DODGE Charger</td>\n",
       "      <td>3.6</td>\n",
       "      <td>6</td>\n",
       "      <td>Auto-8</td>\n",
       "      <td>4WD</td>\n",
       "      <td>Ethanol/Gas</td>\n",
       "      <td>large car</td>\n",
       "      <td>3</td>\n",
       "      <td>13/18</td>\n",
       "      <td>20/27</td>\n",
       "      <td>16/21</td>\n",
       "      <td>4</td>\n",
       "      <td>No</td>\n",
       "    </tr>\n",
       "    <tr>\n",
       "      <th>605</th>\n",
       "      <td>FORD Fusion Energi Plug-in Hybrid</td>\n",
       "      <td>2.0</td>\n",
       "      <td>4</td>\n",
       "      <td>CVT</td>\n",
       "      <td>2WD</td>\n",
       "      <td>Gasoline/Electricity</td>\n",
       "      <td>midsize car</td>\n",
       "      <td>7</td>\n",
       "      <td>43/102</td>\n",
       "      <td>41/91</td>\n",
       "      <td>42/97</td>\n",
       "      <td>10</td>\n",
       "      <td>Elite</td>\n",
       "    </tr>\n",
       "    <tr>\n",
       "      <th>659</th>\n",
       "      <td>GMC Sierra 15</td>\n",
       "      <td>4.3</td>\n",
       "      <td>6</td>\n",
       "      <td>Auto-6</td>\n",
       "      <td>2WD</td>\n",
       "      <td>Ethanol/Gas</td>\n",
       "      <td>pickup</td>\n",
       "      <td>5</td>\n",
       "      <td>12/18</td>\n",
       "      <td>16/24</td>\n",
       "      <td>14/20</td>\n",
       "      <td>4</td>\n",
       "      <td>No</td>\n",
       "    </tr>\n",
       "    <tr>\n",
       "      <th>661</th>\n",
       "      <td>GMC Sierra 15</td>\n",
       "      <td>4.3</td>\n",
       "      <td>6</td>\n",
       "      <td>Auto-6</td>\n",
       "      <td>4WD</td>\n",
       "      <td>Ethanol/Gas</td>\n",
       "      <td>pickup</td>\n",
       "      <td>5</td>\n",
       "      <td>12/17</td>\n",
       "      <td>15/22</td>\n",
       "      <td>13/19</td>\n",
       "      <td>3</td>\n",
       "      <td>No</td>\n",
       "    </tr>\n",
       "    <tr>\n",
       "      <th>663</th>\n",
       "      <td>GMC Sierra 15</td>\n",
       "      <td>5.3</td>\n",
       "      <td>8</td>\n",
       "      <td>Auto-6</td>\n",
       "      <td>2WD</td>\n",
       "      <td>Ethanol/Gas</td>\n",
       "      <td>pickup</td>\n",
       "      <td>3</td>\n",
       "      <td>12/16</td>\n",
       "      <td>17/23</td>\n",
       "      <td>14/19</td>\n",
       "      <td>3</td>\n",
       "      <td>No</td>\n",
       "    </tr>\n",
       "    <tr>\n",
       "      <th>697</th>\n",
       "      <td>GMC Yukon 1500</td>\n",
       "      <td>5.3</td>\n",
       "      <td>8</td>\n",
       "      <td>Auto-6</td>\n",
       "      <td>2WD</td>\n",
       "      <td>Ethanol/Gas</td>\n",
       "      <td>standard SUV</td>\n",
       "      <td>3</td>\n",
       "      <td>12/16</td>\n",
       "      <td>17/23</td>\n",
       "      <td>14/19</td>\n",
       "      <td>3</td>\n",
       "      <td>No</td>\n",
       "    </tr>\n",
       "    <tr>\n",
       "      <th>701</th>\n",
       "      <td>GMC Yukon 1500</td>\n",
       "      <td>5.3</td>\n",
       "      <td>8</td>\n",
       "      <td>Auto-6</td>\n",
       "      <td>4WD</td>\n",
       "      <td>Ethanol/Gas</td>\n",
       "      <td>standard SUV</td>\n",
       "      <td>3</td>\n",
       "      <td>11/16</td>\n",
       "      <td>16/22</td>\n",
       "      <td>13/18</td>\n",
       "      <td>3</td>\n",
       "      <td>No</td>\n",
       "    </tr>\n",
       "    <tr>\n",
       "      <th>709</th>\n",
       "      <td>GMC Yukon 1500 XL</td>\n",
       "      <td>5.3</td>\n",
       "      <td>8</td>\n",
       "      <td>Auto-6</td>\n",
       "      <td>2WD</td>\n",
       "      <td>Ethanol/Gas</td>\n",
       "      <td>standard SUV</td>\n",
       "      <td>3</td>\n",
       "      <td>12/16</td>\n",
       "      <td>17/23</td>\n",
       "      <td>14/19</td>\n",
       "      <td>3</td>\n",
       "      <td>No</td>\n",
       "    </tr>\n",
       "    <tr>\n",
       "      <th>715</th>\n",
       "      <td>GMC Yukon XL 1500</td>\n",
       "      <td>5.3</td>\n",
       "      <td>8</td>\n",
       "      <td>Auto-6</td>\n",
       "      <td>4WD</td>\n",
       "      <td>Ethanol/Gas</td>\n",
       "      <td>standard SUV</td>\n",
       "      <td>3</td>\n",
       "      <td>11/16</td>\n",
       "      <td>15/22</td>\n",
       "      <td>12/18</td>\n",
       "      <td>3</td>\n",
       "      <td>No</td>\n",
       "    </tr>\n",
       "    <tr>\n",
       "      <th>892</th>\n",
       "      <td>JEEP Cherokee</td>\n",
       "      <td>2.4</td>\n",
       "      <td>4</td>\n",
       "      <td>Auto-9</td>\n",
       "      <td>2WD</td>\n",
       "      <td>Ethanol/Gas</td>\n",
       "      <td>small SUV</td>\n",
       "      <td>3</td>\n",
       "      <td>15/21</td>\n",
       "      <td>22/30</td>\n",
       "      <td>18/25</td>\n",
       "      <td>5</td>\n",
       "      <td>No</td>\n",
       "    </tr>\n",
       "    <tr>\n",
       "      <th>896</th>\n",
       "      <td>JEEP Cherokee</td>\n",
       "      <td>2.4</td>\n",
       "      <td>4</td>\n",
       "      <td>Auto-9</td>\n",
       "      <td>4WD</td>\n",
       "      <td>Ethanol/Gas</td>\n",
       "      <td>small SUV</td>\n",
       "      <td>3</td>\n",
       "      <td>14/21</td>\n",
       "      <td>21/28</td>\n",
       "      <td>17/23</td>\n",
       "      <td>5</td>\n",
       "      <td>No</td>\n",
       "    </tr>\n",
       "    <tr>\n",
       "      <th>933</th>\n",
       "      <td>KARMA Revero</td>\n",
       "      <td>2.0</td>\n",
       "      <td>4</td>\n",
       "      <td>Auto-1</td>\n",
       "      <td>2WD</td>\n",
       "      <td>Gasoline/Electricity</td>\n",
       "      <td>small car</td>\n",
       "      <td>1</td>\n",
       "      <td>20/59</td>\n",
       "      <td>21/61</td>\n",
       "      <td>20/60</td>\n",
       "      <td>10</td>\n",
       "      <td>No</td>\n",
       "    </tr>\n",
       "    <tr>\n",
       "      <th>1162</th>\n",
       "      <td>MERCEDES-BENZ CLA250 4Matic</td>\n",
       "      <td>2.0</td>\n",
       "      <td>4</td>\n",
       "      <td>AutoMan-7</td>\n",
       "      <td>4WD</td>\n",
       "      <td>Ethanol/Gas</td>\n",
       "      <td>small car</td>\n",
       "      <td>5</td>\n",
       "      <td>17/24</td>\n",
       "      <td>24/32</td>\n",
       "      <td>20/27</td>\n",
       "      <td>6</td>\n",
       "      <td>No</td>\n",
       "    </tr>\n",
       "    <tr>\n",
       "      <th>1179</th>\n",
       "      <td>MERCEDES-BENZ GLA250 4Matic</td>\n",
       "      <td>2.0</td>\n",
       "      <td>4</td>\n",
       "      <td>AutoMan-7</td>\n",
       "      <td>4WD</td>\n",
       "      <td>Ethanol/Gas</td>\n",
       "      <td>small SUV</td>\n",
       "      <td>5</td>\n",
       "      <td>17/23</td>\n",
       "      <td>23/31</td>\n",
       "      <td>19/26</td>\n",
       "      <td>5</td>\n",
       "      <td>No</td>\n",
       "    </tr>\n",
       "    <tr>\n",
       "      <th>1192</th>\n",
       "      <td>MERCEDES-BENZ GLE350 4Matic</td>\n",
       "      <td>3.5</td>\n",
       "      <td>6</td>\n",
       "      <td>Auto-7</td>\n",
       "      <td>4WD</td>\n",
       "      <td>Ethanol/Gas</td>\n",
       "      <td>standard SUV</td>\n",
       "      <td>3</td>\n",
       "      <td>13/18</td>\n",
       "      <td>17/22</td>\n",
       "      <td>14/19</td>\n",
       "      <td>3</td>\n",
       "      <td>No</td>\n",
       "    </tr>\n",
       "    <tr>\n",
       "      <th>1256</th>\n",
       "      <td>MINI Cooper SE Countryman All4</td>\n",
       "      <td>1.5</td>\n",
       "      <td>3</td>\n",
       "      <td>SemiAuto-6</td>\n",
       "      <td>4WD</td>\n",
       "      <td>Gasoline/Electricity</td>\n",
       "      <td>midsize car</td>\n",
       "      <td>3</td>\n",
       "      <td>28/63</td>\n",
       "      <td>27/66</td>\n",
       "      <td>27/65</td>\n",
       "      <td>9</td>\n",
       "      <td>Yes</td>\n",
       "    </tr>\n",
       "    <tr>\n",
       "      <th>1507</th>\n",
       "      <td>TOYOTA Sequoia FFV</td>\n",
       "      <td>5.7</td>\n",
       "      <td>8</td>\n",
       "      <td>SemiAuto-6</td>\n",
       "      <td>4WD</td>\n",
       "      <td>Ethanol/Gas</td>\n",
       "      <td>standard SUV</td>\n",
       "      <td>5</td>\n",
       "      <td>9/13</td>\n",
       "      <td>13/17</td>\n",
       "      <td>10/14</td>\n",
       "      <td>1</td>\n",
       "      <td>No</td>\n",
       "    </tr>\n",
       "    <tr>\n",
       "      <th>1517</th>\n",
       "      <td>TOYOTA Tundra FFV</td>\n",
       "      <td>5.7</td>\n",
       "      <td>8</td>\n",
       "      <td>SemiAuto-6</td>\n",
       "      <td>4WD</td>\n",
       "      <td>Ethanol/Gas</td>\n",
       "      <td>pickup</td>\n",
       "      <td>5</td>\n",
       "      <td>9/13</td>\n",
       "      <td>12/17</td>\n",
       "      <td>10/15</td>\n",
       "      <td>2</td>\n",
       "      <td>No</td>\n",
       "    </tr>\n",
       "    <tr>\n",
       "      <th>1577</th>\n",
       "      <td>VOLVO S90</td>\n",
       "      <td>2.0</td>\n",
       "      <td>4</td>\n",
       "      <td>SemiAuto-8</td>\n",
       "      <td>4WD</td>\n",
       "      <td>Gasoline/Electricity</td>\n",
       "      <td>midsize car</td>\n",
       "      <td>7</td>\n",
       "      <td>26/70</td>\n",
       "      <td>33/72</td>\n",
       "      <td>29/71</td>\n",
       "      <td>10</td>\n",
       "      <td>Elite</td>\n",
       "    </tr>\n",
       "    <tr>\n",
       "      <th>1601</th>\n",
       "      <td>VOLVO XC 60</td>\n",
       "      <td>2.0</td>\n",
       "      <td>4</td>\n",
       "      <td>SemiAuto-8</td>\n",
       "      <td>4WD</td>\n",
       "      <td>Gasoline/Electricity</td>\n",
       "      <td>small SUV</td>\n",
       "      <td>7</td>\n",
       "      <td>26/60</td>\n",
       "      <td>28/58</td>\n",
       "      <td>26/59</td>\n",
       "      <td>10</td>\n",
       "      <td>Elite</td>\n",
       "    </tr>\n",
       "    <tr>\n",
       "      <th>1609</th>\n",
       "      <td>VOLVO XC 90</td>\n",
       "      <td>2.0</td>\n",
       "      <td>4</td>\n",
       "      <td>SemiAuto-8</td>\n",
       "      <td>4WD</td>\n",
       "      <td>Gasoline/Electricity</td>\n",
       "      <td>standard SUV</td>\n",
       "      <td>7</td>\n",
       "      <td>26/63</td>\n",
       "      <td>30/61</td>\n",
       "      <td>27/62</td>\n",
       "      <td>10</td>\n",
       "      <td>Elite</td>\n",
       "    </tr>\n",
       "  </tbody>\n",
       "</table>\n",
       "</div>"
      ],
      "text/plain": [
       "                                  model  displ  cyl       trans drive  \\\n",
       "108                            BMW 330e    2.0    4  SemiAuto-8   2WD   \n",
       "160                            BMW 530e    2.0    4  SemiAuto-8   2WD   \n",
       "162                            BMW 530e    2.0    4  SemiAuto-8   4WD   \n",
       "188                            BMW 740e    2.0    4  SemiAuto-8   4WD   \n",
       "382                    CHEVROLET Impala    3.6    6  SemiAuto-6   2WD   \n",
       "394              CHEVROLET Silverado 15    4.3    6      Auto-6   2WD   \n",
       "396              CHEVROLET Silverado 15    4.3    6      Auto-6   4WD   \n",
       "398              CHEVROLET Silverado 15    5.3    8      Auto-6   2WD   \n",
       "428             CHEVROLET Suburban 1500    5.3    8      Auto-6   2WD   \n",
       "432             CHEVROLET Suburban 1500    5.3    8      Auto-6   4WD   \n",
       "436                CHEVROLET Tahoe 1500    5.3    8      Auto-6   2WD   \n",
       "440                CHEVROLET Tahoe 1500    5.3    8      Auto-6   4WD   \n",
       "454                      CHEVROLET Volt    1.5    4         CVT   2WD   \n",
       "456                      CHEVROLET Volt    1.5    4         CVT   2WD   \n",
       "458                        CHRYSLER 300    3.6    6      Auto-8   2WD   \n",
       "462                        CHRYSLER 300    3.6    6      Auto-8   4WD   \n",
       "492                       DODGE Charger    3.6    6      Auto-8   2WD   \n",
       "496                       DODGE Charger    3.6    6      Auto-8   4WD   \n",
       "605   FORD Fusion Energi Plug-in Hybrid    2.0    4         CVT   2WD   \n",
       "659                       GMC Sierra 15    4.3    6      Auto-6   2WD   \n",
       "661                       GMC Sierra 15    4.3    6      Auto-6   4WD   \n",
       "663                       GMC Sierra 15    5.3    8      Auto-6   2WD   \n",
       "697                      GMC Yukon 1500    5.3    8      Auto-6   2WD   \n",
       "701                      GMC Yukon 1500    5.3    8      Auto-6   4WD   \n",
       "709                   GMC Yukon 1500 XL    5.3    8      Auto-6   2WD   \n",
       "715                   GMC Yukon XL 1500    5.3    8      Auto-6   4WD   \n",
       "892                       JEEP Cherokee    2.4    4      Auto-9   2WD   \n",
       "896                       JEEP Cherokee    2.4    4      Auto-9   4WD   \n",
       "933                        KARMA Revero    2.0    4      Auto-1   2WD   \n",
       "1162        MERCEDES-BENZ CLA250 4Matic    2.0    4   AutoMan-7   4WD   \n",
       "1179        MERCEDES-BENZ GLA250 4Matic    2.0    4   AutoMan-7   4WD   \n",
       "1192        MERCEDES-BENZ GLE350 4Matic    3.5    6      Auto-7   4WD   \n",
       "1256     MINI Cooper SE Countryman All4    1.5    3  SemiAuto-6   4WD   \n",
       "1507                 TOYOTA Sequoia FFV    5.7    8  SemiAuto-6   4WD   \n",
       "1517                  TOYOTA Tundra FFV    5.7    8  SemiAuto-6   4WD   \n",
       "1577                          VOLVO S90    2.0    4  SemiAuto-8   4WD   \n",
       "1601                        VOLVO XC 60    2.0    4  SemiAuto-8   4WD   \n",
       "1609                        VOLVO XC 90    2.0    4  SemiAuto-8   4WD   \n",
       "\n",
       "                      fuel     veh_class  air_pollution_score city_mpg  \\\n",
       "108   Gasoline/Electricity     small car                    3    28/66   \n",
       "160   Gasoline/Electricity     small car                    7    27/70   \n",
       "162   Gasoline/Electricity     small car                    7    27/66   \n",
       "188   Gasoline/Electricity     large car                    3    25/62   \n",
       "382            Ethanol/Gas     large car                    5    14/18   \n",
       "394            Ethanol/Gas        pickup                    5    12/18   \n",
       "396            Ethanol/Gas        pickup                    5    12/17   \n",
       "398            Ethanol/Gas        pickup                    3    12/16   \n",
       "428            Ethanol/Gas  standard SUV                    3    12/16   \n",
       "432            Ethanol/Gas  standard SUV                    3    11/16   \n",
       "436            Ethanol/Gas  standard SUV                    3    12/16   \n",
       "440            Ethanol/Gas  standard SUV                    3    11/16   \n",
       "454   Gasoline/Electricity     small car                    3   43/113   \n",
       "456   Gasoline/Electricity     small car                    7   43/113   \n",
       "458            Ethanol/Gas     large car                    3    14/19   \n",
       "462            Ethanol/Gas     large car                    3    13/18   \n",
       "492            Ethanol/Gas     large car                    3    14/19   \n",
       "496            Ethanol/Gas     large car                    3    13/18   \n",
       "605   Gasoline/Electricity   midsize car                    7   43/102   \n",
       "659            Ethanol/Gas        pickup                    5    12/18   \n",
       "661            Ethanol/Gas        pickup                    5    12/17   \n",
       "663            Ethanol/Gas        pickup                    3    12/16   \n",
       "697            Ethanol/Gas  standard SUV                    3    12/16   \n",
       "701            Ethanol/Gas  standard SUV                    3    11/16   \n",
       "709            Ethanol/Gas  standard SUV                    3    12/16   \n",
       "715            Ethanol/Gas  standard SUV                    3    11/16   \n",
       "892            Ethanol/Gas     small SUV                    3    15/21   \n",
       "896            Ethanol/Gas     small SUV                    3    14/21   \n",
       "933   Gasoline/Electricity     small car                    1    20/59   \n",
       "1162           Ethanol/Gas     small car                    5    17/24   \n",
       "1179           Ethanol/Gas     small SUV                    5    17/23   \n",
       "1192           Ethanol/Gas  standard SUV                    3    13/18   \n",
       "1256  Gasoline/Electricity   midsize car                    3    28/63   \n",
       "1507           Ethanol/Gas  standard SUV                    5     9/13   \n",
       "1517           Ethanol/Gas        pickup                    5     9/13   \n",
       "1577  Gasoline/Electricity   midsize car                    7    26/70   \n",
       "1601  Gasoline/Electricity     small SUV                    7    26/60   \n",
       "1609  Gasoline/Electricity  standard SUV                    7    26/63   \n",
       "\n",
       "     hwy_mpg cmb_mpg  greenhouse_gas_score smartway  \n",
       "108    34/78   30/71                    10      Yes  \n",
       "160    31/75   29/72                    10    Elite  \n",
       "162    31/68   28/67                    10    Elite  \n",
       "188    29/68   27/64                     9      Yes  \n",
       "382    20/28   16/22                     4       No  \n",
       "394    16/24   14/20                     4       No  \n",
       "396    15/22   13/19                     3       No  \n",
       "398    17/23   14/19                     3       No  \n",
       "428    17/23   14/19                     3       No  \n",
       "432    15/22   12/18                     3       No  \n",
       "436    17/23   14/19                     3       No  \n",
       "440    16/22   13/18                     3       No  \n",
       "454    42/99  42/106                    10      Yes  \n",
       "456    42/99  42/106                    10    Elite  \n",
       "458    22/30   17/23                     5       No  \n",
       "462    20/27   16/21                     4       No  \n",
       "492    22/30   17/23                     5       No  \n",
       "496    20/27   16/21                     4       No  \n",
       "605    41/91   42/97                    10    Elite  \n",
       "659    16/24   14/20                     4       No  \n",
       "661    15/22   13/19                     3       No  \n",
       "663    17/23   14/19                     3       No  \n",
       "697    17/23   14/19                     3       No  \n",
       "701    16/22   13/18                     3       No  \n",
       "709    17/23   14/19                     3       No  \n",
       "715    15/22   12/18                     3       No  \n",
       "892    22/30   18/25                     5       No  \n",
       "896    21/28   17/23                     5       No  \n",
       "933    21/61   20/60                    10       No  \n",
       "1162   24/32   20/27                     6       No  \n",
       "1179   23/31   19/26                     5       No  \n",
       "1192   17/22   14/19                     3       No  \n",
       "1256   27/66   27/65                     9      Yes  \n",
       "1507   13/17   10/14                     1       No  \n",
       "1517   12/17   10/15                     2       No  \n",
       "1577   33/72   29/71                    10    Elite  \n",
       "1601   28/58   26/59                    10    Elite  \n",
       "1609   30/61   27/62                    10    Elite  "
      ]
     },
     "execution_count": 50,
     "metadata": {},
     "output_type": "execute_result"
    }
   ],
   "source": [
    "# hybrids in 2018\n",
    "hb_18 = df_18[df_18['fuel'].str.contains('/')]\n",
    "hb_18"
   ]
  },
  {
   "cell_type": "markdown",
   "metadata": {},
   "source": [
    "We're going to take each hybrid row and split them into two new rows - one with values for the first fuel type (values before the \"/\"), and the other with values for the second fuel type (values after the \"/\"). Let's separate them with two dataframes!"
   ]
  },
  {
   "cell_type": "code",
   "execution_count": 51,
   "metadata": {},
   "outputs": [
    {
     "data": {
      "text/html": [
       "<div>\n",
       "<style scoped>\n",
       "    .dataframe tbody tr th:only-of-type {\n",
       "        vertical-align: middle;\n",
       "    }\n",
       "\n",
       "    .dataframe tbody tr th {\n",
       "        vertical-align: top;\n",
       "    }\n",
       "\n",
       "    .dataframe thead th {\n",
       "        text-align: right;\n",
       "    }\n",
       "</style>\n",
       "<table border=\"1\" class=\"dataframe\">\n",
       "  <thead>\n",
       "    <tr style=\"text-align: right;\">\n",
       "      <th></th>\n",
       "      <th>model</th>\n",
       "      <th>displ</th>\n",
       "      <th>cyl</th>\n",
       "      <th>trans</th>\n",
       "      <th>drive</th>\n",
       "      <th>fuel</th>\n",
       "      <th>veh_class</th>\n",
       "      <th>air_pollution_score</th>\n",
       "      <th>city_mpg</th>\n",
       "      <th>hwy_mpg</th>\n",
       "      <th>cmb_mpg</th>\n",
       "      <th>greenhouse_gas_score</th>\n",
       "      <th>smartway</th>\n",
       "    </tr>\n",
       "  </thead>\n",
       "  <tbody>\n",
       "    <tr>\n",
       "      <th>1550</th>\n",
       "      <td>MERCEDES-BENZ C300</td>\n",
       "      <td>3.0</td>\n",
       "      <td>6</td>\n",
       "      <td>Auto-L7</td>\n",
       "      <td>2WD</td>\n",
       "      <td>ethanol/gas</td>\n",
       "      <td>small car</td>\n",
       "      <td>6/4</td>\n",
       "      <td>13/18</td>\n",
       "      <td>19/25</td>\n",
       "      <td>15/21</td>\n",
       "      <td>7/6</td>\n",
       "      <td>no</td>\n",
       "    </tr>\n",
       "  </tbody>\n",
       "</table>\n",
       "</div>"
      ],
      "text/plain": [
       "                   model  displ  cyl    trans drive         fuel  veh_class  \\\n",
       "1550  MERCEDES-BENZ C300    3.0    6  Auto-L7   2WD  ethanol/gas  small car   \n",
       "\n",
       "     air_pollution_score city_mpg hwy_mpg cmb_mpg greenhouse_gas_score  \\\n",
       "1550                 6/4    13/18   19/25   15/21                  7/6   \n",
       "\n",
       "     smartway  \n",
       "1550       no  "
      ]
     },
     "execution_count": 51,
     "metadata": {},
     "output_type": "execute_result"
    }
   ],
   "source": [
    "# create two copies of the 2008 hybrids dataframe\n",
    "df1 = hb_08.copy()  # data on first fuel type of each hybrid vehicle\n",
    "df2 = hb_08.copy()  # data on second fuel type of each hybrid vehicle\n",
    "\n",
    "# Each one should look like this\n",
    "df1"
   ]
  },
  {
   "cell_type": "markdown",
   "metadata": {},
   "source": [
    "For this next part, we're going use Pandas' apply function. See the docs [here](https://pandas.pydata.org/pandas-docs/stable/generated/pandas.DataFrame.apply.html)."
   ]
  },
  {
   "cell_type": "code",
   "execution_count": 52,
   "metadata": {},
   "outputs": [],
   "source": [
    "# columns to split by \"/\"\n",
    "split_columns = ['fuel', 'air_pollution_score', 'city_mpg', 'hwy_mpg', 'cmb_mpg', 'greenhouse_gas_score']\n",
    "\n",
    "# apply split function to each column of each dataframe copy\n",
    "for c in split_columns:\n",
    "    df1[c] = df1[c].apply(lambda x: x.split(\"/\")[0])\n",
    "    df2[c] = df2[c].apply(lambda x: x.split(\"/\")[1])"
   ]
  },
  {
   "cell_type": "code",
   "execution_count": 53,
   "metadata": {},
   "outputs": [
    {
     "data": {
      "text/html": [
       "<div>\n",
       "<style scoped>\n",
       "    .dataframe tbody tr th:only-of-type {\n",
       "        vertical-align: middle;\n",
       "    }\n",
       "\n",
       "    .dataframe tbody tr th {\n",
       "        vertical-align: top;\n",
       "    }\n",
       "\n",
       "    .dataframe thead th {\n",
       "        text-align: right;\n",
       "    }\n",
       "</style>\n",
       "<table border=\"1\" class=\"dataframe\">\n",
       "  <thead>\n",
       "    <tr style=\"text-align: right;\">\n",
       "      <th></th>\n",
       "      <th>model</th>\n",
       "      <th>displ</th>\n",
       "      <th>cyl</th>\n",
       "      <th>trans</th>\n",
       "      <th>drive</th>\n",
       "      <th>fuel</th>\n",
       "      <th>veh_class</th>\n",
       "      <th>air_pollution_score</th>\n",
       "      <th>city_mpg</th>\n",
       "      <th>hwy_mpg</th>\n",
       "      <th>cmb_mpg</th>\n",
       "      <th>greenhouse_gas_score</th>\n",
       "      <th>smartway</th>\n",
       "    </tr>\n",
       "  </thead>\n",
       "  <tbody>\n",
       "    <tr>\n",
       "      <th>1550</th>\n",
       "      <td>MERCEDES-BENZ C300</td>\n",
       "      <td>3.0</td>\n",
       "      <td>6</td>\n",
       "      <td>Auto-L7</td>\n",
       "      <td>2WD</td>\n",
       "      <td>ethanol</td>\n",
       "      <td>small car</td>\n",
       "      <td>6</td>\n",
       "      <td>13</td>\n",
       "      <td>19</td>\n",
       "      <td>15</td>\n",
       "      <td>7</td>\n",
       "      <td>no</td>\n",
       "    </tr>\n",
       "  </tbody>\n",
       "</table>\n",
       "</div>"
      ],
      "text/plain": [
       "                   model  displ  cyl    trans drive     fuel  veh_class  \\\n",
       "1550  MERCEDES-BENZ C300    3.0    6  Auto-L7   2WD  ethanol  small car   \n",
       "\n",
       "     air_pollution_score city_mpg hwy_mpg cmb_mpg greenhouse_gas_score  \\\n",
       "1550                   6       13      19      15                    7   \n",
       "\n",
       "     smartway  \n",
       "1550       no  "
      ]
     },
     "execution_count": 53,
     "metadata": {},
     "output_type": "execute_result"
    }
   ],
   "source": [
    "# this dataframe holds info for the FIRST fuel type of the hybrid\n",
    "# aka the values before the \"/\"s\n",
    "df1"
   ]
  },
  {
   "cell_type": "code",
   "execution_count": 54,
   "metadata": {},
   "outputs": [
    {
     "data": {
      "text/html": [
       "<div>\n",
       "<style scoped>\n",
       "    .dataframe tbody tr th:only-of-type {\n",
       "        vertical-align: middle;\n",
       "    }\n",
       "\n",
       "    .dataframe tbody tr th {\n",
       "        vertical-align: top;\n",
       "    }\n",
       "\n",
       "    .dataframe thead th {\n",
       "        text-align: right;\n",
       "    }\n",
       "</style>\n",
       "<table border=\"1\" class=\"dataframe\">\n",
       "  <thead>\n",
       "    <tr style=\"text-align: right;\">\n",
       "      <th></th>\n",
       "      <th>model</th>\n",
       "      <th>displ</th>\n",
       "      <th>cyl</th>\n",
       "      <th>trans</th>\n",
       "      <th>drive</th>\n",
       "      <th>fuel</th>\n",
       "      <th>veh_class</th>\n",
       "      <th>air_pollution_score</th>\n",
       "      <th>city_mpg</th>\n",
       "      <th>hwy_mpg</th>\n",
       "      <th>cmb_mpg</th>\n",
       "      <th>greenhouse_gas_score</th>\n",
       "      <th>smartway</th>\n",
       "    </tr>\n",
       "  </thead>\n",
       "  <tbody>\n",
       "    <tr>\n",
       "      <th>1550</th>\n",
       "      <td>MERCEDES-BENZ C300</td>\n",
       "      <td>3.0</td>\n",
       "      <td>6</td>\n",
       "      <td>Auto-L7</td>\n",
       "      <td>2WD</td>\n",
       "      <td>gas</td>\n",
       "      <td>small car</td>\n",
       "      <td>4</td>\n",
       "      <td>18</td>\n",
       "      <td>25</td>\n",
       "      <td>21</td>\n",
       "      <td>6</td>\n",
       "      <td>no</td>\n",
       "    </tr>\n",
       "  </tbody>\n",
       "</table>\n",
       "</div>"
      ],
      "text/plain": [
       "                   model  displ  cyl    trans drive fuel  veh_class  \\\n",
       "1550  MERCEDES-BENZ C300    3.0    6  Auto-L7   2WD  gas  small car   \n",
       "\n",
       "     air_pollution_score city_mpg hwy_mpg cmb_mpg greenhouse_gas_score  \\\n",
       "1550                   4       18      25      21                    6   \n",
       "\n",
       "     smartway  \n",
       "1550       no  "
      ]
     },
     "execution_count": 54,
     "metadata": {},
     "output_type": "execute_result"
    }
   ],
   "source": [
    "# this dataframe holds info for the SECOND fuel type of the hybrid\n",
    "# aka the values before the \"/\"s\n",
    "df2"
   ]
  },
  {
   "cell_type": "code",
   "execution_count": 55,
   "metadata": {},
   "outputs": [
    {
     "data": {
      "text/html": [
       "<div>\n",
       "<style scoped>\n",
       "    .dataframe tbody tr th:only-of-type {\n",
       "        vertical-align: middle;\n",
       "    }\n",
       "\n",
       "    .dataframe tbody tr th {\n",
       "        vertical-align: top;\n",
       "    }\n",
       "\n",
       "    .dataframe thead th {\n",
       "        text-align: right;\n",
       "    }\n",
       "</style>\n",
       "<table border=\"1\" class=\"dataframe\">\n",
       "  <thead>\n",
       "    <tr style=\"text-align: right;\">\n",
       "      <th></th>\n",
       "      <th>model</th>\n",
       "      <th>displ</th>\n",
       "      <th>cyl</th>\n",
       "      <th>trans</th>\n",
       "      <th>drive</th>\n",
       "      <th>fuel</th>\n",
       "      <th>veh_class</th>\n",
       "      <th>air_pollution_score</th>\n",
       "      <th>city_mpg</th>\n",
       "      <th>hwy_mpg</th>\n",
       "      <th>cmb_mpg</th>\n",
       "      <th>greenhouse_gas_score</th>\n",
       "      <th>smartway</th>\n",
       "    </tr>\n",
       "  </thead>\n",
       "  <tbody>\n",
       "    <tr>\n",
       "      <th>1550</th>\n",
       "      <td>MERCEDES-BENZ C300</td>\n",
       "      <td>3.0</td>\n",
       "      <td>6</td>\n",
       "      <td>Auto-L7</td>\n",
       "      <td>2WD</td>\n",
       "      <td>ethanol</td>\n",
       "      <td>small car</td>\n",
       "      <td>6</td>\n",
       "      <td>13</td>\n",
       "      <td>19</td>\n",
       "      <td>15</td>\n",
       "      <td>7</td>\n",
       "      <td>no</td>\n",
       "    </tr>\n",
       "    <tr>\n",
       "      <th>1550</th>\n",
       "      <td>MERCEDES-BENZ C300</td>\n",
       "      <td>3.0</td>\n",
       "      <td>6</td>\n",
       "      <td>Auto-L7</td>\n",
       "      <td>2WD</td>\n",
       "      <td>gas</td>\n",
       "      <td>small car</td>\n",
       "      <td>4</td>\n",
       "      <td>18</td>\n",
       "      <td>25</td>\n",
       "      <td>21</td>\n",
       "      <td>6</td>\n",
       "      <td>no</td>\n",
       "    </tr>\n",
       "  </tbody>\n",
       "</table>\n",
       "</div>"
      ],
      "text/plain": [
       "                   model  displ  cyl    trans drive     fuel  veh_class  \\\n",
       "1550  MERCEDES-BENZ C300    3.0    6  Auto-L7   2WD  ethanol  small car   \n",
       "1550  MERCEDES-BENZ C300    3.0    6  Auto-L7   2WD      gas  small car   \n",
       "\n",
       "     air_pollution_score city_mpg hwy_mpg cmb_mpg greenhouse_gas_score  \\\n",
       "1550                   6       13      19      15                    7   \n",
       "1550                   4       18      25      21                    6   \n",
       "\n",
       "     smartway  \n",
       "1550       no  \n",
       "1550       no  "
      ]
     },
     "execution_count": 55,
     "metadata": {},
     "output_type": "execute_result"
    }
   ],
   "source": [
    "# combine dataframes to add to the original dataframe\n",
    "new_rows = df1.append(df2)\n",
    "\n",
    "# now we have separate rows for each fuel type of each vehicle!\n",
    "new_rows"
   ]
  },
  {
   "cell_type": "code",
   "execution_count": 56,
   "metadata": {},
   "outputs": [],
   "source": [
    "# drop the original hybrid rows\n",
    "df_08.drop(hb_08.index, inplace=True)\n",
    "\n",
    "# add in our newly separated rows\n",
    "df_08 = df_08.append(new_rows, ignore_index=True)"
   ]
  },
  {
   "cell_type": "code",
   "execution_count": 57,
   "metadata": {},
   "outputs": [
    {
     "data": {
      "text/html": [
       "<div>\n",
       "<style scoped>\n",
       "    .dataframe tbody tr th:only-of-type {\n",
       "        vertical-align: middle;\n",
       "    }\n",
       "\n",
       "    .dataframe tbody tr th {\n",
       "        vertical-align: top;\n",
       "    }\n",
       "\n",
       "    .dataframe thead th {\n",
       "        text-align: right;\n",
       "    }\n",
       "</style>\n",
       "<table border=\"1\" class=\"dataframe\">\n",
       "  <thead>\n",
       "    <tr style=\"text-align: right;\">\n",
       "      <th></th>\n",
       "      <th>model</th>\n",
       "      <th>displ</th>\n",
       "      <th>cyl</th>\n",
       "      <th>trans</th>\n",
       "      <th>drive</th>\n",
       "      <th>fuel</th>\n",
       "      <th>veh_class</th>\n",
       "      <th>air_pollution_score</th>\n",
       "      <th>city_mpg</th>\n",
       "      <th>hwy_mpg</th>\n",
       "      <th>cmb_mpg</th>\n",
       "      <th>greenhouse_gas_score</th>\n",
       "      <th>smartway</th>\n",
       "    </tr>\n",
       "  </thead>\n",
       "  <tbody>\n",
       "  </tbody>\n",
       "</table>\n",
       "</div>"
      ],
      "text/plain": [
       "Empty DataFrame\n",
       "Columns: [model, displ, cyl, trans, drive, fuel, veh_class, air_pollution_score, city_mpg, hwy_mpg, cmb_mpg, greenhouse_gas_score, smartway]\n",
       "Index: []"
      ]
     },
     "execution_count": 57,
     "metadata": {},
     "output_type": "execute_result"
    }
   ],
   "source": [
    "# check that all the original hybrid rows with \"/\"s are gone\n",
    "df_08[df_08['fuel'].str.contains('/')]"
   ]
  },
  {
   "cell_type": "code",
   "execution_count": 58,
   "metadata": {},
   "outputs": [
    {
     "data": {
      "text/plain": [
       "(987, 13)"
      ]
     },
     "execution_count": 58,
     "metadata": {},
     "output_type": "execute_result"
    }
   ],
   "source": [
    "df_08.shape"
   ]
  },
  {
   "cell_type": "markdown",
   "metadata": {},
   "source": [
    "# Repeat this process for the 2018 dataset"
   ]
  },
  {
   "cell_type": "code",
   "execution_count": 59,
   "metadata": {},
   "outputs": [],
   "source": [
    "# create two copies of the 2018 hybrids dataframe\n",
    "df1 = hb_18.copy()  # data on first fuel type of each hybrid vehicle\n",
    "df2 = hb_18.copy()  # data on second fuel type of each hybrid vehicle"
   ]
  },
  {
   "cell_type": "markdown",
   "metadata": {},
   "source": [
    "### Split values for `fuel`, `city_mpg`, `hwy_mpg`, `cmb_mpg`\n",
    "We don't need to split for `air_pollution_score` or `greenhouse_gas_score` here because these columns are already ints in the 2018 dataset."
   ]
  },
  {
   "cell_type": "code",
   "execution_count": 60,
   "metadata": {},
   "outputs": [],
   "source": [
    "split_columns = ['fuel', 'city_mpg', 'hwy_mpg', 'cmb_mpg']\n",
    "\n",
    "for c in split_columns:\n",
    "    df1[c] = df1[c].apply(lambda x : x.split('/')[0])\n",
    "    df2[c] = df2[c].apply(lambda x : x.split('/')[1])"
   ]
  },
  {
   "cell_type": "code",
   "execution_count": 61,
   "metadata": {},
   "outputs": [],
   "source": [
    "#append the two datafram\n",
    "new_rows = df1.append(df2)\n",
    "\n",
    "#drop the original hybird row\n",
    "df_18.drop(hb_18.index , inplace=True)\n",
    "\n",
    "#append new rows to df_18\n",
    "df_18 = df_18.append(new_rows, ignore_index=True)"
   ]
  },
  {
   "cell_type": "code",
   "execution_count": 62,
   "metadata": {},
   "outputs": [
    {
     "data": {
      "text/html": [
       "<div>\n",
       "<style scoped>\n",
       "    .dataframe tbody tr th:only-of-type {\n",
       "        vertical-align: middle;\n",
       "    }\n",
       "\n",
       "    .dataframe tbody tr th {\n",
       "        vertical-align: top;\n",
       "    }\n",
       "\n",
       "    .dataframe thead th {\n",
       "        text-align: right;\n",
       "    }\n",
       "</style>\n",
       "<table border=\"1\" class=\"dataframe\">\n",
       "  <thead>\n",
       "    <tr style=\"text-align: right;\">\n",
       "      <th></th>\n",
       "      <th>model</th>\n",
       "      <th>displ</th>\n",
       "      <th>cyl</th>\n",
       "      <th>trans</th>\n",
       "      <th>drive</th>\n",
       "      <th>fuel</th>\n",
       "      <th>veh_class</th>\n",
       "      <th>air_pollution_score</th>\n",
       "      <th>city_mpg</th>\n",
       "      <th>hwy_mpg</th>\n",
       "      <th>cmb_mpg</th>\n",
       "      <th>greenhouse_gas_score</th>\n",
       "      <th>smartway</th>\n",
       "    </tr>\n",
       "  </thead>\n",
       "  <tbody>\n",
       "  </tbody>\n",
       "</table>\n",
       "</div>"
      ],
      "text/plain": [
       "Empty DataFrame\n",
       "Columns: [model, displ, cyl, trans, drive, fuel, veh_class, air_pollution_score, city_mpg, hwy_mpg, cmb_mpg, greenhouse_gas_score, smartway]\n",
       "Index: []"
      ]
     },
     "execution_count": 62,
     "metadata": {},
     "output_type": "execute_result"
    }
   ],
   "source": [
    "# check that they're gone\n",
    "df_18[df_18['fuel'].str.contains('/')]"
   ]
  },
  {
   "cell_type": "code",
   "execution_count": 63,
   "metadata": {},
   "outputs": [
    {
     "data": {
      "text/plain": [
       "(832, 13)"
      ]
     },
     "execution_count": 63,
     "metadata": {},
     "output_type": "execute_result"
    }
   ],
   "source": [
    "df_18.shape"
   ]
  },
  {
   "cell_type": "markdown",
   "metadata": {},
   "source": [
    "### Now we can comfortably continue the changes needed for `air_pollution_score`! Here they are again:\n",
    "- 2008: convert string to float\n",
    "- 2018: convert int to float"
   ]
  },
  {
   "cell_type": "code",
   "execution_count": 64,
   "metadata": {},
   "outputs": [],
   "source": [
    "# convert string to float for 2008 air pollution column\n",
    "df_08.air_pollution_score = df_08.air_pollution_score.astype(float)"
   ]
  },
  {
   "cell_type": "code",
   "execution_count": 65,
   "metadata": {},
   "outputs": [],
   "source": [
    "# convert int to float for 2018 air pollution column\n",
    "df_18.air_pollution_score = df_18.air_pollution_score.astype(float)"
   ]
  },
  {
   "cell_type": "markdown",
   "metadata": {},
   "source": [
    "## Fix `city_mpg`, `hwy_mpg`, `cmb_mpg` datatypes\n",
    "    2008 and 2018: convert string to float"
   ]
  },
  {
   "cell_type": "code",
   "execution_count": 66,
   "metadata": {},
   "outputs": [],
   "source": [
    "# convert mpg columns to float\n",
    "mpg_columns = ['city_mpg', 'hwy_mpg', 'cmb_mpg']\n",
    "for col in mpg_columns:\n",
    "    df_08[col] = df_08[col].astype(float)\n",
    "    df_18[col] = df_18[col].astype(float)\n",
    "    "
   ]
  },
  {
   "cell_type": "markdown",
   "metadata": {},
   "source": [
    "## Fix `greenhouse_gas_score` datatype\n",
    "    2008: convert from float to int"
   ]
  },
  {
   "cell_type": "code",
   "execution_count": 67,
   "metadata": {},
   "outputs": [],
   "source": [
    "# convert from string to int\n",
    "df_08['greenhouse_gas_score'] = df_08['greenhouse_gas_score'].astype(int)"
   ]
  },
  {
   "cell_type": "code",
   "execution_count": 68,
   "metadata": {},
   "outputs": [
    {
     "data": {
      "text/plain": [
       "model                    object\n",
       "displ                   float64\n",
       "cyl                       int32\n",
       "trans                    object\n",
       "drive                    object\n",
       "fuel                     object\n",
       "veh_class                object\n",
       "air_pollution_score     float64\n",
       "city_mpg                float64\n",
       "hwy_mpg                 float64\n",
       "cmb_mpg                 float64\n",
       "greenhouse_gas_score      int32\n",
       "smartway                 object\n",
       "dtype: object"
      ]
     },
     "execution_count": 68,
     "metadata": {},
     "output_type": "execute_result"
    }
   ],
   "source": [
    "# Check if all the datatypes are fixed\n",
    "df_08.dtypes"
   ]
  },
  {
   "cell_type": "code",
   "execution_count": 69,
   "metadata": {},
   "outputs": [
    {
     "data": {
      "text/plain": [
       "model                    object\n",
       "displ                   float64\n",
       "cyl                       int32\n",
       "trans                    object\n",
       "drive                    object\n",
       "fuel                     object\n",
       "veh_class                object\n",
       "air_pollution_score     float64\n",
       "city_mpg                float64\n",
       "hwy_mpg                 float64\n",
       "cmb_mpg                 float64\n",
       "greenhouse_gas_score      int64\n",
       "smartway                 object\n",
       "dtype: object"
      ]
     },
     "execution_count": 69,
     "metadata": {},
     "output_type": "execute_result"
    }
   ],
   "source": [
    "df_18.dtypes"
   ]
  },
  {
   "cell_type": "code",
   "execution_count": 70,
   "metadata": {},
   "outputs": [
    {
     "data": {
      "text/plain": [
       "model                    True\n",
       "displ                    True\n",
       "cyl                      True\n",
       "trans                    True\n",
       "drive                    True\n",
       "fuel                     True\n",
       "veh_class                True\n",
       "air_pollution_score      True\n",
       "city_mpg                 True\n",
       "hwy_mpg                  True\n",
       "cmb_mpg                  True\n",
       "greenhouse_gas_score    False\n",
       "smartway                 True\n",
       "dtype: bool"
      ]
     },
     "execution_count": 70,
     "metadata": {},
     "output_type": "execute_result"
    }
   ],
   "source": [
    "df_08.dtypes == df_18.dtypes"
   ]
  },
  {
   "cell_type": "markdown",
   "metadata": {},
   "source": [
    "# Exploring With Visuals\n",
    "### We are going to use histogram and scatter plot to explore the data and explore following questions:\n",
    "1. Compare the distribution of the greenhouse gas score in 2008 and 2018.\n",
    "    - The distribution for 2008 is more skewed to the left.\n",
    "2. How has the distribution of the combined mpg changed from 2008 to 2018?\n",
    "    - The distribution has become more skewed to the right.\n",
    "3. Describe the correlation between displacement and combined mpg.\n",
    "    - There is a negative correlation between displacement and combined mpg.\n",
    "4. Describe the correlation between greenhouse gas score and combined mpg.\n",
    "    - There is a positive correlation between greenhouse gas score and combined mpg."
   ]
  },
  {
   "cell_type": "markdown",
   "metadata": {},
   "source": [
    "### Compare the distributions of greenhouse gas score in 2008 and 2018 using histograms\n"
   ]
  },
  {
   "cell_type": "code",
   "execution_count": 71,
   "metadata": {},
   "outputs": [
    {
     "data": {
      "text/plain": [
       "Text(0, 0.5, 'Count')"
      ]
     },
     "execution_count": 71,
     "metadata": {},
     "output_type": "execute_result"
    },
    {
     "data": {
      "image/png": "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\n",
      "text/plain": [
       "<Figure size 432x288 with 1 Axes>"
      ]
     },
     "metadata": {
      "needs_background": "light"
     },
     "output_type": "display_data"
    }
   ],
   "source": [
    "plt.hist(df_08['greenhouse_gas_score'])\n",
    "plt.title('Histogram greenhouse gas score 2008')\n",
    "plt.xlabel('greenhouse gas score')\n",
    "plt.ylabel('Count')"
   ]
  },
  {
   "cell_type": "code",
   "execution_count": 72,
   "metadata": {},
   "outputs": [
    {
     "data": {
      "image/png": "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\n",
      "text/plain": [
       "<Figure size 432x288 with 1 Axes>"
      ]
     },
     "metadata": {
      "needs_background": "light"
     },
     "output_type": "display_data"
    }
   ],
   "source": [
    "plt.hist(df_18['greenhouse_gas_score'])\n",
    "plt.title('Histogram greenhouse gas score 2018')\n",
    "plt.xlabel('greenhouse gas score')\n",
    "plt.ylabel('Count');"
   ]
  },
  {
   "cell_type": "markdown",
   "metadata": {},
   "source": [
    "### Exploring distribution of the combined mpg  2008 and 2018 using histogram.\n"
   ]
  },
  {
   "cell_type": "code",
   "execution_count": 73,
   "metadata": {},
   "outputs": [
    {
     "data": {
      "image/png": "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\n",
      "text/plain": [
       "<Figure size 432x288 with 1 Axes>"
      ]
     },
     "metadata": {
      "needs_background": "light"
     },
     "output_type": "display_data"
    }
   ],
   "source": [
    "plt.hist(df_08['cmb_mpg'])\n",
    "plt.title('Histogram combined mpg 2008')\n",
    "plt.xlabel('Combined MPG')\n",
    "plt.ylabel('Count');"
   ]
  },
  {
   "cell_type": "code",
   "execution_count": 74,
   "metadata": {},
   "outputs": [
    {
     "data": {
      "image/png": "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\n",
      "text/plain": [
       "<Figure size 432x288 with 1 Axes>"
      ]
     },
     "metadata": {
      "needs_background": "light"
     },
     "output_type": "display_data"
    }
   ],
   "source": [
    "plt.hist(df_18['cmb_mpg'])\n",
    "plt.title('Histogram combined mpg 2018')\n",
    "plt.xlabel('Combined MPG')\n",
    "plt.ylabel('Count');"
   ]
  },
  {
   "cell_type": "markdown",
   "metadata": {},
   "source": [
    "### Exploring the correlation between displacement and combined mpg using scatterplot.\n"
   ]
  },
  {
   "cell_type": "code",
   "execution_count": 75,
   "metadata": {},
   "outputs": [
    {
     "data": {
      "image/png": "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\n",
      "text/plain": [
       "<Figure size 432x288 with 1 Axes>"
      ]
     },
     "metadata": {
      "needs_background": "light"
     },
     "output_type": "display_data"
    }
   ],
   "source": [
    "plt.scatter(df_08['displ'],df_08['cmb_mpg'])\n",
    "plt.title('Scatter Plot Displacement Vs Combined Mpg 2008')\n",
    "plt.xlabel('Displacement')\n",
    "plt.ylabel('Combined Mpg');"
   ]
  },
  {
   "cell_type": "code",
   "execution_count": 76,
   "metadata": {},
   "outputs": [
    {
     "data": {
      "image/png": "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\n",
      "text/plain": [
       "<Figure size 432x288 with 1 Axes>"
      ]
     },
     "metadata": {
      "needs_background": "light"
     },
     "output_type": "display_data"
    }
   ],
   "source": [
    "plt.scatter(df_18['displ'],df_18['cmb_mpg'])\n",
    "plt.title('Scatter Plot Displacement Vs Combined MPG 2018')\n",
    "plt.xlabel('Displacement')\n",
    "plt.ylabel('Combined MPG');"
   ]
  },
  {
   "cell_type": "markdown",
   "metadata": {},
   "source": [
    "### Exploring the correlation between greenhouse gas score and combined mpg using scatterplot.\n"
   ]
  },
  {
   "cell_type": "code",
   "execution_count": 77,
   "metadata": {},
   "outputs": [
    {
     "data": {
      "image/png": "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\n",
      "text/plain": [
       "<Figure size 432x288 with 1 Axes>"
      ]
     },
     "metadata": {
      "needs_background": "light"
     },
     "output_type": "display_data"
    }
   ],
   "source": [
    "plt.scatter(df_08['greenhouse_gas_score'],df_08['cmb_mpg'])\n",
    "plt.title('Scatter Plot Green House Gas Score Vs Combined MPG 2008')\n",
    "plt.xlabel('Green House Gas Score')\n",
    "plt.ylabel('Combined MPG');"
   ]
  },
  {
   "cell_type": "code",
   "execution_count": 78,
   "metadata": {},
   "outputs": [
    {
     "data": {
      "image/png": "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\n",
      "text/plain": [
       "<Figure size 432x288 with 1 Axes>"
      ]
     },
     "metadata": {
      "needs_background": "light"
     },
     "output_type": "display_data"
    }
   ],
   "source": [
    "plt.scatter(df_18['greenhouse_gas_score'],df_18['cmb_mpg'])\n",
    "plt.title('Scatter Plot Green House Gas Score Vs Combined MPG 2018')\n",
    "plt.xlabel('Green House Gas Score')\n",
    "plt.ylabel('Combined MPG');"
   ]
  },
  {
   "cell_type": "markdown",
   "metadata": {},
   "source": [
    "# Conclusion And Visual\n",
    "Now we are going to draw conclusion, create visuals to answer the following questions:\n",
    "    1. Are more unique models using alternative fuels in 2018 compared to 2008? By how much?\n",
    "    2. How much have vehicle classes improved in fuel economy (increased in mpg)?\n",
    "    3. What are the characteristics of SmartWay vehicles? Have they changed over time? (mpg, greenhouse gas)\n",
    "    4. What features are associated with better fuel economy (mpg)?\n",
    "    5. For all of the models that were produced in 2008 that are still being produced in 2018, how much has the mpg improved and which vehicle improved the most?\n"
   ]
  },
  {
   "cell_type": "markdown",
   "metadata": {},
   "source": [
    "### Q1: Are more unique models using alternative sources of fuel? By how much?"
   ]
  },
  {
   "cell_type": "markdown",
   "metadata": {},
   "source": [
    "Lets first explore what are the sources of fuels and which ones are alternative."
   ]
  },
  {
   "cell_type": "code",
   "execution_count": 79,
   "metadata": {},
   "outputs": [
    {
     "data": {
      "text/plain": [
       "Gasoline    984\n",
       "ethanol       1\n",
       "CNG           1\n",
       "gas           1\n",
       "Name: fuel, dtype: int64"
      ]
     },
     "execution_count": 79,
     "metadata": {},
     "output_type": "execute_result"
    }
   ],
   "source": [
    "df_08.fuel.value_counts()"
   ]
  },
  {
   "cell_type": "code",
   "execution_count": 80,
   "metadata": {},
   "outputs": [
    {
     "data": {
      "text/plain": [
       "Gasoline       749\n",
       "Gas             26\n",
       "Ethanol         26\n",
       "Diesel          19\n",
       "Electricity     12\n",
       "Name: fuel, dtype: int64"
      ]
     },
     "execution_count": 80,
     "metadata": {},
     "output_type": "execute_result"
    }
   ],
   "source": [
    "df_18.fuel.value_counts()"
   ]
  },
  {
   "cell_type": "markdown",
   "metadata": {},
   "source": [
    "Alternative sources of fuel available in 2008 are CNG and ethanol, and those in 2018 are ethanol and electricity."
   ]
  },
  {
   "cell_type": "code",
   "execution_count": 81,
   "metadata": {},
   "outputs": [
    {
     "name": "stdout",
     "output_type": "stream",
     "text": [
      "2 unique models are using alternative source of fuel in 2008\n"
     ]
    }
   ],
   "source": [
    "#how many unique models are using alternative source of fuel in 2008\n",
    "alt_08 = df_08.query('fuel in [\"CNG\", \"ethanol\"]').model.nunique()\n",
    "\n",
    "print(str(alt_08)+\" unique models are using alternative source of fuel in 2008\")"
   ]
  },
  {
   "cell_type": "code",
   "execution_count": 82,
   "metadata": {},
   "outputs": [
    {
     "name": "stdout",
     "output_type": "stream",
     "text": [
      "26 unique models are using alternative source of fuel in 2018\n"
     ]
    }
   ],
   "source": [
    "#how many unique models are using alternative source of fuel in 2018\n",
    "alt_18 = df_18.query('fuel in [\"Electricity\", \"Ethanol\"]').model.nunique()\n",
    "\n",
    "print(str(alt_18)+\" unique models are using alternative source of fuel in 2018\")"
   ]
  },
  {
   "cell_type": "code",
   "execution_count": 83,
   "metadata": {},
   "outputs": [
    {
     "data": {
      "image/png": "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\n",
      "text/plain": [
       "<Figure size 432x288 with 1 Axes>"
      ]
     },
     "metadata": {
      "needs_background": "light"
     },
     "output_type": "display_data"
    }
   ],
   "source": [
    "plt.bar(['2008','2018'],[alt_08, alt_18])\n",
    "plt.title('Number of Unique Models Using Alternate Fuel')\n",
    "plt.xlabel('Year')\n",
    "plt.ylabel('Number of Unique Models');"
   ]
  },
  {
   "cell_type": "markdown",
   "metadata": {},
   "source": [
    "Since 2008, the number of unique models using alternative sources of fuel increased by 24."
   ]
  },
  {
   "cell_type": "markdown",
   "metadata": {},
   "source": [
    "#### Let us look at proportions."
   ]
  },
  {
   "cell_type": "code",
   "execution_count": 84,
   "metadata": {},
   "outputs": [
    {
     "data": {
      "text/plain": [
       "(377, 357)"
      ]
     },
     "execution_count": 84,
     "metadata": {},
     "output_type": "execute_result"
    }
   ],
   "source": [
    "#total unique models \n",
    "total_08 = df_08.model.nunique()\n",
    "total_18 = df_18.model.nunique()\n",
    "\n",
    "total_08,total_18"
   ]
  },
  {
   "cell_type": "code",
   "execution_count": 85,
   "metadata": {},
   "outputs": [
    {
     "data": {
      "text/plain": [
       "(0.005305039787798408, 0.07282913165266107)"
      ]
     },
     "execution_count": 85,
     "metadata": {},
     "output_type": "execute_result"
    }
   ],
   "source": [
    "#Calculating proportions\n",
    "prop_08 = alt_08/total_08\n",
    "prop_18 = alt_18/total_18\n",
    "\n",
    "prop_08,prop_18"
   ]
  },
  {
   "cell_type": "code",
   "execution_count": 86,
   "metadata": {},
   "outputs": [
    {
     "data": {
      "image/png": "iVBORw0KGgoAAAANSUhEUgAAAYQAAAESCAYAAAD9gqKNAAAABHNCSVQICAgIfAhkiAAAAAlwSFlzAAALEgAACxIB0t1+/AAAADh0RVh0U29mdHdhcmUAbWF0cGxvdGxpYiB2ZXJzaW9uMy4yLjIsIGh0dHA6Ly9tYXRwbG90bGliLm9yZy+WH4yJAAAgAElEQVR4nO3de5weZXn/8c/uJpCEbLJGVxBFUAtfgodQDJgAicDPiIAp1LMRlSAiKhXlhwUREI9gJaUqRkw0IlgrBcUaKYnVeiIQKJRDkOTCAGktVgVkc4CQZDfbP+77kWHZZ5/ZZJ/n2Wy+79drX7sz9xyumZ2Za+a+59DS29uLmZlZa7MDMDOz4cEJwczMACcEMzPLnBDMzAxwQjAzs8wJwczMACeEQZG0j6QeSXcWfu6SdHKT4nmRpO/lv/eUdFOD5vtVSQ9K+myf/kdIuqef4S+TdGGNaTYy/jWSHpc0vk//kyT1SnrTIKd3lqQrSgzXK+k5g5juz/vGIuk5kga8V1zSVEnXlp1PyVhm5/jf2qf/FZLOyn9fIOn4oZzvAPEcLOny/PeQLW/ehjf22cfvlHTadkzzGf/H4WpUswPYAW2MiAMrHZKeD9wj6baIuLvBsewNCCAifgcc2qD5vg94YUT8z1BNsMHxAzwCvAG4stDvXcAfGhhDXUTEbcBQH4A+APwj8BHg6irDHAXcO8TzrealwAugLst7f3Ef35k4IWyniHhI0m+A/SQdBLwH2A1YGxFHSjofeDvQDdwHnB4Rv5f0c+A/gcOB5wBXRcQnACSdAHyCdAW3HjgzIm7NZ9nTgT2Be4CDgedLWko6SN8TEeMljQb+Hvh/QA9wC/CRiFgvaQ1wRS57IXBlRJzfd7kkvRS4DHg20AvMi4grJf0KaAFukPSBiPjVYNZXXu6bgcPy/H8CnJr/rsQ/EVgITAH+F/hv4IGIuDDH/6Z8EKDYLelQ4PN5/fcAn4yIH1UJ5dvAieSEIGlvYDywqhDrDOALwDhgM3BeRCzJ6/dLwCzgj6QksjaPMxH4IvByYDTwU+CjEdFdmO4eeb6Vq4Xr+/sf1JKvcL4J7AtsBW4nbQczgcsi4mX5ymVdjmcv4G7gXRGxQdKxeX31AHcCrwEOj4g1febzYuAI0gnISknTImJ5n2E+CEwFviCpB7g+T/vVQBtwB/ChiFiX/2e3AK8AzgUupZ9tUlJrLpsGtJO2u1NI28OngImSvgl8i7StHgb8FtgvIn6f47oFuJD0f+g3nkGs7yMq67VK98eBN5L22zXAB/KJTmX8UcCXc5xbgAeAuRGxoWwM9eYqo+0kaTrwF6QNHNKZyxE5GcwFjgEOjohXkA7iVxRHJ20cBwFvlfR6SfsDlwNvjIgpwAXAv0iakMfZG/jLiHg7aee4PyKO7hPWeaSkMSX/tJIObBXjI2IG6Yz8LEkv6rNMo4AfAl/OcR8DfE7S9DwewJGDTQYFLyEdYCrTfnWf8k8DTwL7A28lnXkOSNKzSAfHd0bEQcDxwFclvbDKKNcDUyQ9L3e/k8LVgqRnA9cCZ+R18G7g23ldfQDYDziAlBSK87gUuD0iXgn8Jemgf2afeb+XlOAOAmYA++ZEMlh/DbTns9mDc78X9zPcK4HXAZOBfYA35+W7Cjgxj/8z4PlV5nMaKWn9Efgu6SrhaSLiK8BtpOR3HXAO6STolXk7/h1wcWGUeyJich4W+t8mX0XajqdHxAGkA/85EfFb0n7xq4iYW4hhLXAdKdEjaTKwB7C0RDxFL+lTXfTDKsP9maR3kZLuIXl9/ivw9T6DTSdt91Py9vEAaR8YNnyFMHhjJd2Z/x5Fqnp4R0T8VhLA3YWzjmOAb0bE47n7i8DHJe2Su78WEVuALknXAEeTDi4/jYgHACLi3yX9kbRTAywvnm1WcQzw8TxtJH0Z+EGh/F/ytB/K054EPFgo3w8YExHfz8P9LrdVvI50dl/N1ir9W0lnoRWLI2IrsE7S6n7mfxTpQNwL/KFk/fB04HnAD/L/AdKVzStIZ5R9bSYd8OcA80iJ59U8VfXwKmB1RNwCEBG/lrSMtEO/BvhORGwGNkv6R57asV8PHCLpPbl7bD/zXgL8a05WPyEd5Nb2M1x/67O10P9GUqL+OfBvwD9ExGpJL+g7v4jYBCBpBWl9zwTujYi78vJ9S9KX+s5M0q7AXKDSTvYtYJmkvfKBuZrXAx3ArPz/2IV0NVXR92TiGdtkRNws6TzgfZIqJxHrB5gnpIPwfOCSHPeiiNgqqVY8RdtSZfR64BDgtjz9NtKVZdEK8hV7vqr/XkTcOsj51JUTwuBtrLGxFC//2kgHpYpW0jpvyd3dfcp6+hmnUja6n+lX0998Rxe6Nxb+7i3EU238/qbRn0dIVUx97U66Oio7/419+m0eYPhKcm0DVkbEqyoFkvYEHh4g3iuByyXdDERE/KmQTGqtg2IMxf9jG/DmiFiZY+joO52I+I98BvwaUvK7VdIxEXF7n/n1tz53Bx7N03lQ0l+QDpRHAT+RdCrPPGj2t767eeZ67y8BvQV4FnBZPrGoTONvgL/tZ/iKNlJSvwH+XL01plDedzt+RoySjiOdRM0jJYxV5LP/aiLiV5JGSTqElOynl4ynjGrbXmX6n4+Ir+bp70pab8XYuiRNIdUKHAVcLekLETF/kHHUjauM6msJcLKk3XL3h4BfVs7WgBMltebqjrcAi0l1nUfnelskHUWq+72FZ+qm/4P0EuD9kkbnetgPks4gy1oFbJH0hhzDnqS60VrTWAU8qcKdKJIOAI4c5PyvB94rqS1XpZxQKHuYVFddqcOtVPksJ1W9zMxlBwK/oXo1CPnsfyzwOZ5elQfpSmj/fGCptKnMBH4O3AC8S9IYSWNIVxcVS4GPSGrJB4UfAqcXJyzpYuD8iPgBcAbwa+Bl/YR4AzC3Up2Uq/JOJ1VHIOn9pGqyH0fE2XneB1Vb3j6Wkdq9XpGn9UbSGXTfJPh+4LMRsXdE7BMR+5CqkN5b2K4ritvjUuB0SbvkbXAhcFHJ2Cpmka4mv0qqjjqBdODtO6++vk6qq7+7cBUzFPE8DLxQ0nMltQBvK5QtBU4pVO1+ilQl92f5KuWnwE0RcSHphORghhEnhPr6BqlK4FZJK0k76zsK5WOBW0kHs/kR8dOIuJdUR/19pVs4LwZmV6lSuJd0AL6Vp5+5fAb4PamhcCVpxzmjbNC5qukE4AxJd+dl+FRE/KzGeFtJl84nS1qR419Eqtf/Tdn5k5b5T6QG0OtJDcsVZ+e47iTV+9+e5/0wKWl9QdJdpJ3xnX0bSPtxFaktZ0mfZXkEeDPw5VzN8h1SA+B9wNdIB6h7gF/w9OquD5EatVfk+FcAf9dnnv8AHJjXz215/O/2E9sVpJOEZXl5f006YH8ol19JOkDeK+l2YCKpsbumiPgT6WaHKyX9J6m6sht4ojJMPps9kHRwLboSeAw4qU//HwIXSXo3qR1oDanx9l7S9vn/y8RWcDlwRF7//wncD7woH9CXAy+W9P1+xvtWjrtYh7/d8eR9s/K/X87T/+9fB34ELJf0a1IV4kl9JnED6X94j6TbSO0lnxxMDPXW4tdfN0eu970sIob0fvGRSNJlwCP5rMqGQD6TPQ+4MCKeULpD7npgz9x2YzshtyGY7YTy7Z+bgf+QtIV0G+RbnAx2br5CMDMzwG0IZmaWOSGYmRmwg7chbN26tbenx1VeQ6GtrQWvSxvOvI0OndGj2x4BOvv236ETQk9PL11dT9Qe0Grq6BjndWnDmrfRodPZ2f5f/fV3lZGZmQFOCGZmljkhmJkZ4IRgZmaZE4KZmQFOCGZmljkhmJkZ4IRgZmaZE4KZmQE7+JPKZiPZ+AljGburd9Gizs72ZocwLGzc1M2GdRtrDzhI3trMhqmxu45in3Oub3YYNgytufi4Uh9XHyxXGZmZGeCEYGZmmROCmZkBdWpDkNQKzAemAJuAUyJidaF8NnAB0A0sioiFkk4CTsqDjAEOBPaIiK56xGhmZk9Xr0blE4AxETFd0jRgHnA8gKTRwKXAwcDjwDJJiyPiCuCKPMxXSInCycDMrEHqVWV0OLAEICKWA1MLZZOB1RHxWERsBm4EZlQKJU0FXhoRC+oUm5mZ9aNeVwgTgLWF7h5JoyKiu5+y9cDEQve5wCfLzKStrYWOjnHbG6sBbW2tXpdmO5B67K/1SgjrgOITJK05GfRX1g50AUjqAPaPiJ+VmYk/oTl0/HnC4ccPYdlAtmd/rbZt1avKaBlwLEBuQ1hRKFsJ7CtpkqRdgJnAzblsJvCTOsVkZmYDqNcVwnXALEk3AS3AXElzgPERsUDSmcBSUkJaFBEP5fEEPFCnmMzMbAB1SQgRsRU4rU/vVYXyxcDifsb7Qj3iMTOz2vxgmpmZAU4IZmaWOSGYmRnghGBmZpkTgpmZAU4IZmaWOSGYmRnghGBmZpkTgpmZAU4IZmaWOSGYmRnghGBmZpkTgpmZAU4IZmaWOSGYmRnghGBmZpkTgpmZAU4IZmaWOSGYmRnghGBmZpkTgpmZATCqHhOV1ArMB6YAm4BTImJ1oXw2cAHQDSyKiIW5/8eAvwJ2AeZHxDfqEZ+ZmT1TXRICcAIwJiKmS5oGzAOOB5A0GrgUOBh4HFgmaTGwP3AocBgwDjirTrGZmVk/BpUQJLVGxNYSgx4OLAGIiOWSphbKJgOrI+KxPM0bgRnAQcAK4DpgAvDRWjNpa2uho2PcYBbBqmhra/W6NNuB1GN/rZkQJL0ZaAN2Bb4g6e8i4pIao00A1ha6eySNiojufsrWAxOB5wB7A68HXgT8UNL+EdFbbSY9Pb10dT1RaxGshI6OcV6Xw0xnZ3uzQ7BhbHv212rbVplG5bOAfwNOBPYCZpcYZx1QnGNrTgb9lbUDXcCjwNKI2BwRATwJdJaYl5mZDYEyCeHJ/Ht9RGzi6QfzapYBxwLkNoQVhbKVwL6SJknaBZgJ3AzcCLxOUoukPYHdSEnCzMwaoEwbwoPAbcDfSPoEcEuJca4DZkm6CWgB5kqaA4yPiAWSzgSWkhLSooh4CHhI0kzg1tz/gxHRM/hFMjOzbdHS21u1iv7PJI2PiA2Sdo+IPzQgrlK2bOnpdb330HAbwvDT2dnOPudc3+wwbBhac/FxPPzw+m0ev7Oz/XZgat/+Va8QJP0T0Fvo/vPviJizzZGYmdmwNFCV0eUNi8LMzJquakKIiF8ASGoHzgaeB1wP3N2Y0MzMrJHK3GW0CHgA2A/4PeDXSZiZjUBlEsKzI2IRsCUiKncNmZnZCFPqbaeS9s+/XwD4VlAzsxGozHMIZwDfJL2D6FrgA3WNyMzMmqJmQoiIFcD0BsRiZmZNNNBzCA9SeA4B2AKMBjZFxOR6B2ZmZo01UBvC/sABwM+At0WEgDeS3jlkZmYjTNWEEBGbIuJJ4CURcWvudwegRgVnZmaNU6ZRuUvSp0kvnTsUWFPXiMzMrCnK3Hb6DtIDaa8DfgfMrWtEZmbWFIP5HkJLHr6tfuGYmVmzlEkIC4AXAz8G9gG+Xs+AzMysOcq0IewbETPz3z/IH70xM7MRpswVwhhJ4wAkjcVVRmZmI1KZK4QvAndJuof0XMKFdY3IzMyaosyrK/5R0g2kdoQHI8IfvjczG4EGenXFoir9iYiT6xeSmZk1w0BXCFOBccC3gUF9B0FSKzAfmAJsAk6JiNWF8tnABUA3sCgiFub+dwBr82APRoSfeTAza5CBPqH5CkkvA04EzgF+CXy7eGAfwAnAmIiYLmkaMA84HkDSaOBS4GDgcWCZpMVAV57vEdu+OGZmtq0GbEOIiHtIyQBJM4GLJO0VEdNqTPdwYEmexnJJUwtlk4HVEfFYnu6NwAzgv4Fxkn6c4zo3IpZvwzKZmdk2qNmoLGkC8NfA24HdSFVItUzgqaofgB5JoyKiu5+y9cBE4AngEtKDb/sCN0hSHqdfbW0tdHSMKxGO1dLW1up1abYDqcf+OlCj8ptJSeCFwPeB0yJiTcnprgPaC92thQN737J2UnXRfaQrh17gPkmPAs8DflttJj09vXR1PVEyJBtIR8c4r8thprOzvfZAttPanv212rY10BXC1cAq4C7g5cDnpPTm64iYU2N+y4DZwD/nNoQVhbKVwL6SJgEbgJmkK4OT83w+IGlP0pXE/9aYj5mZDZGBEsKR2zHd64BZ+TUXLcBcSXOA8RGxQNKZwFLSk9KLIuIhSd8ArshtCr3AyQNVF5mZ2dBq6e3trT3UMLVlS0+vqzmGhquMhp/Oznb2Oef6Zodhw9Cai4/j4YfXb/P4nZ3tt5MeLXiaMu8yMjOznYATgpmZAeVuO30+8HmgE7gWuDsibql3YGZm1lhlP5CzCNiF9LTyF+sakZmZNUWp7yFExL8DvRERPPVJTTMzG0HKJIRNko4G2vIzBU4IZmYjUJmEcCowF3gOcBbw/rpGZGZmTVHmAzn/A7ytAbGYmVkTlbnL6H9JTw63AJOAByJicr0DMzOzxipzhfC8yt+S9sbfVDYzG5EG9WBaRPwXsH+dYjEzsyYqU2X0T6QqI4A9gT/UNSIzM2uKmgkBuLzw95PAbXWKxczMmqhMQti7T7cK30W4csgjMjOzpiiTEGYD44FfkF6XujtQ+WaBmZmNEGUSwkTg6PxpSyT9OCI+Vt+wzMys0crcZdRJSgpI6iR92tLMzEaYMlcInwXuyh+93w2/usLMbEQq82DatZJ+AEyKiD82ICYzM2uCqlVGki7Lv28mfQfhB5JuknRTo4IzM7PGGegK4dP596BfbCepFZgPTAE2AadExOpC+WzgAqAbWBQRCwtlzwVuB2ZFxKrBztvMzLZN1SuEiKg8kbwVeCvw7sJPLSeQPqwzHTgHmFcpkDQauBR4LfBq4FRJexTKvgZsHPSSmJnZdilzl9E1pDuL/lD4qeVwYAlARCwnPb9QMRlYHRGPRcRm0jMNM3LZJaQno39XKnozMxsyZe4yWh8R5w1yuhOAtYXuHkmjIqK7n7L1wERJJwEPR8RSSaWec2hra6GjY9wgQ7P+tLW1el2a7UDqsb+WSQj3SHobcAf56eSIuK/GOOuA9kJ3a04G/ZW1A13Ah4BeSa8BDgSulPRXEfH7ajPp6emlq+uJEotgtXR0jPO6HGY6O9trD2Q7re3ZX6ttW2USwoH5p6IXOKrGOMtIr7z45/wd5hWFspXAvpImARuAmcAlEXFtZQBJPwdOGygZmJnZ0CrzHMKR2zDd64BZ+RbVFmCupDnA+IhYIOlMYCmpDWNRRDy0DfMwM7MhVDUhSHqQp15g10u68+c/gLNrPaAWEVuB0/r0XlUoXwwsHmD8IwaM2szMhtxAVwh9v4w2HjgWWAgcX7eIzMysKaomhIjY1KfXJuAqSafWNyQzM2uGQX1TORsz5FGYmVnTDdSGsF+fXrsCbwJ+U9eIzMysKQZqQ/han+6NpHcMva9+4ZiZWbMM1IawLbebmpnZDmpb2hDMzGwEckIwMzNg4A/kLMm/P9G4cMzMrFkGalSeIOkaYIYkFQsiYk59wzIzs0YbKCEcA7wc+AvSNwpaGhKRmZk1xUBfTFsbETcCh5BeW3EI0BERv2hUcGZm1jhlGpU/BbwH2AK8W9K8GsObmdkOqMz3EGZGxGEAkr4ILK9vSGZm1gxlrhBGS6oM18JTr8Q2M7MRpMwVwtXAMknLgVcB361vSGZm1gxlvpg2T9JS0vcRvhER99Q/LDMza7QyVwjkJOBEYGY2gvnVFWZmBjghmJlZVrPKSNIs4EzSB3IAiIij6hmUmZk1Xpk2hEuBDwO/LTvRfJvqfGAK6VvMp0TE6kL5bOACoBtYFBELJbUBCwEBPcDciLi/7DzNzGz7lEkI/x0RPxnkdE8AxkTEdEnTgHnA8QCSRpOSzMHA46RbWhcD0wAi4jBJRwB/XxnHzMzqr0xC+KOky4E7yA+lRcSCGuMcDizJwy6XNLVQNhlYHRGPAUi6EZgREddI+lEeZm/gD7UCa2troaNjXIlFsFra2lq9Ls12IPXYX8skhAfz7z0GMd0JwNpCd4+kURHR3U/ZemAiQER0S/oW8NfAm2rNpKenl66uJwYRllXT0THO63KY6exsb3YINoxtz/5abduqeZdRRHwSuA3YCNyZu2tZBxTn2JqTQX9l7UBXYX7vBvYDFkrarcS8zMxsCNRMCJIuAuYCm0lvO72kxHSXAcfm8acBKwplK4F9JU2StAswE7hZ0jslfSwP8wSwldS4bGZmDVCvt51eB8ySdBPphXhzJc0BxkfEAklnAktJCWlRRDwk6fvANyX9EhgNfDgintyGZTIzs21QJiGMltQaEVsp+bbTPOxpfXqvKpQvBhb3Gedx4C0l4jEzszrYlredXl3fkMzMrBn8tlMzMwMGaFSWdEr+fREwBzgImCPpcw2KzczMGmigK4TKqypW9envL6aZmY1AVRNCRCzNfx4cEadX+ku6Eriy3oGZmVljVU0Ikj4InAdMkvSG3LsFuLcRgZmZWWMNdIXwFeArks6NCLcbmJmNcGU+kHNs3aMwM7OmK/Mcwp8knQEE6XUSRMSP6xqVmZk1XJmE8ChwYP6BdJeRE4KZ2QhT5sG0uZJeBhwA3BcRd9Y/LDMza7Qybzv9G9KnLQ8FFkg6q+5RmZlZw5VpVJ5D+qLZh4HDgLfWNyQzM2uGMgmhpfJxm4jYAmypb0hmZtYMZRqVb5R0LfArYAbp4zdmZjbClPmE5lnAN0nJY1FEfLTuUZmZWcOVaVR+LvBaYBZwlKRn1T0qMzNruDJtCFeTvoN8NvAAcFVdIzIzs6Yo04ZARFye/7xLkj9zaWY2ApVJCKskvQP4GfBK4FFJ+wFExH31DM7MzBqnTELYP/+8h/T6a4CvkV5hcVR/I0hqBeYDU4BNwCkRsbpQPhu4AOgmNVQvlDQaWATsA+wKfCYifrgNy2RmZtugzKsrjpT0bOAlwAMR8UiJ6Z4AjImI6ZKmAfOA4wHygf9S4GDgcWCZpMXAMcCjEfHOPL87ACcEM7MGKXOX0ZuBm4BzgeWSTiwx3cOBJQARsRyYWiibDKyOiMciYjNwI+n5hmuA8wvDdZdaAjMzGxJlqozOBF4ZERsktQP/Dny7xjgTgLWF7h5Jo/ITz33L1gMTI2IDQJ7HtaSvtQ2ora2Fjo5xJRbBamlra/W6NNuB1GN/LZMQtlYO1hGxXtKTJcZZB7QXulsrr7/op6wd6AKQtBdwHTA/Ir5TayY9Pb10dT1RIhyrpaNjnNflMNPZ2V57INtpbc/+Wm3bKpMQ7pc0D/glMBO4v8Q4y4DZwD/nNoQVhbKVwL6SJgEb8jQvkbQ76TsLp0fET0vMw8zMhlCZB9NOIT2QNiv/fm+Jca4DnpR0E6kB+SOS5kg6Nb8g70xgKXAz6S6jh0htFM8Czpf08/wzdvCLZGZm26LMFcKPIuK1g5loRGwFTuvTe1WhfDGwuM84ZwBnDGY+ZmY2dMokhC5JfwXcx1PfVPYDaWZmI0yZhNAJfKTQXfWBNDMz23ENmBAkTQCOiwjffmJmNsJVbVSWdDpwF+mFdkc3LiQzM2uGge4ymgMImA58uDHhmJlZswyUEJ6MiM353UW7NCogMzNrjjLPIcBTbzk1M7MRaqBG5ZdK+g4pGVT+BiAi5tQ9MjMza6iBEkLxy2iXVx3KzMxGhKoJISJ+0chAzMysucq2IZiZ2QjnhGBmZoATgpmZZU4IZmYGOCGYmVnmhGBmZoATgpmZZU4IZmYGOCGYmVnmhGBmZoATgpmZZWW+qTxoklqB+cAUYBNwSkSsLpTPBi4AuoFFEbGwUPYq4PMRcUQ9YjMzs/7V6wrhBGBMREwHzgHmVQokjQYuBV4LvBo4VdIeuexvga8DY+oUl5mZVVGXKwTgcGAJQEQslzS1UDYZWB0RjwFIuhGYAVwD3A+8AbiqzEza2lro6Bg3lHHvtNraWr0uzXYg9dhf65UQJgBrC909kkZFRHc/ZeuBiQAR8T1J+5SdSU9PL11dTwxBuNbRMc7rcpjp7Gxvdgg2jG3P/lpt26pXldE6oDjH1pwM+itrB7rqFIeZmZVUr4SwDDgWQNI0YEWhbCWwr6RJknYBZgI31ykOMzMrqV5VRtcBsyTdRPom81xJc4DxEbFA0pnAUlJCWhQRD9UpDjMzK6kuCSEitgKn9em9qlC+GFhcZdw1wLR6xGVmZtX5wTQzMwOcEMzMLHNCMDMzwAnBzMwyJwQzMwOcEMzMLHNCMDMzwAnBzMyyej2pPOyNnzCWsbvutIvfL79MLdm4qZsN6zY2Owyzhttpj4hjdx3FPudc3+wwbBhac/FxbGh2EGZN4CojMzMDnBDMzCxzQjAzM8AJwczMMicEMzMDnBDMzCxzQjAzM8AJwczMMicEMzMDnBDMzCyry6srJLUC84EpwCbglIhYXSifDVwAdAOLImJhrXHMzKy+6nWFcAIwJiKmA+cA8yoFkkYDlwKvBV4NnCppj4HGMTOz+qtXQjgcWAIQEcuBqYWyycDqiHgsIjYDNwIzaoxjZmZ1Vq+3nU4A1ha6eySNiojufsrWAxNrjNOv0aPbHunsbP+vbQ1yzcXHbeuoNsINl1eBexu1arZzG927v571SgjrgGK0rYUDe9+ydqCrxjjVdG5voGZmltSrymgZcCyApGnAikLZSmBfSZMk7QLMBG6uMY6ZmdVZS29v75BPtHDH0CuAFmAucBAwPiIWFO4yaiXdZfSV/saJiFVDHpyZmfWrLgnBzMx2PH4wzczMACcEMzPLnBDMzAyo322nNgzkp8IXAfsAuwKfAe4FrgB6gXuAD0bEVknvBd5Hep3IZyLiR5ImAt8FdgM2AydGxO8bvRw2cg1mG83DdwI3AS+PiCe9jQ4tXyGMbCcCj0bEDOAY4DLg74Hzcr8W4Pj86pAPAYcBRwMXSdoVOAlYEREzgauBjzZ+EWyEK7WNAkg6GvgxsHth/JPwNjpknBBGtmuA8wvd3cArgV/k7huA1wCHAMsiYlNErAVWk27/XcFTDwtOALY0ImjbqZTdRgG25r//VBje2+gQcpXRCBYRGwAktQPXAucBl0RE5V7jaq8NqfR/GHitpHuBSaR3TpkNmUFso/HxQKIAAAIGSURBVETEv+Vhi5N4FG+jQ8ZXCCOcpL2AnwFXRcR3SGdZFdVeG1Lp/wng7yLiANLbab/XkKBtp1JyG63G2+gQckIYwSTtTqpzPTsiFuXed0g6Iv99DPAr4FZghqQxuZFuMqkx7zGeunL4I+lKwmzIDGIbrcbb6BDyk8ojmKQvAm8Fiq8AOQP4ErAL6b1S742InnyX0amkk4TPRcT3JO0JfB0YD4wGLqhctpsNhcFso4Vx1gD757uMvI0OIScEMzMDXGVkZmaZE4KZmQFOCGZmljkhmJkZ4IRgZmaZE4LZIEm6VtI5he7xkkLSlGbGZba9nBDMBu804P2SDsjdlwALIuKuJsZktt38HILZNsjfBf9Y/jkPOBlYAIwBngROjYjfSroImEp6BcPKiJgr6ULgUNLDVO+JiJVNWASzZ/AVgtk2iIjFpKdrryC9gvkS4EsRcWT++2JJE4DHImIWKQFMk/T8PImVEXGok4ENJ37bqdm2uxIYFxEPSXo5cK6ks0nv8N8MbASeK+mfgA089XoFgGhGwGYD8RWC2dBYRXpB2xGkL89dS3ox214R8XbgXGAsKVnA09/oaTYs+ArBbGicBXxV0hjSgf8M4EHgfEnLgU3AA8CezQvRbGBuVDYzM8BVRmZmljkhmJkZ4IRgZmaZE4KZmQFOCGZmljkhmJkZ4IRgZmbZ/wG2wStXQXWwtQAAAABJRU5ErkJggg==\n",
      "text/plain": [
       "<Figure size 432x288 with 1 Axes>"
      ]
     },
     "metadata": {
      "needs_background": "light"
     },
     "output_type": "display_data"
    }
   ],
   "source": [
    "plt.bar([\"2008\", \"2018\"], [prop_08,prop_18])\n",
    "plt.title(\"Proportion of Unique Models Using Alternative Fuels\")\n",
    "plt.xlabel(\"Year\")\n",
    "plt.ylabel(\"Proportion of Unique Models\");"
   ]
  },
  {
   "cell_type": "markdown",
   "metadata": {},
   "source": [
    "### Q2: How much have vehicle classes improved in fuel economy?  "
   ]
  },
  {
   "cell_type": "markdown",
   "metadata": {},
   "source": [
    "Lets explore the the average fuel economy for each vehicle class"
   ]
  },
  {
   "cell_type": "code",
   "execution_count": 87,
   "metadata": {},
   "outputs": [
    {
     "data": {
      "text/plain": [
       "veh_class\n",
       "SUV              18.471429\n",
       "large car        18.509091\n",
       "midsize car      21.601449\n",
       "minivan          19.117647\n",
       "pickup           16.277108\n",
       "small car        21.105105\n",
       "station wagon    22.366667\n",
       "van              14.952381\n",
       "Name: cmb_mpg, dtype: float64"
      ]
     },
     "execution_count": 87,
     "metadata": {},
     "output_type": "execute_result"
    }
   ],
   "source": [
    "veh_08 = df_08.groupby('veh_class').cmb_mpg.mean()\n",
    "veh_08"
   ]
  },
  {
   "cell_type": "code",
   "execution_count": 88,
   "metadata": {},
   "outputs": [
    {
     "data": {
      "text/plain": [
       "veh_class\n",
       "large car          23.409091\n",
       "midsize car        27.884058\n",
       "minivan            20.800000\n",
       "pickup             18.589744\n",
       "small SUV          24.074074\n",
       "small car          25.421053\n",
       "special purpose    18.500000\n",
       "standard SUV       18.197674\n",
       "station wagon      27.529412\n",
       "Name: cmb_mpg, dtype: float64"
      ]
     },
     "execution_count": 88,
     "metadata": {},
     "output_type": "execute_result"
    }
   ],
   "source": [
    "veh_18 = df_18.groupby('veh_class').cmb_mpg.mean()\n",
    "veh_18"
   ]
  },
  {
   "cell_type": "code",
   "execution_count": 89,
   "metadata": {},
   "outputs": [
    {
     "data": {
      "text/plain": [
       "4.900000000000002"
      ]
     },
     "execution_count": 89,
     "metadata": {},
     "output_type": "execute_result"
    }
   ],
   "source": [
    "#Improvements in the average fuel economy for each class\n",
    "inc = veh_18-veh_08\n",
    "inc[1]"
   ]
  },
  {
   "cell_type": "code",
   "execution_count": 90,
   "metadata": {},
   "outputs": [
    {
     "data": {
      "text/plain": [
       "Text(0, 0.5, 'Increase in Average Combined MPG')"
      ]
     },
     "execution_count": 90,
     "metadata": {},
     "output_type": "execute_result"
    },
    {
     "data": {
      "image/png": "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\n",
      "text/plain": [
       "<Figure size 432x288 with 1 Axes>"
      ]
     },
     "metadata": {
      "needs_background": "light"
     },
     "output_type": "display_data"
    }
   ],
   "source": [
    "#plotting vehicles classes that exist in both year\n",
    "inc.dropna(inplace=True)\n",
    "plt.bar(inc.index,inc)\n",
    "plt.title('Improvements in the Average Fuel Economy From 2008 to 2018 By Vehicles Class')\n",
    "plt.xlabel('Vehicle Class')\n",
    "plt.ylabel('Increase in Average Combined MPG')"
   ]
  },
  {
   "cell_type": "code",
   "execution_count": 91,
   "metadata": {},
   "outputs": [
    {
     "data": {
      "text/plain": [
       "veh_class\n",
       "large car        4.900000\n",
       "midsize car      6.282609\n",
       "minivan          1.682353\n",
       "pickup           2.312635\n",
       "small car        4.315948\n",
       "station wagon    5.162745\n",
       "Name: cmb_mpg, dtype: float64"
      ]
     },
     "execution_count": 91,
     "metadata": {},
     "output_type": "execute_result"
    }
   ],
   "source": [
    "inc"
   ]
  },
  {
   "cell_type": "markdown",
   "metadata": {},
   "source": [
    "# Q3. What are the characteristics of SmartWay vehicles? Have they changed over time? (mpg, greenhouse gas)"
   ]
  },
  {
   "cell_type": "markdown",
   "metadata": {},
   "source": [
    "We will analyze this by filtering each dataframe by SmartWay classification and exploring these datasets."
   ]
  },
  {
   "cell_type": "code",
   "execution_count": 92,
   "metadata": {},
   "outputs": [
    {
     "data": {
      "text/plain": [
       "no     607\n",
       "yes    380\n",
       "Name: smartway, dtype: int64"
      ]
     },
     "execution_count": 92,
     "metadata": {},
     "output_type": "execute_result"
    }
   ],
   "source": [
    "df_08.smartway.value_counts()"
   ]
  },
  {
   "cell_type": "code",
   "execution_count": 93,
   "metadata": {},
   "outputs": [],
   "source": [
    "# Get all smartway vehicles in 2008\n",
    "smart_08 = df_08.query('smartway == \"yes\"')"
   ]
  },
  {
   "cell_type": "code",
   "execution_count": 94,
   "metadata": {},
   "outputs": [
    {
     "data": {
      "text/html": [
       "<div>\n",
       "<style scoped>\n",
       "    .dataframe tbody tr th:only-of-type {\n",
       "        vertical-align: middle;\n",
       "    }\n",
       "\n",
       "    .dataframe tbody tr th {\n",
       "        vertical-align: top;\n",
       "    }\n",
       "\n",
       "    .dataframe thead th {\n",
       "        text-align: right;\n",
       "    }\n",
       "</style>\n",
       "<table border=\"1\" class=\"dataframe\">\n",
       "  <thead>\n",
       "    <tr style=\"text-align: right;\">\n",
       "      <th></th>\n",
       "      <th>displ</th>\n",
       "      <th>cyl</th>\n",
       "      <th>air_pollution_score</th>\n",
       "      <th>city_mpg</th>\n",
       "      <th>hwy_mpg</th>\n",
       "      <th>cmb_mpg</th>\n",
       "      <th>greenhouse_gas_score</th>\n",
       "    </tr>\n",
       "  </thead>\n",
       "  <tbody>\n",
       "    <tr>\n",
       "      <th>count</th>\n",
       "      <td>987.000000</td>\n",
       "      <td>987.000000</td>\n",
       "      <td>987.000000</td>\n",
       "      <td>987.000000</td>\n",
       "      <td>987.000000</td>\n",
       "      <td>987.000000</td>\n",
       "      <td>987.000000</td>\n",
       "    </tr>\n",
       "    <tr>\n",
       "      <th>mean</th>\n",
       "      <td>3.497062</td>\n",
       "      <td>6.022290</td>\n",
       "      <td>6.706180</td>\n",
       "      <td>17.386018</td>\n",
       "      <td>24.038501</td>\n",
       "      <td>19.788247</td>\n",
       "      <td>5.196555</td>\n",
       "    </tr>\n",
       "    <tr>\n",
       "      <th>std</th>\n",
       "      <td>1.241483</td>\n",
       "      <td>1.860094</td>\n",
       "      <td>0.983016</td>\n",
       "      <td>4.088018</td>\n",
       "      <td>4.753406</td>\n",
       "      <td>4.251565</td>\n",
       "      <td>1.909692</td>\n",
       "    </tr>\n",
       "    <tr>\n",
       "      <th>min</th>\n",
       "      <td>1.300000</td>\n",
       "      <td>2.000000</td>\n",
       "      <td>4.000000</td>\n",
       "      <td>8.000000</td>\n",
       "      <td>13.000000</td>\n",
       "      <td>10.000000</td>\n",
       "      <td>0.000000</td>\n",
       "    </tr>\n",
       "    <tr>\n",
       "      <th>25%</th>\n",
       "      <td>2.500000</td>\n",
       "      <td>4.000000</td>\n",
       "      <td>6.000000</td>\n",
       "      <td>15.000000</td>\n",
       "      <td>20.000000</td>\n",
       "      <td>17.000000</td>\n",
       "      <td>4.000000</td>\n",
       "    </tr>\n",
       "    <tr>\n",
       "      <th>50%</th>\n",
       "      <td>3.500000</td>\n",
       "      <td>6.000000</td>\n",
       "      <td>6.000000</td>\n",
       "      <td>17.000000</td>\n",
       "      <td>24.000000</td>\n",
       "      <td>20.000000</td>\n",
       "      <td>6.000000</td>\n",
       "    </tr>\n",
       "    <tr>\n",
       "      <th>75%</th>\n",
       "      <td>4.200000</td>\n",
       "      <td>6.000000</td>\n",
       "      <td>7.000000</td>\n",
       "      <td>20.000000</td>\n",
       "      <td>27.000000</td>\n",
       "      <td>22.000000</td>\n",
       "      <td>6.000000</td>\n",
       "    </tr>\n",
       "    <tr>\n",
       "      <th>max</th>\n",
       "      <td>8.400000</td>\n",
       "      <td>16.000000</td>\n",
       "      <td>9.500000</td>\n",
       "      <td>48.000000</td>\n",
       "      <td>45.000000</td>\n",
       "      <td>46.000000</td>\n",
       "      <td>10.000000</td>\n",
       "    </tr>\n",
       "  </tbody>\n",
       "</table>\n",
       "</div>"
      ],
      "text/plain": [
       "            displ         cyl  air_pollution_score    city_mpg     hwy_mpg  \\\n",
       "count  987.000000  987.000000           987.000000  987.000000  987.000000   \n",
       "mean     3.497062    6.022290             6.706180   17.386018   24.038501   \n",
       "std      1.241483    1.860094             0.983016    4.088018    4.753406   \n",
       "min      1.300000    2.000000             4.000000    8.000000   13.000000   \n",
       "25%      2.500000    4.000000             6.000000   15.000000   20.000000   \n",
       "50%      3.500000    6.000000             6.000000   17.000000   24.000000   \n",
       "75%      4.200000    6.000000             7.000000   20.000000   27.000000   \n",
       "max      8.400000   16.000000             9.500000   48.000000   45.000000   \n",
       "\n",
       "          cmb_mpg  greenhouse_gas_score  \n",
       "count  987.000000            987.000000  \n",
       "mean    19.788247              5.196555  \n",
       "std      4.251565              1.909692  \n",
       "min     10.000000              0.000000  \n",
       "25%     17.000000              4.000000  \n",
       "50%     20.000000              6.000000  \n",
       "75%     22.000000              6.000000  \n",
       "max     46.000000             10.000000  "
      ]
     },
     "execution_count": 94,
     "metadata": {},
     "output_type": "execute_result"
    }
   ],
   "source": [
    "df_08.describe()"
   ]
  },
  {
   "cell_type": "code",
   "execution_count": 95,
   "metadata": {},
   "outputs": [
    {
     "data": {
      "text/html": [
       "<div>\n",
       "<style scoped>\n",
       "    .dataframe tbody tr th:only-of-type {\n",
       "        vertical-align: middle;\n",
       "    }\n",
       "\n",
       "    .dataframe tbody tr th {\n",
       "        vertical-align: top;\n",
       "    }\n",
       "\n",
       "    .dataframe thead th {\n",
       "        text-align: right;\n",
       "    }\n",
       "</style>\n",
       "<table border=\"1\" class=\"dataframe\">\n",
       "  <thead>\n",
       "    <tr style=\"text-align: right;\">\n",
       "      <th></th>\n",
       "      <th>displ</th>\n",
       "      <th>cyl</th>\n",
       "      <th>air_pollution_score</th>\n",
       "      <th>city_mpg</th>\n",
       "      <th>hwy_mpg</th>\n",
       "      <th>cmb_mpg</th>\n",
       "      <th>greenhouse_gas_score</th>\n",
       "    </tr>\n",
       "  </thead>\n",
       "  <tbody>\n",
       "    <tr>\n",
       "      <th>count</th>\n",
       "      <td>380.000000</td>\n",
       "      <td>380.000000</td>\n",
       "      <td>380.000000</td>\n",
       "      <td>380.000000</td>\n",
       "      <td>380.000000</td>\n",
       "      <td>380.000000</td>\n",
       "      <td>380.000000</td>\n",
       "    </tr>\n",
       "    <tr>\n",
       "      <th>mean</th>\n",
       "      <td>2.602895</td>\n",
       "      <td>4.826316</td>\n",
       "      <td>7.365789</td>\n",
       "      <td>20.984211</td>\n",
       "      <td>28.413158</td>\n",
       "      <td>23.736842</td>\n",
       "      <td>6.868421</td>\n",
       "    </tr>\n",
       "    <tr>\n",
       "      <th>std</th>\n",
       "      <td>0.623436</td>\n",
       "      <td>1.002025</td>\n",
       "      <td>1.148195</td>\n",
       "      <td>3.442672</td>\n",
       "      <td>3.075194</td>\n",
       "      <td>3.060379</td>\n",
       "      <td>0.827338</td>\n",
       "    </tr>\n",
       "    <tr>\n",
       "      <th>min</th>\n",
       "      <td>1.300000</td>\n",
       "      <td>4.000000</td>\n",
       "      <td>6.000000</td>\n",
       "      <td>17.000000</td>\n",
       "      <td>22.000000</td>\n",
       "      <td>20.000000</td>\n",
       "      <td>6.000000</td>\n",
       "    </tr>\n",
       "    <tr>\n",
       "      <th>25%</th>\n",
       "      <td>2.275000</td>\n",
       "      <td>4.000000</td>\n",
       "      <td>7.000000</td>\n",
       "      <td>19.000000</td>\n",
       "      <td>26.000000</td>\n",
       "      <td>22.000000</td>\n",
       "      <td>6.000000</td>\n",
       "    </tr>\n",
       "    <tr>\n",
       "      <th>50%</th>\n",
       "      <td>2.400000</td>\n",
       "      <td>4.000000</td>\n",
       "      <td>7.000000</td>\n",
       "      <td>20.000000</td>\n",
       "      <td>28.000000</td>\n",
       "      <td>23.000000</td>\n",
       "      <td>7.000000</td>\n",
       "    </tr>\n",
       "    <tr>\n",
       "      <th>75%</th>\n",
       "      <td>3.000000</td>\n",
       "      <td>6.000000</td>\n",
       "      <td>7.000000</td>\n",
       "      <td>22.000000</td>\n",
       "      <td>30.000000</td>\n",
       "      <td>25.000000</td>\n",
       "      <td>7.000000</td>\n",
       "    </tr>\n",
       "    <tr>\n",
       "      <th>max</th>\n",
       "      <td>5.000000</td>\n",
       "      <td>8.000000</td>\n",
       "      <td>9.500000</td>\n",
       "      <td>48.000000</td>\n",
       "      <td>45.000000</td>\n",
       "      <td>46.000000</td>\n",
       "      <td>10.000000</td>\n",
       "    </tr>\n",
       "  </tbody>\n",
       "</table>\n",
       "</div>"
      ],
      "text/plain": [
       "            displ         cyl  air_pollution_score    city_mpg     hwy_mpg  \\\n",
       "count  380.000000  380.000000           380.000000  380.000000  380.000000   \n",
       "mean     2.602895    4.826316             7.365789   20.984211   28.413158   \n",
       "std      0.623436    1.002025             1.148195    3.442672    3.075194   \n",
       "min      1.300000    4.000000             6.000000   17.000000   22.000000   \n",
       "25%      2.275000    4.000000             7.000000   19.000000   26.000000   \n",
       "50%      2.400000    4.000000             7.000000   20.000000   28.000000   \n",
       "75%      3.000000    6.000000             7.000000   22.000000   30.000000   \n",
       "max      5.000000    8.000000             9.500000   48.000000   45.000000   \n",
       "\n",
       "          cmb_mpg  greenhouse_gas_score  \n",
       "count  380.000000            380.000000  \n",
       "mean    23.736842              6.868421  \n",
       "std      3.060379              0.827338  \n",
       "min     20.000000              6.000000  \n",
       "25%     22.000000              6.000000  \n",
       "50%     23.000000              7.000000  \n",
       "75%     25.000000              7.000000  \n",
       "max     46.000000             10.000000  "
      ]
     },
     "execution_count": 95,
     "metadata": {},
     "output_type": "execute_result"
    }
   ],
   "source": [
    "#Explore smartway vehicles in 2008.\n",
    "smart_08.describe()"
   ]
  },
  {
   "cell_type": "code",
   "execution_count": 96,
   "metadata": {},
   "outputs": [
    {
     "data": {
      "text/plain": [
       "No       724\n",
       "Yes       91\n",
       "Elite     17\n",
       "Name: smartway, dtype: int64"
      ]
     },
     "execution_count": 96,
     "metadata": {},
     "output_type": "execute_result"
    }
   ],
   "source": [
    "df_18.smartway.value_counts()"
   ]
  },
  {
   "cell_type": "code",
   "execution_count": 97,
   "metadata": {},
   "outputs": [
    {
     "data": {
      "text/html": [
       "<div>\n",
       "<style scoped>\n",
       "    .dataframe tbody tr th:only-of-type {\n",
       "        vertical-align: middle;\n",
       "    }\n",
       "\n",
       "    .dataframe tbody tr th {\n",
       "        vertical-align: top;\n",
       "    }\n",
       "\n",
       "    .dataframe thead th {\n",
       "        text-align: right;\n",
       "    }\n",
       "</style>\n",
       "<table border=\"1\" class=\"dataframe\">\n",
       "  <thead>\n",
       "    <tr style=\"text-align: right;\">\n",
       "      <th></th>\n",
       "      <th>displ</th>\n",
       "      <th>cyl</th>\n",
       "      <th>air_pollution_score</th>\n",
       "      <th>city_mpg</th>\n",
       "      <th>hwy_mpg</th>\n",
       "      <th>cmb_mpg</th>\n",
       "      <th>greenhouse_gas_score</th>\n",
       "    </tr>\n",
       "  </thead>\n",
       "  <tbody>\n",
       "    <tr>\n",
       "      <th>count</th>\n",
       "      <td>832.000000</td>\n",
       "      <td>832.000000</td>\n",
       "      <td>832.000000</td>\n",
       "      <td>832.000000</td>\n",
       "      <td>832.000000</td>\n",
       "      <td>832.000000</td>\n",
       "      <td>832.000000</td>\n",
       "    </tr>\n",
       "    <tr>\n",
       "      <th>mean</th>\n",
       "      <td>3.077885</td>\n",
       "      <td>5.489183</td>\n",
       "      <td>3.981971</td>\n",
       "      <td>21.348558</td>\n",
       "      <td>28.625000</td>\n",
       "      <td>24.030048</td>\n",
       "      <td>4.750000</td>\n",
       "    </tr>\n",
       "    <tr>\n",
       "      <th>std</th>\n",
       "      <td>1.359600</td>\n",
       "      <td>1.755138</td>\n",
       "      <td>1.816070</td>\n",
       "      <td>8.772764</td>\n",
       "      <td>8.314154</td>\n",
       "      <td>8.483171</td>\n",
       "      <td>1.750365</td>\n",
       "    </tr>\n",
       "    <tr>\n",
       "      <th>min</th>\n",
       "      <td>1.200000</td>\n",
       "      <td>3.000000</td>\n",
       "      <td>1.000000</td>\n",
       "      <td>9.000000</td>\n",
       "      <td>12.000000</td>\n",
       "      <td>10.000000</td>\n",
       "      <td>1.000000</td>\n",
       "    </tr>\n",
       "    <tr>\n",
       "      <th>25%</th>\n",
       "      <td>2.000000</td>\n",
       "      <td>4.000000</td>\n",
       "      <td>3.000000</td>\n",
       "      <td>17.000000</td>\n",
       "      <td>24.000000</td>\n",
       "      <td>19.000000</td>\n",
       "      <td>3.000000</td>\n",
       "    </tr>\n",
       "    <tr>\n",
       "      <th>50%</th>\n",
       "      <td>3.000000</td>\n",
       "      <td>6.000000</td>\n",
       "      <td>3.000000</td>\n",
       "      <td>20.000000</td>\n",
       "      <td>28.000000</td>\n",
       "      <td>23.000000</td>\n",
       "      <td>5.000000</td>\n",
       "    </tr>\n",
       "    <tr>\n",
       "      <th>75%</th>\n",
       "      <td>3.600000</td>\n",
       "      <td>6.000000</td>\n",
       "      <td>5.000000</td>\n",
       "      <td>24.000000</td>\n",
       "      <td>32.000000</td>\n",
       "      <td>27.000000</td>\n",
       "      <td>6.000000</td>\n",
       "    </tr>\n",
       "    <tr>\n",
       "      <th>max</th>\n",
       "      <td>8.000000</td>\n",
       "      <td>16.000000</td>\n",
       "      <td>7.000000</td>\n",
       "      <td>113.000000</td>\n",
       "      <td>99.000000</td>\n",
       "      <td>106.000000</td>\n",
       "      <td>10.000000</td>\n",
       "    </tr>\n",
       "  </tbody>\n",
       "</table>\n",
       "</div>"
      ],
      "text/plain": [
       "            displ         cyl  air_pollution_score    city_mpg     hwy_mpg  \\\n",
       "count  832.000000  832.000000           832.000000  832.000000  832.000000   \n",
       "mean     3.077885    5.489183             3.981971   21.348558   28.625000   \n",
       "std      1.359600    1.755138             1.816070    8.772764    8.314154   \n",
       "min      1.200000    3.000000             1.000000    9.000000   12.000000   \n",
       "25%      2.000000    4.000000             3.000000   17.000000   24.000000   \n",
       "50%      3.000000    6.000000             3.000000   20.000000   28.000000   \n",
       "75%      3.600000    6.000000             5.000000   24.000000   32.000000   \n",
       "max      8.000000   16.000000             7.000000  113.000000   99.000000   \n",
       "\n",
       "          cmb_mpg  greenhouse_gas_score  \n",
       "count  832.000000            832.000000  \n",
       "mean    24.030048              4.750000  \n",
       "std      8.483171              1.750365  \n",
       "min     10.000000              1.000000  \n",
       "25%     19.000000              3.000000  \n",
       "50%     23.000000              5.000000  \n",
       "75%     27.000000              6.000000  \n",
       "max    106.000000             10.000000  "
      ]
     },
     "execution_count": 97,
     "metadata": {},
     "output_type": "execute_result"
    }
   ],
   "source": [
    "df_18.describe()"
   ]
  },
  {
   "cell_type": "code",
   "execution_count": 98,
   "metadata": {},
   "outputs": [
    {
     "data": {
      "text/html": [
       "<div>\n",
       "<style scoped>\n",
       "    .dataframe tbody tr th:only-of-type {\n",
       "        vertical-align: middle;\n",
       "    }\n",
       "\n",
       "    .dataframe tbody tr th {\n",
       "        vertical-align: top;\n",
       "    }\n",
       "\n",
       "    .dataframe thead th {\n",
       "        text-align: right;\n",
       "    }\n",
       "</style>\n",
       "<table border=\"1\" class=\"dataframe\">\n",
       "  <thead>\n",
       "    <tr style=\"text-align: right;\">\n",
       "      <th></th>\n",
       "      <th>displ</th>\n",
       "      <th>cyl</th>\n",
       "      <th>air_pollution_score</th>\n",
       "      <th>city_mpg</th>\n",
       "      <th>hwy_mpg</th>\n",
       "      <th>cmb_mpg</th>\n",
       "      <th>greenhouse_gas_score</th>\n",
       "    </tr>\n",
       "  </thead>\n",
       "  <tbody>\n",
       "    <tr>\n",
       "      <th>count</th>\n",
       "      <td>108.000000</td>\n",
       "      <td>108.000000</td>\n",
       "      <td>108.000000</td>\n",
       "      <td>108.000000</td>\n",
       "      <td>108.000000</td>\n",
       "      <td>108.000000</td>\n",
       "      <td>108.000000</td>\n",
       "    </tr>\n",
       "    <tr>\n",
       "      <th>mean</th>\n",
       "      <td>1.787963</td>\n",
       "      <td>3.935185</td>\n",
       "      <td>5.212963</td>\n",
       "      <td>34.907407</td>\n",
       "      <td>41.472222</td>\n",
       "      <td>37.361111</td>\n",
       "      <td>7.925926</td>\n",
       "    </tr>\n",
       "    <tr>\n",
       "      <th>std</th>\n",
       "      <td>0.408031</td>\n",
       "      <td>0.416329</td>\n",
       "      <td>1.798498</td>\n",
       "      <td>16.431982</td>\n",
       "      <td>13.095236</td>\n",
       "      <td>14.848429</td>\n",
       "      <td>1.197378</td>\n",
       "    </tr>\n",
       "    <tr>\n",
       "      <th>min</th>\n",
       "      <td>1.200000</td>\n",
       "      <td>3.000000</td>\n",
       "      <td>3.000000</td>\n",
       "      <td>25.000000</td>\n",
       "      <td>27.000000</td>\n",
       "      <td>26.000000</td>\n",
       "      <td>7.000000</td>\n",
       "    </tr>\n",
       "    <tr>\n",
       "      <th>25%</th>\n",
       "      <td>1.500000</td>\n",
       "      <td>4.000000</td>\n",
       "      <td>3.000000</td>\n",
       "      <td>28.000000</td>\n",
       "      <td>36.000000</td>\n",
       "      <td>31.000000</td>\n",
       "      <td>7.000000</td>\n",
       "    </tr>\n",
       "    <tr>\n",
       "      <th>50%</th>\n",
       "      <td>1.700000</td>\n",
       "      <td>4.000000</td>\n",
       "      <td>5.500000</td>\n",
       "      <td>28.500000</td>\n",
       "      <td>37.000000</td>\n",
       "      <td>32.000000</td>\n",
       "      <td>7.000000</td>\n",
       "    </tr>\n",
       "    <tr>\n",
       "      <th>75%</th>\n",
       "      <td>2.000000</td>\n",
       "      <td>4.000000</td>\n",
       "      <td>7.000000</td>\n",
       "      <td>31.250000</td>\n",
       "      <td>40.250000</td>\n",
       "      <td>35.000000</td>\n",
       "      <td>9.000000</td>\n",
       "    </tr>\n",
       "    <tr>\n",
       "      <th>max</th>\n",
       "      <td>3.500000</td>\n",
       "      <td>6.000000</td>\n",
       "      <td>7.000000</td>\n",
       "      <td>113.000000</td>\n",
       "      <td>99.000000</td>\n",
       "      <td>106.000000</td>\n",
       "      <td>10.000000</td>\n",
       "    </tr>\n",
       "  </tbody>\n",
       "</table>\n",
       "</div>"
      ],
      "text/plain": [
       "            displ         cyl  air_pollution_score    city_mpg     hwy_mpg  \\\n",
       "count  108.000000  108.000000           108.000000  108.000000  108.000000   \n",
       "mean     1.787963    3.935185             5.212963   34.907407   41.472222   \n",
       "std      0.408031    0.416329             1.798498   16.431982   13.095236   \n",
       "min      1.200000    3.000000             3.000000   25.000000   27.000000   \n",
       "25%      1.500000    4.000000             3.000000   28.000000   36.000000   \n",
       "50%      1.700000    4.000000             5.500000   28.500000   37.000000   \n",
       "75%      2.000000    4.000000             7.000000   31.250000   40.250000   \n",
       "max      3.500000    6.000000             7.000000  113.000000   99.000000   \n",
       "\n",
       "          cmb_mpg  greenhouse_gas_score  \n",
       "count  108.000000            108.000000  \n",
       "mean    37.361111              7.925926  \n",
       "std     14.848429              1.197378  \n",
       "min     26.000000              7.000000  \n",
       "25%     31.000000              7.000000  \n",
       "50%     32.000000              7.000000  \n",
       "75%     35.000000              9.000000  \n",
       "max    106.000000             10.000000  "
      ]
     },
     "execution_count": 98,
     "metadata": {},
     "output_type": "execute_result"
    }
   ],
   "source": [
    "# Get all smartway vehicles in 2018\n",
    "smart_18 = df_18.query('smartway in [\"Yes\",\"Elite\"]')\n",
    "smart_18.describe()"
   ]
  },
  {
   "cell_type": "markdown",
   "metadata": {},
   "source": [
    "Higher fuel economy and better greenhouse gas score are the characteristics of a SmartWay vehicle.\n",
    "\n",
    "The average combined mpg has improved from 23.73 to 37.36 between 2008 to 2018. That is more than top 75% of vehicles in 2008(25.00). That is a significant improvement in the fuel economy of the SmartWay vehicles.\n",
    "\n",
    "The average greenhouse gas score has improved from 6.88 to 7.93 between 2008 to 2018. That is more than top 75% of vehicles in 2008(7.00). That is a significant improvement in the greenhouse gas score of the SmartWay vehicles."
   ]
  },
  {
   "cell_type": "markdown",
   "metadata": {},
   "source": [
    "## Q4: What features are associated with better fuel economy?"
   ]
  },
  {
   "cell_type": "markdown",
   "metadata": {},
   "source": [
    "I am going to explore trends between cmb_mpg and the other features in this dataset, or filter this dataset like in the previous question and explore the properties of that dataset."
   ]
  },
  {
   "cell_type": "code",
   "execution_count": 99,
   "metadata": {},
   "outputs": [
    {
     "data": {
      "text/html": [
       "<div>\n",
       "<style scoped>\n",
       "    .dataframe tbody tr th:only-of-type {\n",
       "        vertical-align: middle;\n",
       "    }\n",
       "\n",
       "    .dataframe tbody tr th {\n",
       "        vertical-align: top;\n",
       "    }\n",
       "\n",
       "    .dataframe thead th {\n",
       "        text-align: right;\n",
       "    }\n",
       "</style>\n",
       "<table border=\"1\" class=\"dataframe\">\n",
       "  <thead>\n",
       "    <tr style=\"text-align: right;\">\n",
       "      <th></th>\n",
       "      <th>displ</th>\n",
       "      <th>cyl</th>\n",
       "      <th>air_pollution_score</th>\n",
       "      <th>city_mpg</th>\n",
       "      <th>hwy_mpg</th>\n",
       "      <th>cmb_mpg</th>\n",
       "      <th>greenhouse_gas_score</th>\n",
       "    </tr>\n",
       "  </thead>\n",
       "  <tbody>\n",
       "    <tr>\n",
       "      <th>count</th>\n",
       "      <td>519.000000</td>\n",
       "      <td>519.000000</td>\n",
       "      <td>519.000000</td>\n",
       "      <td>519.000000</td>\n",
       "      <td>519.000000</td>\n",
       "      <td>519.000000</td>\n",
       "      <td>519.000000</td>\n",
       "    </tr>\n",
       "    <tr>\n",
       "      <th>mean</th>\n",
       "      <td>2.667823</td>\n",
       "      <td>4.890173</td>\n",
       "      <td>6.998073</td>\n",
       "      <td>20.317919</td>\n",
       "      <td>27.603083</td>\n",
       "      <td>22.992293</td>\n",
       "      <td>6.639692</td>\n",
       "    </tr>\n",
       "    <tr>\n",
       "      <th>std</th>\n",
       "      <td>0.665551</td>\n",
       "      <td>1.034856</td>\n",
       "      <td>1.159565</td>\n",
       "      <td>3.198257</td>\n",
       "      <td>3.051120</td>\n",
       "      <td>2.926371</td>\n",
       "      <td>0.804935</td>\n",
       "    </tr>\n",
       "    <tr>\n",
       "      <th>min</th>\n",
       "      <td>1.300000</td>\n",
       "      <td>4.000000</td>\n",
       "      <td>4.000000</td>\n",
       "      <td>17.000000</td>\n",
       "      <td>20.000000</td>\n",
       "      <td>20.000000</td>\n",
       "      <td>6.000000</td>\n",
       "    </tr>\n",
       "    <tr>\n",
       "      <th>25%</th>\n",
       "      <td>2.300000</td>\n",
       "      <td>4.000000</td>\n",
       "      <td>6.000000</td>\n",
       "      <td>18.000000</td>\n",
       "      <td>25.000000</td>\n",
       "      <td>21.000000</td>\n",
       "      <td>6.000000</td>\n",
       "    </tr>\n",
       "    <tr>\n",
       "      <th>50%</th>\n",
       "      <td>2.500000</td>\n",
       "      <td>4.000000</td>\n",
       "      <td>7.000000</td>\n",
       "      <td>20.000000</td>\n",
       "      <td>27.000000</td>\n",
       "      <td>22.000000</td>\n",
       "      <td>6.000000</td>\n",
       "    </tr>\n",
       "    <tr>\n",
       "      <th>75%</th>\n",
       "      <td>3.000000</td>\n",
       "      <td>6.000000</td>\n",
       "      <td>7.000000</td>\n",
       "      <td>21.000000</td>\n",
       "      <td>29.000000</td>\n",
       "      <td>24.000000</td>\n",
       "      <td>7.000000</td>\n",
       "    </tr>\n",
       "    <tr>\n",
       "      <th>max</th>\n",
       "      <td>6.000000</td>\n",
       "      <td>8.000000</td>\n",
       "      <td>9.500000</td>\n",
       "      <td>48.000000</td>\n",
       "      <td>45.000000</td>\n",
       "      <td>46.000000</td>\n",
       "      <td>10.000000</td>\n",
       "    </tr>\n",
       "  </tbody>\n",
       "</table>\n",
       "</div>"
      ],
      "text/plain": [
       "            displ         cyl  air_pollution_score    city_mpg     hwy_mpg  \\\n",
       "count  519.000000  519.000000           519.000000  519.000000  519.000000   \n",
       "mean     2.667823    4.890173             6.998073   20.317919   27.603083   \n",
       "std      0.665551    1.034856             1.159565    3.198257    3.051120   \n",
       "min      1.300000    4.000000             4.000000   17.000000   20.000000   \n",
       "25%      2.300000    4.000000             6.000000   18.000000   25.000000   \n",
       "50%      2.500000    4.000000             7.000000   20.000000   27.000000   \n",
       "75%      3.000000    6.000000             7.000000   21.000000   29.000000   \n",
       "max      6.000000    8.000000             9.500000   48.000000   45.000000   \n",
       "\n",
       "          cmb_mpg  greenhouse_gas_score  \n",
       "count  519.000000            519.000000  \n",
       "mean    22.992293              6.639692  \n",
       "std      2.926371              0.804935  \n",
       "min     20.000000              6.000000  \n",
       "25%     21.000000              6.000000  \n",
       "50%     22.000000              6.000000  \n",
       "75%     24.000000              7.000000  \n",
       "max     46.000000             10.000000  "
      ]
     },
     "execution_count": 99,
     "metadata": {},
     "output_type": "execute_result"
    }
   ],
   "source": [
    "top_08 = df_08.query('cmb_mpg > cmb_mpg.mean()')\n",
    "top_08.describe()"
   ]
  },
  {
   "cell_type": "code",
   "execution_count": 100,
   "metadata": {},
   "outputs": [
    {
     "data": {
      "text/html": [
       "<div>\n",
       "<style scoped>\n",
       "    .dataframe tbody tr th:only-of-type {\n",
       "        vertical-align: middle;\n",
       "    }\n",
       "\n",
       "    .dataframe tbody tr th {\n",
       "        vertical-align: top;\n",
       "    }\n",
       "\n",
       "    .dataframe thead th {\n",
       "        text-align: right;\n",
       "    }\n",
       "</style>\n",
       "<table border=\"1\" class=\"dataframe\">\n",
       "  <thead>\n",
       "    <tr style=\"text-align: right;\">\n",
       "      <th></th>\n",
       "      <th>displ</th>\n",
       "      <th>cyl</th>\n",
       "      <th>air_pollution_score</th>\n",
       "      <th>city_mpg</th>\n",
       "      <th>hwy_mpg</th>\n",
       "      <th>cmb_mpg</th>\n",
       "      <th>greenhouse_gas_score</th>\n",
       "    </tr>\n",
       "  </thead>\n",
       "  <tbody>\n",
       "    <tr>\n",
       "      <th>count</th>\n",
       "      <td>328.000000</td>\n",
       "      <td>328.000000</td>\n",
       "      <td>328.000000</td>\n",
       "      <td>328.000000</td>\n",
       "      <td>328.000000</td>\n",
       "      <td>328.000000</td>\n",
       "      <td>328.000000</td>\n",
       "    </tr>\n",
       "    <tr>\n",
       "      <th>mean</th>\n",
       "      <td>1.964329</td>\n",
       "      <td>4.021341</td>\n",
       "      <td>4.856707</td>\n",
       "      <td>27.472561</td>\n",
       "      <td>35.304878</td>\n",
       "      <td>30.411585</td>\n",
       "      <td>6.329268</td>\n",
       "    </tr>\n",
       "    <tr>\n",
       "      <th>std</th>\n",
       "      <td>0.398593</td>\n",
       "      <td>0.465477</td>\n",
       "      <td>1.860802</td>\n",
       "      <td>11.033692</td>\n",
       "      <td>9.024857</td>\n",
       "      <td>10.081539</td>\n",
       "      <td>1.410358</td>\n",
       "    </tr>\n",
       "    <tr>\n",
       "      <th>min</th>\n",
       "      <td>1.200000</td>\n",
       "      <td>3.000000</td>\n",
       "      <td>1.000000</td>\n",
       "      <td>21.000000</td>\n",
       "      <td>27.000000</td>\n",
       "      <td>25.000000</td>\n",
       "      <td>4.000000</td>\n",
       "    </tr>\n",
       "    <tr>\n",
       "      <th>25%</th>\n",
       "      <td>1.600000</td>\n",
       "      <td>4.000000</td>\n",
       "      <td>3.000000</td>\n",
       "      <td>23.000000</td>\n",
       "      <td>31.000000</td>\n",
       "      <td>26.000000</td>\n",
       "      <td>5.000000</td>\n",
       "    </tr>\n",
       "    <tr>\n",
       "      <th>50%</th>\n",
       "      <td>2.000000</td>\n",
       "      <td>4.000000</td>\n",
       "      <td>5.000000</td>\n",
       "      <td>25.000000</td>\n",
       "      <td>33.000000</td>\n",
       "      <td>28.000000</td>\n",
       "      <td>6.000000</td>\n",
       "    </tr>\n",
       "    <tr>\n",
       "      <th>75%</th>\n",
       "      <td>2.000000</td>\n",
       "      <td>4.000000</td>\n",
       "      <td>7.000000</td>\n",
       "      <td>28.000000</td>\n",
       "      <td>36.000000</td>\n",
       "      <td>31.000000</td>\n",
       "      <td>7.000000</td>\n",
       "    </tr>\n",
       "    <tr>\n",
       "      <th>max</th>\n",
       "      <td>3.500000</td>\n",
       "      <td>6.000000</td>\n",
       "      <td>7.000000</td>\n",
       "      <td>113.000000</td>\n",
       "      <td>99.000000</td>\n",
       "      <td>106.000000</td>\n",
       "      <td>10.000000</td>\n",
       "    </tr>\n",
       "  </tbody>\n",
       "</table>\n",
       "</div>"
      ],
      "text/plain": [
       "            displ         cyl  air_pollution_score    city_mpg     hwy_mpg  \\\n",
       "count  328.000000  328.000000           328.000000  328.000000  328.000000   \n",
       "mean     1.964329    4.021341             4.856707   27.472561   35.304878   \n",
       "std      0.398593    0.465477             1.860802   11.033692    9.024857   \n",
       "min      1.200000    3.000000             1.000000   21.000000   27.000000   \n",
       "25%      1.600000    4.000000             3.000000   23.000000   31.000000   \n",
       "50%      2.000000    4.000000             5.000000   25.000000   33.000000   \n",
       "75%      2.000000    4.000000             7.000000   28.000000   36.000000   \n",
       "max      3.500000    6.000000             7.000000  113.000000   99.000000   \n",
       "\n",
       "          cmb_mpg  greenhouse_gas_score  \n",
       "count  328.000000            328.000000  \n",
       "mean    30.411585              6.329268  \n",
       "std     10.081539              1.410358  \n",
       "min     25.000000              4.000000  \n",
       "25%     26.000000              5.000000  \n",
       "50%     28.000000              6.000000  \n",
       "75%     31.000000              7.000000  \n",
       "max    106.000000             10.000000  "
      ]
     },
     "execution_count": 100,
     "metadata": {},
     "output_type": "execute_result"
    }
   ],
   "source": [
    "top_18 = df_18.query('cmb_mpg > cmb_mpg.mean()')\n",
    "top_18.describe()"
   ]
  },
  {
   "cell_type": "markdown",
   "metadata": {},
   "source": [
    "Fewer number of cyl and lower displacement for vehicles is associated with better fuel economy."
   ]
  },
  {
   "cell_type": "markdown",
   "metadata": {},
   "source": [
    "### Q5: For all of the models that were produced in 2008 that are still being produced in 2018, how much has the mpg improved and which vehicle improved the most?\n",
    "This is a question regarding models that were updated since 2008 and still being produced in 2018. In order to do this, we need a way to compare models that exist in both datasets. To do this, we are goig to merge two datasets."
   ]
  },
  {
   "cell_type": "markdown",
   "metadata": {},
   "source": [
    "### Creat combined dataset"
   ]
  },
  {
   "cell_type": "code",
   "execution_count": 101,
   "metadata": {},
   "outputs": [],
   "source": [
    "#rename 2008 dataset\n",
    "df_08.rename(columns=lambda x :x[:10]+ \"_2008\", inplace=True)"
   ]
  },
  {
   "cell_type": "code",
   "execution_count": 102,
   "metadata": {},
   "outputs": [
    {
     "data": {
      "text/html": [
       "<div>\n",
       "<style scoped>\n",
       "    .dataframe tbody tr th:only-of-type {\n",
       "        vertical-align: middle;\n",
       "    }\n",
       "\n",
       "    .dataframe tbody tr th {\n",
       "        vertical-align: top;\n",
       "    }\n",
       "\n",
       "    .dataframe thead th {\n",
       "        text-align: right;\n",
       "    }\n",
       "</style>\n",
       "<table border=\"1\" class=\"dataframe\">\n",
       "  <thead>\n",
       "    <tr style=\"text-align: right;\">\n",
       "      <th></th>\n",
       "      <th>model_2008</th>\n",
       "      <th>displ_2008</th>\n",
       "      <th>cyl_2008</th>\n",
       "      <th>trans_2008</th>\n",
       "      <th>drive_2008</th>\n",
       "      <th>fuel_2008</th>\n",
       "      <th>veh_class_2008</th>\n",
       "      <th>air_pollut_2008</th>\n",
       "      <th>city_mpg_2008</th>\n",
       "      <th>hwy_mpg_2008</th>\n",
       "      <th>cmb_mpg_2008</th>\n",
       "      <th>greenhouse_2008</th>\n",
       "      <th>smartway_2008</th>\n",
       "    </tr>\n",
       "  </thead>\n",
       "  <tbody>\n",
       "    <tr>\n",
       "      <th>0</th>\n",
       "      <td>ACURA MDX</td>\n",
       "      <td>3.7</td>\n",
       "      <td>6</td>\n",
       "      <td>Auto-S5</td>\n",
       "      <td>4WD</td>\n",
       "      <td>Gasoline</td>\n",
       "      <td>SUV</td>\n",
       "      <td>7.0</td>\n",
       "      <td>15.0</td>\n",
       "      <td>20.0</td>\n",
       "      <td>17.0</td>\n",
       "      <td>4</td>\n",
       "      <td>no</td>\n",
       "    </tr>\n",
       "  </tbody>\n",
       "</table>\n",
       "</div>"
      ],
      "text/plain": [
       "  model_2008  displ_2008  cyl_2008 trans_2008 drive_2008 fuel_2008  \\\n",
       "0  ACURA MDX         3.7         6    Auto-S5        4WD  Gasoline   \n",
       "\n",
       "  veh_class_2008  air_pollut_2008  city_mpg_2008  hwy_mpg_2008  cmb_mpg_2008  \\\n",
       "0            SUV              7.0           15.0          20.0          17.0   \n",
       "\n",
       "   greenhouse_2008 smartway_2008  \n",
       "0                4            no  "
      ]
     },
     "execution_count": 102,
     "metadata": {},
     "output_type": "execute_result"
    }
   ],
   "source": [
    "#check the name\n",
    "df_08.head(1)"
   ]
  },
  {
   "cell_type": "code",
   "execution_count": 103,
   "metadata": {},
   "outputs": [],
   "source": [
    "#merge data set\n",
    "df_combined = df_08.merge(df_18, how = 'inner', left_on='model_2008', right_on='model')"
   ]
  },
  {
   "cell_type": "code",
   "execution_count": 104,
   "metadata": {},
   "outputs": [
    {
     "data": {
      "text/html": [
       "<div>\n",
       "<style scoped>\n",
       "    .dataframe tbody tr th:only-of-type {\n",
       "        vertical-align: middle;\n",
       "    }\n",
       "\n",
       "    .dataframe tbody tr th {\n",
       "        vertical-align: top;\n",
       "    }\n",
       "\n",
       "    .dataframe thead th {\n",
       "        text-align: right;\n",
       "    }\n",
       "</style>\n",
       "<table border=\"1\" class=\"dataframe\">\n",
       "  <thead>\n",
       "    <tr style=\"text-align: right;\">\n",
       "      <th></th>\n",
       "      <th>model_2008</th>\n",
       "      <th>displ_2008</th>\n",
       "      <th>cyl_2008</th>\n",
       "      <th>trans_2008</th>\n",
       "      <th>drive_2008</th>\n",
       "      <th>fuel_2008</th>\n",
       "      <th>veh_class_2008</th>\n",
       "      <th>air_pollut_2008</th>\n",
       "      <th>city_mpg_2008</th>\n",
       "      <th>hwy_mpg_2008</th>\n",
       "      <th>...</th>\n",
       "      <th>trans</th>\n",
       "      <th>drive</th>\n",
       "      <th>fuel</th>\n",
       "      <th>veh_class</th>\n",
       "      <th>air_pollution_score</th>\n",
       "      <th>city_mpg</th>\n",
       "      <th>hwy_mpg</th>\n",
       "      <th>cmb_mpg</th>\n",
       "      <th>greenhouse_gas_score</th>\n",
       "      <th>smartway</th>\n",
       "    </tr>\n",
       "  </thead>\n",
       "  <tbody>\n",
       "    <tr>\n",
       "      <th>0</th>\n",
       "      <td>ACURA RDX</td>\n",
       "      <td>2.3</td>\n",
       "      <td>4</td>\n",
       "      <td>Auto-S5</td>\n",
       "      <td>4WD</td>\n",
       "      <td>Gasoline</td>\n",
       "      <td>SUV</td>\n",
       "      <td>7.0</td>\n",
       "      <td>17.0</td>\n",
       "      <td>22.0</td>\n",
       "      <td>...</td>\n",
       "      <td>SemiAuto-6</td>\n",
       "      <td>2WD</td>\n",
       "      <td>Gasoline</td>\n",
       "      <td>small SUV</td>\n",
       "      <td>3.0</td>\n",
       "      <td>20.0</td>\n",
       "      <td>28.0</td>\n",
       "      <td>23.0</td>\n",
       "      <td>5</td>\n",
       "      <td>No</td>\n",
       "    </tr>\n",
       "    <tr>\n",
       "      <th>1</th>\n",
       "      <td>ACURA RDX</td>\n",
       "      <td>2.3</td>\n",
       "      <td>4</td>\n",
       "      <td>Auto-S5</td>\n",
       "      <td>4WD</td>\n",
       "      <td>Gasoline</td>\n",
       "      <td>SUV</td>\n",
       "      <td>7.0</td>\n",
       "      <td>17.0</td>\n",
       "      <td>22.0</td>\n",
       "      <td>...</td>\n",
       "      <td>SemiAuto-6</td>\n",
       "      <td>4WD</td>\n",
       "      <td>Gasoline</td>\n",
       "      <td>small SUV</td>\n",
       "      <td>3.0</td>\n",
       "      <td>19.0</td>\n",
       "      <td>27.0</td>\n",
       "      <td>22.0</td>\n",
       "      <td>4</td>\n",
       "      <td>No</td>\n",
       "    </tr>\n",
       "    <tr>\n",
       "      <th>2</th>\n",
       "      <td>AUDI A3</td>\n",
       "      <td>2.0</td>\n",
       "      <td>4</td>\n",
       "      <td>Man-6</td>\n",
       "      <td>2WD</td>\n",
       "      <td>Gasoline</td>\n",
       "      <td>station wagon</td>\n",
       "      <td>7.0</td>\n",
       "      <td>21.0</td>\n",
       "      <td>29.0</td>\n",
       "      <td>...</td>\n",
       "      <td>AMS-6</td>\n",
       "      <td>4WD</td>\n",
       "      <td>Gasoline</td>\n",
       "      <td>small car</td>\n",
       "      <td>7.0</td>\n",
       "      <td>24.0</td>\n",
       "      <td>31.0</td>\n",
       "      <td>27.0</td>\n",
       "      <td>6</td>\n",
       "      <td>No</td>\n",
       "    </tr>\n",
       "    <tr>\n",
       "      <th>3</th>\n",
       "      <td>AUDI A3</td>\n",
       "      <td>2.0</td>\n",
       "      <td>4</td>\n",
       "      <td>Man-6</td>\n",
       "      <td>2WD</td>\n",
       "      <td>Gasoline</td>\n",
       "      <td>station wagon</td>\n",
       "      <td>7.0</td>\n",
       "      <td>21.0</td>\n",
       "      <td>29.0</td>\n",
       "      <td>...</td>\n",
       "      <td>AMS-7</td>\n",
       "      <td>2WD</td>\n",
       "      <td>Gasoline</td>\n",
       "      <td>small car</td>\n",
       "      <td>7.0</td>\n",
       "      <td>26.0</td>\n",
       "      <td>35.0</td>\n",
       "      <td>29.0</td>\n",
       "      <td>6</td>\n",
       "      <td>No</td>\n",
       "    </tr>\n",
       "    <tr>\n",
       "      <th>4</th>\n",
       "      <td>AUDI A3</td>\n",
       "      <td>2.0</td>\n",
       "      <td>4</td>\n",
       "      <td>Auto-S6</td>\n",
       "      <td>2WD</td>\n",
       "      <td>Gasoline</td>\n",
       "      <td>station wagon</td>\n",
       "      <td>7.0</td>\n",
       "      <td>22.0</td>\n",
       "      <td>29.0</td>\n",
       "      <td>...</td>\n",
       "      <td>AMS-6</td>\n",
       "      <td>4WD</td>\n",
       "      <td>Gasoline</td>\n",
       "      <td>small car</td>\n",
       "      <td>7.0</td>\n",
       "      <td>24.0</td>\n",
       "      <td>31.0</td>\n",
       "      <td>27.0</td>\n",
       "      <td>6</td>\n",
       "      <td>No</td>\n",
       "    </tr>\n",
       "  </tbody>\n",
       "</table>\n",
       "<p>5 rows × 26 columns</p>\n",
       "</div>"
      ],
      "text/plain": [
       "  model_2008  displ_2008  cyl_2008 trans_2008 drive_2008 fuel_2008  \\\n",
       "0  ACURA RDX         2.3         4    Auto-S5        4WD  Gasoline   \n",
       "1  ACURA RDX         2.3         4    Auto-S5        4WD  Gasoline   \n",
       "2    AUDI A3         2.0         4      Man-6        2WD  Gasoline   \n",
       "3    AUDI A3         2.0         4      Man-6        2WD  Gasoline   \n",
       "4    AUDI A3         2.0         4    Auto-S6        2WD  Gasoline   \n",
       "\n",
       "  veh_class_2008  air_pollut_2008  city_mpg_2008  hwy_mpg_2008  ...  \\\n",
       "0            SUV              7.0           17.0          22.0  ...   \n",
       "1            SUV              7.0           17.0          22.0  ...   \n",
       "2  station wagon              7.0           21.0          29.0  ...   \n",
       "3  station wagon              7.0           21.0          29.0  ...   \n",
       "4  station wagon              7.0           22.0          29.0  ...   \n",
       "\n",
       "        trans  drive      fuel  veh_class  air_pollution_score  city_mpg  \\\n",
       "0  SemiAuto-6    2WD  Gasoline  small SUV                  3.0      20.0   \n",
       "1  SemiAuto-6    4WD  Gasoline  small SUV                  3.0      19.0   \n",
       "2       AMS-6    4WD  Gasoline  small car                  7.0      24.0   \n",
       "3       AMS-7    2WD  Gasoline  small car                  7.0      26.0   \n",
       "4       AMS-6    4WD  Gasoline  small car                  7.0      24.0   \n",
       "\n",
       "  hwy_mpg cmb_mpg greenhouse_gas_score smartway  \n",
       "0    28.0    23.0                    5       No  \n",
       "1    27.0    22.0                    4       No  \n",
       "2    31.0    27.0                    6       No  \n",
       "3    35.0    29.0                    6       No  \n",
       "4    31.0    27.0                    6       No  \n",
       "\n",
       "[5 rows x 26 columns]"
      ]
     },
     "execution_count": 104,
     "metadata": {},
     "output_type": "execute_result"
    }
   ],
   "source": [
    "# check the df_combined\n",
    "df_combined.head()"
   ]
  },
  {
   "cell_type": "markdown",
   "metadata": {},
   "source": [
    "### 1. Create a new dataframe, `model_mpg`, that contain the mean combined mpg values in 2008 and 2018 for each unique model\n",
    "\n",
    "To do this, we wil group by `model` and find the mean `cmb_mpg_2008` and mean `cmb_mpg` for each."
   ]
  },
  {
   "cell_type": "code",
   "execution_count": 105,
   "metadata": {},
   "outputs": [],
   "source": [
    "model_mpg = df_combined.groupby('model').mean()[['cmb_mpg_2008','cmb_mpg']]"
   ]
  },
  {
   "cell_type": "code",
   "execution_count": 106,
   "metadata": {},
   "outputs": [
    {
     "data": {
      "text/html": [
       "<div>\n",
       "<style scoped>\n",
       "    .dataframe tbody tr th:only-of-type {\n",
       "        vertical-align: middle;\n",
       "    }\n",
       "\n",
       "    .dataframe tbody tr th {\n",
       "        vertical-align: top;\n",
       "    }\n",
       "\n",
       "    .dataframe thead th {\n",
       "        text-align: right;\n",
       "    }\n",
       "</style>\n",
       "<table border=\"1\" class=\"dataframe\">\n",
       "  <thead>\n",
       "    <tr style=\"text-align: right;\">\n",
       "      <th></th>\n",
       "      <th>cmb_mpg_2008</th>\n",
       "      <th>cmb_mpg</th>\n",
       "    </tr>\n",
       "    <tr>\n",
       "      <th>model</th>\n",
       "      <th></th>\n",
       "      <th></th>\n",
       "    </tr>\n",
       "  </thead>\n",
       "  <tbody>\n",
       "    <tr>\n",
       "      <th>ACURA RDX</th>\n",
       "      <td>19.000000</td>\n",
       "      <td>22.500000</td>\n",
       "    </tr>\n",
       "    <tr>\n",
       "      <th>AUDI A3</th>\n",
       "      <td>23.333333</td>\n",
       "      <td>28.000000</td>\n",
       "    </tr>\n",
       "    <tr>\n",
       "      <th>AUDI A4</th>\n",
       "      <td>21.000000</td>\n",
       "      <td>27.000000</td>\n",
       "    </tr>\n",
       "    <tr>\n",
       "      <th>AUDI A6</th>\n",
       "      <td>19.666667</td>\n",
       "      <td>25.666667</td>\n",
       "    </tr>\n",
       "    <tr>\n",
       "      <th>AUDI A8 L</th>\n",
       "      <td>16.500000</td>\n",
       "      <td>22.000000</td>\n",
       "    </tr>\n",
       "  </tbody>\n",
       "</table>\n",
       "</div>"
      ],
      "text/plain": [
       "           cmb_mpg_2008    cmb_mpg\n",
       "model                             \n",
       "ACURA RDX     19.000000  22.500000\n",
       "AUDI A3       23.333333  28.000000\n",
       "AUDI A4       21.000000  27.000000\n",
       "AUDI A6       19.666667  25.666667\n",
       "AUDI A8 L     16.500000  22.000000"
      ]
     },
     "execution_count": 106,
     "metadata": {},
     "output_type": "execute_result"
    }
   ],
   "source": [
    "model_mpg.head()"
   ]
  },
  {
   "cell_type": "markdown",
   "metadata": {},
   "source": [
    "### 2. Create a new column, `mpg_change`, with the change in mpg\n",
    "Subtract the mean mpg in 2008 from that in 2018 to get the change in mpg"
   ]
  },
  {
   "cell_type": "code",
   "execution_count": 107,
   "metadata": {},
   "outputs": [],
   "source": [
    "model_mpg['mpg_change'] = model_mpg['cmb_mpg'] - model_mpg['cmb_mpg_2008']"
   ]
  },
  {
   "cell_type": "code",
   "execution_count": 108,
   "metadata": {},
   "outputs": [
    {
     "data": {
      "text/html": [
       "<div>\n",
       "<style scoped>\n",
       "    .dataframe tbody tr th:only-of-type {\n",
       "        vertical-align: middle;\n",
       "    }\n",
       "\n",
       "    .dataframe tbody tr th {\n",
       "        vertical-align: top;\n",
       "    }\n",
       "\n",
       "    .dataframe thead th {\n",
       "        text-align: right;\n",
       "    }\n",
       "</style>\n",
       "<table border=\"1\" class=\"dataframe\">\n",
       "  <thead>\n",
       "    <tr style=\"text-align: right;\">\n",
       "      <th></th>\n",
       "      <th>cmb_mpg_2008</th>\n",
       "      <th>cmb_mpg</th>\n",
       "      <th>mpg_change</th>\n",
       "    </tr>\n",
       "    <tr>\n",
       "      <th>model</th>\n",
       "      <th></th>\n",
       "      <th></th>\n",
       "      <th></th>\n",
       "    </tr>\n",
       "  </thead>\n",
       "  <tbody>\n",
       "    <tr>\n",
       "      <th>ACURA RDX</th>\n",
       "      <td>19.000000</td>\n",
       "      <td>22.500000</td>\n",
       "      <td>3.500000</td>\n",
       "    </tr>\n",
       "    <tr>\n",
       "      <th>AUDI A3</th>\n",
       "      <td>23.333333</td>\n",
       "      <td>28.000000</td>\n",
       "      <td>4.666667</td>\n",
       "    </tr>\n",
       "    <tr>\n",
       "      <th>AUDI A4</th>\n",
       "      <td>21.000000</td>\n",
       "      <td>27.000000</td>\n",
       "      <td>6.000000</td>\n",
       "    </tr>\n",
       "    <tr>\n",
       "      <th>AUDI A6</th>\n",
       "      <td>19.666667</td>\n",
       "      <td>25.666667</td>\n",
       "      <td>6.000000</td>\n",
       "    </tr>\n",
       "    <tr>\n",
       "      <th>AUDI A8 L</th>\n",
       "      <td>16.500000</td>\n",
       "      <td>22.000000</td>\n",
       "      <td>5.500000</td>\n",
       "    </tr>\n",
       "  </tbody>\n",
       "</table>\n",
       "</div>"
      ],
      "text/plain": [
       "           cmb_mpg_2008    cmb_mpg  mpg_change\n",
       "model                                         \n",
       "ACURA RDX     19.000000  22.500000    3.500000\n",
       "AUDI A3       23.333333  28.000000    4.666667\n",
       "AUDI A4       21.000000  27.000000    6.000000\n",
       "AUDI A6       19.666667  25.666667    6.000000\n",
       "AUDI A8 L     16.500000  22.000000    5.500000"
      ]
     },
     "execution_count": 108,
     "metadata": {},
     "output_type": "execute_result"
    }
   ],
   "source": [
    "model_mpg.head()"
   ]
  },
  {
   "cell_type": "code",
   "execution_count": 109,
   "metadata": {},
   "outputs": [
    {
     "data": {
      "text/plain": [
       "3.718554593554593"
      ]
     },
     "execution_count": 109,
     "metadata": {},
     "output_type": "execute_result"
    }
   ],
   "source": [
    "model_mpg.mpg_change.mean()"
   ]
  },
  {
   "cell_type": "markdown",
   "metadata": {},
   "source": [
    "### 3. Find the vehicle that improved the most\n",
    "Find the max mpg change, and then use query or indexing to see what model it is!"
   ]
  },
  {
   "cell_type": "code",
   "execution_count": 110,
   "metadata": {},
   "outputs": [
    {
     "data": {
      "text/plain": [
       "16.53333333333334"
      ]
     },
     "execution_count": 110,
     "metadata": {},
     "output_type": "execute_result"
    }
   ],
   "source": [
    "max_change = model_mpg.mpg_change.max()\n",
    "max_change"
   ]
  },
  {
   "cell_type": "code",
   "execution_count": 111,
   "metadata": {},
   "outputs": [
    {
     "data": {
      "text/html": [
       "<div>\n",
       "<style scoped>\n",
       "    .dataframe tbody tr th:only-of-type {\n",
       "        vertical-align: middle;\n",
       "    }\n",
       "\n",
       "    .dataframe tbody tr th {\n",
       "        vertical-align: top;\n",
       "    }\n",
       "\n",
       "    .dataframe thead th {\n",
       "        text-align: right;\n",
       "    }\n",
       "</style>\n",
       "<table border=\"1\" class=\"dataframe\">\n",
       "  <thead>\n",
       "    <tr style=\"text-align: right;\">\n",
       "      <th></th>\n",
       "      <th>cmb_mpg_2008</th>\n",
       "      <th>cmb_mpg</th>\n",
       "      <th>mpg_change</th>\n",
       "    </tr>\n",
       "    <tr>\n",
       "      <th>model</th>\n",
       "      <th></th>\n",
       "      <th></th>\n",
       "      <th></th>\n",
       "    </tr>\n",
       "  </thead>\n",
       "  <tbody>\n",
       "    <tr>\n",
       "      <th>VOLVO XC 90</th>\n",
       "      <td>15.666667</td>\n",
       "      <td>32.2</td>\n",
       "      <td>16.533333</td>\n",
       "    </tr>\n",
       "  </tbody>\n",
       "</table>\n",
       "</div>"
      ],
      "text/plain": [
       "             cmb_mpg_2008  cmb_mpg  mpg_change\n",
       "model                                         \n",
       "VOLVO XC 90     15.666667     32.2   16.533333"
      ]
     },
     "execution_count": 111,
     "metadata": {},
     "output_type": "execute_result"
    }
   ],
   "source": [
    "model_mpg[model_mpg['mpg_change'] == max_change]"
   ]
  },
  {
   "cell_type": "markdown",
   "metadata": {},
   "source": [
    "### 3. Find the vehicle that improved the most\n",
    "Find the max mpg change, and then use query or indexing to see what model it is!"
   ]
  },
  {
   "cell_type": "markdown",
   "metadata": {},
   "source": [
    "Pandas also has a useful [`idxmax`](https://pandas.pydata.org/pandas-docs/stable/generated/pandas.DataFrame.idxmax.html) function you can use to find the index of the row containing a column's maximum value!"
   ]
  },
  {
   "cell_type": "code",
   "execution_count": 112,
   "metadata": {},
   "outputs": [
    {
     "data": {
      "text/plain": [
       "'VOLVO XC 90'"
      ]
     },
     "execution_count": 112,
     "metadata": {},
     "output_type": "execute_result"
    }
   ],
   "source": [
    "idx = model_mpg.mpg_change.idxmax()\n",
    "idx"
   ]
  },
  {
   "cell_type": "code",
   "execution_count": 113,
   "metadata": {},
   "outputs": [
    {
     "data": {
      "text/plain": [
       "cmb_mpg_2008    15.666667\n",
       "cmb_mpg         32.200000\n",
       "mpg_change      16.533333\n",
       "Name: VOLVO XC 90, dtype: float64"
      ]
     },
     "execution_count": 113,
     "metadata": {},
     "output_type": "execute_result"
    }
   ],
   "source": [
    "model_mpg.loc[idx]"
   ]
  },
  {
   "cell_type": "markdown",
   "metadata": {},
   "source": [
    "# Conclusion\n",
    "### Q1. Are more unique models using alternative fuels in 2018 compared to 2008? By how much?\n",
    "- Since 2008, the number of unique models using alternative sources of fuel increased by 24.\n",
    "### Q2. How much have vehicle classes improved in fuel economy (increased in mpg)?\n",
    "\n",
    "|   veh_class   |    mpg   |\n",
    "|:-------------:|:--------:|\n",
    "| large car     | 4.900000 |\n",
    "| midsize car   | 6.282609 |\n",
    "| minivan       | 1.682353 |\n",
    "| pickup        | 2.312635 |\n",
    "| small car     | 4.315948 |\n",
    "| station wagon | 5.162745 |\n",
    "\n",
    "### Q3. What are the characteristics of SmartWay vehicles? Have they changed over time? (mpg, greenhouse gas)\n",
    "- Higher fuel economy and better greenhouse gas score are the characteristics of a SmartWay vehicle.\n",
    "\n",
    "- The average combined mpg has improved from 23.73 to 37.36 between 2008 to 2018. That is more than top 75% of vehicles in 2008(25.00). That is a significant improvement in the fuel economy of the SmartWay vehicles.\n",
    "\n",
    "- The average greenhouse gas score has improved from 6.88 to 7.93 between 2008 to 2018. That is more than top 75% of vehicles in 2008(7.00). That is a significant improvement in the greenhouse gas score of the SmartWay vehicles.\n",
    "### Q4. What features are associated with better fuel economy (mpg)?\n",
    "- Fewer number of cyl and lower displacement for vehicles is associated with better fuel economy.\n",
    "### Q5. For all of the models that were produced in 2008 that are still being produced in 2018, how much has the mpg improved and which vehicle improved the most?\n",
    "- For all the models that were produced in 2008 and are stil produced in 2018 the fuel economy has improved by 3.72 mpg.\n",
    "- 'VOLVO XC 90'has improved the most."
   ]
  },
  {
   "cell_type": "markdown",
   "metadata": {},
   "source": [
    "### Data Source\n",
    "Below are the web pages from this video. Note that the datasets we'll be working with are slightly simpler than those found here.\n",
    "\n",
    "[EPA Fuel Economy Testing](https://www.epa.gov/compliance-and-fuel-economy-data/data-cars-used-testing-fuel-economy)\n",
    "\n",
    "[DOE Fuel Economy Data](https://www.fueleconomy.gov/feg/download.shtml/)\n",
    "\n",
    "\n",
    "### Using Documentation to Understand Data\n",
    "To help you answer the following questions.\n",
    "\n",
    "[README.txt](http://www.fueleconomy.gov/feg/epadata/Readme.txt)\n",
    "\n",
    "[PDF link](http://www.fueleconomy.gov/feg/EPAGreenGuide/GreenVehicleGuideDocumentation.pdf)\n",
    "\n",
    "### Understand Important Variables\n",
    "\n",
    "1. Model – vehicle make and model\n",
    "2. Displ – engine displacement in liters\n",
    "3. Cyl – number of engine cylinders\n",
    "4. Trans – transmission type plus number of gears\n",
    "    - Auto - Automatic\n",
    "    - Man - Manual\n",
    "    - SemiAuto - Semi-Automatic\n",
    "    - SCV - Selectable Continuously Variable (e.g. CVT with paddles)\n",
    "    - AutoMan - Automated Manual\n",
    "    - AMS - Automated Manual-Selectable (e.g. Automated Manual with paddles)\n",
    "    - Other - Other\n",
    "    - CVT - Continuously Variable\n",
    "    - CM3 - Creeper/Manual 3-Speed\n",
    "    - CM4 - Creeper/Manual 4-Speed\n",
    "    - C4 - Creeper/Manual 4-Speed\n",
    "    - C5 - Creeper/Manual 5-Speed\n",
    "    - Auto-S2 - Semi-Automatic 2-Speed\n",
    "    - Auto-S3 - Semi-Automatic 3-Speed\n",
    "    - Auto-S4 - Semi-Automatic 4-Speed\n",
    "    - Auto-S5 - Semi-Automatic 5-Speed\n",
    "    - Auto-S6 - Semi-Automatic 6-Speed\n",
    "    - Auto-S7 - Semi-Automatic 7-Speed\n",
    "5. Drive – 2-wheel Drive, 4-wheel drive/all-wheel drive\n",
    "6. Fuel – fuel(s)\n",
    "7. Cert Region –\n",
    "    - CA - California\n",
    "    - CE - Calif. + NLEV (Northeast trading area)\n",
    "    - CF - Clean Fuel Vehicle\n",
    "    - CL - Calif. + NLEV (All states)\n",
    "    - FA - Federal All Altitude\n",
    "    - FC - Tier 2 Federal and Calif.\n",
    "    - NF - CFV + NLEV(ASTR) + Calif.\n",
    "    - NL - NLEV (All states)\n",
    "    \n",
    "8. Stnd – vehicle emissions standard code. See Stnd Description."
   ]
  }
 ],
 "metadata": {
  "kernelspec": {
   "display_name": "Python 3",
   "language": "python",
   "name": "python3"
  },
  "language_info": {
   "codemirror_mode": {
    "name": "ipython",
    "version": 3
   },
   "file_extension": ".py",
   "mimetype": "text/x-python",
   "name": "python",
   "nbconvert_exporter": "python",
   "pygments_lexer": "ipython3",
   "version": "3.8.3"
  }
 },
 "nbformat": 4,
 "nbformat_minor": 4
}
